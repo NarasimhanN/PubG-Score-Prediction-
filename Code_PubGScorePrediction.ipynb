{
  "cells": [
    {
      "cell_type": "markdown",
      "metadata": {
        "id": "QFOicWvJuaY8"
      },
      "source": [
        "\n",
        "\n",
        "---\n",
        "# Init\n",
        "\n",
        "\n",
        "---\n",
        "\n"
      ]
    },
    {
      "cell_type": "markdown",
      "metadata": {
        "id": "ODnZcSVqHz1C"
      },
      "source": []
    },
    {
      "attachments": {},
      "cell_type": "markdown",
      "metadata": {},
      "source": [
        "Team : Minus One\n",
        "\n",
        "members :\n",
        "\n",
        "Narasimhan N( MT2022062)\n",
        "\n",
        "Sreenidhi K R ( MT2022115)"
      ]
    },
    {
      "cell_type": "code",
      "execution_count": null,
      "metadata": {
        "id": "3jZThQYurmwo"
      },
      "outputs": [],
      "source": [
        "import numpy as np\n",
        "import matplotlib.pyplot as plt\n",
        "import pandas as pd\n",
        "import math\n",
        "import seaborn as sns \n",
        "from sklearn.feature_selection import mutual_info_regression\n",
        "from sklearn.model_selection import train_test_split\n",
        "from lightgbm import LGBMRegressor"
      ]
    },
    {
      "cell_type": "code",
      "execution_count": null,
      "metadata": {
        "id": "m8r9ZU7gUs2N"
      },
      "outputs": [],
      "source": [
        "dev_mode = 0"
      ]
    },
    {
      "cell_type": "code",
      "execution_count": null,
      "metadata": {
        "colab": {
          "base_uri": "https://localhost:8080/"
        },
        "id": "MrVwkI8x-p_j",
        "outputId": "54ddbfee-64a3-4122-d982-5346d458a97c"
      },
      "outputs": [
        {
          "name": "stdout",
          "output_type": "stream",
          "text": [
            "Mounted at /content/drive\n"
          ]
        }
      ],
      "source": [
        "from google.colab import drive\n",
        "drive.mount('/content/drive')"
      ]
    },
    {
      "cell_type": "code",
      "execution_count": null,
      "metadata": {
        "id": "tweQ7KmgrdZL"
      },
      "outputs": [],
      "source": [
        "# traindf = pd.read_csv('/Users/sreenidhikr/Development/pubg-version-3/train_up.csv')\n",
        "traindf = pd.read_csv('/content/drive/MyDrive/pubg/train_up.csv')\n",
        "\n",
        "if(dev_mode):\n",
        "  df = traindf.head(2100000)\n",
        "  testdf = traindf.tail(1012876)\n",
        "  \n",
        "else :\n",
        "  df = traindf.copy()\n",
        "  # testdf = pd.read_csv('/Users/sreenidhikr/Development/pubg-version-3/test_up.csv')\n",
        "  testdf = pd.read_csv('/content/drive/MyDrive/pubg/test_up.csv')\n",
        "\n"
      ]
    },
    {
      "cell_type": "code",
      "execution_count": null,
      "metadata": {
        "colab": {
          "base_uri": "https://localhost:8080/"
        },
        "id": "7BxosmboTx7C",
        "outputId": "8131cab8-846f-41f4-8202-e70fec76f600"
      },
      "outputs": [
        {
          "name": "stderr",
          "output_type": "stream",
          "text": [
            "<ipython-input-20-a86a97bf760e>:4: FutureWarning: Passing a negative integer is deprecated in version 1.0 and will not be supported in future version. Instead, use None to not limit the column width.\n",
            "  pd.set_option('max_colwidth', -1)\n"
          ]
        }
      ],
      "source": [
        "# To Expand columns \n",
        "pd.set_option('display.max_columns', None)\n",
        "pd.set_option('display.expand_frame_repr', False)\n",
        "pd.set_option('max_colwidth', -1)\n",
        "\n",
        "#ignore warnings\n",
        "pd.options.mode.chained_assignment = None \n",
        "\n",
        "pd.set_option('display.max_columns', None)\n",
        "pd.set_option('display.max_rows', None)"
      ]
    },
    {
      "cell_type": "code",
      "execution_count": null,
      "metadata": {
        "colab": {
          "base_uri": "https://localhost:8080/"
        },
        "id": "8SbppyvuhkU1",
        "outputId": "e82f332d-84e2-42fd-e3cd-f25fe8b6e880"
      },
      "outputs": [
        {
          "name": "stdout",
          "output_type": "stream",
          "text": [
            "(3112876, 29)\n",
            "(3112876, 29)\n",
            "(1334090, 28)\n"
          ]
        }
      ],
      "source": [
        "print(traindf.shape)\n",
        "print(df.shape)\n",
        "print(testdf.shape)"
      ]
    },
    {
      "cell_type": "markdown",
      "metadata": {
        "id": "HdkWQdZ6rMSf"
      },
      "source": [
        "Presetting the datatypes\n",
        "Python automatically reads the data type, which causes a lot of memory waste. So if we know in advance the memory we will set up, we can use it much more effectively.\n",
        "\n",
        "iterate through all the columns of a dataframe and modify the data type to reduce memory usage.\n",
        "\n",
        "Memory saving function credit to https://www.kaggle.com/gemartin/load-data-reduce-memory-usage"
      ]
    },
    {
      "cell_type": "code",
      "execution_count": null,
      "metadata": {
        "id": "nsXVyAdYoYcE"
      },
      "outputs": [],
      "source": [
        "# def reduceMemory(df):\n",
        "#     import numpy as np\n",
        "\n",
        "#     for col in df.columns:\n",
        "#         col_type = df[col].dtype\n",
        "\n",
        "#         if col_type != object:\n",
        "#             c_min = df[col].min()\n",
        "#             c_max = df[col].max()\n",
        "#             if str(col_type)[:3] == 'int':\n",
        "#                 if c_min > np.iinfo(np.int8).min and c_max < np.iinfo(np.int8).max:\n",
        "#                     df[col] = df[col].astype(np.int8)\n",
        "#                 elif c_min > np.iinfo(np.int16).min and c_max < np.iinfo(np.int16).max:\n",
        "#                     df[col] = df[col].astype(np.int16)\n",
        "#                 elif c_min > np.iinfo(np.int32).min and c_max < np.iinfo(np.int32).max:\n",
        "#                     df[col] = df[col].astype(np.int32)\n",
        "#                 elif c_min > np.iinfo(np.int64).min and c_max < np.iinfo(np.int64).max:\n",
        "#                     df[col] = df[col].astype(np.int64)  \n",
        "#             else:\n",
        "#                 if c_min > np.finfo(np.float16).min and c_max < np.finfo(np.float16).max:\n",
        "#                     df[col] = df[col].astype(np.float16)\n",
        "#                 elif c_min > np.finfo(np.float32).min and c_max < np.finfo(np.float32).max:\n",
        "#                     df[col] = df[col].astype(np.float32)\n",
        "#                 else:\n",
        "#                     df[col] = df[col].astype(np.float64)\n",
        "\n",
        "#     return df\n",
        "# df = reduceMemory(df)"
      ]
    },
    {
      "cell_type": "code",
      "execution_count": null,
      "metadata": {
        "colab": {
          "base_uri": "https://localhost:8080/"
        },
        "id": "j-nzoXD89gVS",
        "outputId": "ad2e397f-147b-42c8-d2fa-2145cbdab20e"
      },
      "outputs": [
        {
          "name": "stdout",
          "output_type": "stream",
          "text": [
            "-- The C compiler identification is GNU 7.5.0\n",
            "-- The CXX compiler identification is GNU 7.5.0\n",
            "-- Detecting C compiler ABI info\n",
            "-- Detecting C compiler ABI info - done\n",
            "-- Check for working C compiler: /usr/bin/cc - skipped\n",
            "-- Detecting C compile features\n",
            "-- Detecting C compile features - done\n",
            "-- Detecting CXX compiler ABI info\n",
            "-- Detecting CXX compiler ABI info - done\n",
            "-- Check for working CXX compiler: /usr/bin/c++ - skipped\n",
            "-- Detecting CXX compile features\n",
            "-- Detecting CXX compile features - done\n",
            "-- Found OpenMP_C: -fopenmp (found version \"4.5\") \n",
            "-- Found OpenMP_CXX: -fopenmp (found version \"4.5\") \n",
            "-- Found OpenMP: TRUE (found version \"4.5\")  \n",
            "-- Looking for CL_VERSION_2_2\n",
            "-- Looking for CL_VERSION_2_2 - found\n",
            "-- Found OpenCL: /usr/lib/x86_64-linux-gnu/libOpenCL.so (found version \"2.2\") \n",
            "-- OpenCL include directory: /usr/include\n",
            "-- Found Boost: /usr/include (found suitable version \"1.65.1\", minimum required is \"1.56.0\") found components: filesystem system \n",
            "-- Performing Test MM_PREFETCH\n",
            "-- Performing Test MM_PREFETCH - Success\n",
            "-- Using _mm_prefetch\n",
            "-- Performing Test MM_MALLOC\n",
            "-- Performing Test MM_MALLOC - Success\n",
            "-- Using _mm_malloc\n",
            "-- Configuring done\n",
            "-- Generating done\n",
            "-- Build files have been written to: /content/LightGBM/build\n",
            "[  1%] \u001b[32mBuilding CXX object CMakeFiles/lightgbm_capi_objs.dir/src/c_api.cpp.o\u001b[0m\n",
            "[  3%] \u001b[32mBuilding CXX object CMakeFiles/lightgbm_objs.dir/src/boosting/gbdt.cpp.o\u001b[0m\n",
            "[  5%] \u001b[32mBuilding CXX object CMakeFiles/lightgbm_objs.dir/src/boosting/boosting.cpp.o\u001b[0m\n",
            "[  7%] \u001b[32mBuilding CXX object CMakeFiles/lightgbm_objs.dir/src/boosting/cuda/cuda_score_updater.cpp.o\u001b[0m\n",
            "[  9%] \u001b[32mBuilding CXX object CMakeFiles/lightgbm_objs.dir/src/boosting/gbdt_model_text.cpp.o\u001b[0m\n",
            "[ 11%] \u001b[32mBuilding CXX object CMakeFiles/lightgbm_objs.dir/src/boosting/gbdt_prediction.cpp.o\u001b[0m\n",
            "[ 13%] \u001b[32mBuilding CXX object CMakeFiles/lightgbm_objs.dir/src/boosting/prediction_early_stop.cpp.o\u001b[0m\n",
            "[ 15%] \u001b[32mBuilding CXX object CMakeFiles/lightgbm_objs.dir/src/cuda/cuda_utils.cpp.o\u001b[0m\n",
            "[ 17%] \u001b[32mBuilding CXX object CMakeFiles/lightgbm_objs.dir/src/io/bin.cpp.o\u001b[0m\n",
            "[ 19%] \u001b[32mBuilding CXX object CMakeFiles/lightgbm_objs.dir/src/io/config.cpp.o\u001b[0m\n",
            "[ 21%] \u001b[32mBuilding CXX object CMakeFiles/lightgbm_objs.dir/src/io/config_auto.cpp.o\u001b[0m\n",
            "[ 21%] Built target lightgbm_capi_objs\n",
            "[ 23%] \u001b[32mBuilding CXX object CMakeFiles/lightgbm_objs.dir/src/io/cuda/cuda_column_data.cpp.o\u001b[0m\n",
            "[ 25%] \u001b[32mBuilding CXX object CMakeFiles/lightgbm_objs.dir/src/io/cuda/cuda_metadata.cpp.o\u001b[0m\n",
            "[ 26%] \u001b[32mBuilding CXX object CMakeFiles/lightgbm_objs.dir/src/io/cuda/cuda_row_data.cpp.o\u001b[0m\n",
            "[ 28%] \u001b[32mBuilding CXX object CMakeFiles/lightgbm_objs.dir/src/io/cuda/cuda_tree.cpp.o\u001b[0m\n",
            "[ 30%] \u001b[32mBuilding CXX object CMakeFiles/lightgbm_objs.dir/src/io/dataset.cpp.o\u001b[0m\n",
            "[ 32%] \u001b[32mBuilding CXX object CMakeFiles/lightgbm_objs.dir/src/io/dataset_loader.cpp.o\u001b[0m\n",
            "[ 34%] \u001b[32mBuilding CXX object CMakeFiles/lightgbm_objs.dir/src/io/file_io.cpp.o\u001b[0m\n",
            "[ 36%] \u001b[32mBuilding CXX object CMakeFiles/lightgbm_objs.dir/src/io/json11.cpp.o\u001b[0m\n",
            "[ 38%] \u001b[32mBuilding CXX object CMakeFiles/lightgbm_objs.dir/src/io/metadata.cpp.o\u001b[0m\n",
            "[ 40%] \u001b[32mBuilding CXX object CMakeFiles/lightgbm_objs.dir/src/io/parser.cpp.o\u001b[0m\n",
            "[ 42%] \u001b[32mBuilding CXX object CMakeFiles/lightgbm_objs.dir/src/io/train_share_states.cpp.o\u001b[0m\n",
            "[ 44%] \u001b[32mBuilding CXX object CMakeFiles/lightgbm_objs.dir/src/io/tree.cpp.o\u001b[0m\n",
            "[ 46%] \u001b[32mBuilding CXX object CMakeFiles/lightgbm_objs.dir/src/metric/dcg_calculator.cpp.o\u001b[0m\n",
            "[ 48%] \u001b[32mBuilding CXX object CMakeFiles/lightgbm_objs.dir/src/metric/cuda/cuda_regression_metric.cpp.o\u001b[0m\n",
            "[ 50%] \u001b[32mBuilding CXX object CMakeFiles/lightgbm_objs.dir/src/metric/metric.cpp.o\u001b[0m\n",
            "[ 51%] \u001b[32mBuilding CXX object CMakeFiles/lightgbm_objs.dir/src/network/linker_topo.cpp.o\u001b[0m\n",
            "[ 53%] \u001b[32mBuilding CXX object CMakeFiles/lightgbm_objs.dir/src/network/linkers_mpi.cpp.o\u001b[0m\n",
            "[ 55%] \u001b[32mBuilding CXX object CMakeFiles/lightgbm_objs.dir/src/network/linkers_socket.cpp.o\u001b[0m\n",
            "[ 57%] \u001b[32mBuilding CXX object CMakeFiles/lightgbm_objs.dir/src/network/network.cpp.o\u001b[0m\n",
            "[ 59%] \u001b[32mBuilding CXX object CMakeFiles/lightgbm_objs.dir/src/objective/cuda/cuda_binary_objective.cpp.o\u001b[0m\n",
            "[ 61%] \u001b[32mBuilding CXX object CMakeFiles/lightgbm_objs.dir/src/objective/cuda/cuda_multiclass_objective.cpp.o\u001b[0m\n",
            "[ 63%] \u001b[32mBuilding CXX object CMakeFiles/lightgbm_objs.dir/src/objective/cuda/cuda_rank_objective.cpp.o\u001b[0m\n",
            "[ 65%] \u001b[32mBuilding CXX object CMakeFiles/lightgbm_objs.dir/src/objective/cuda/cuda_regression_objective.cpp.o\u001b[0m\n",
            "[ 67%] \u001b[32mBuilding CXX object CMakeFiles/lightgbm_objs.dir/src/objective/objective_function.cpp.o\u001b[0m\n",
            "[ 69%] \u001b[32mBuilding CXX object CMakeFiles/lightgbm_objs.dir/src/treelearner/cuda/cuda_best_split_finder.cpp.o\u001b[0m\n",
            "[ 71%] \u001b[32mBuilding CXX object CMakeFiles/lightgbm_objs.dir/src/treelearner/cuda/cuda_data_partition.cpp.o\u001b[0m\n",
            "[ 73%] \u001b[32mBuilding CXX object CMakeFiles/lightgbm_objs.dir/src/treelearner/cuda/cuda_histogram_constructor.cpp.o\u001b[0m\n",
            "[ 75%] \u001b[32mBuilding CXX object CMakeFiles/lightgbm_objs.dir/src/treelearner/cuda/cuda_leaf_splits.cpp.o\u001b[0m\n",
            "[ 76%] \u001b[32mBuilding CXX object CMakeFiles/lightgbm_objs.dir/src/treelearner/cuda/cuda_single_gpu_tree_learner.cpp.o\u001b[0m\n",
            "[ 78%] \u001b[32mBuilding CXX object CMakeFiles/lightgbm_objs.dir/src/treelearner/cuda_tree_learner.cpp.o\u001b[0m\n",
            "[ 80%] \u001b[32mBuilding CXX object CMakeFiles/lightgbm_objs.dir/src/treelearner/data_parallel_tree_learner.cpp.o\u001b[0m\n",
            "[ 82%] \u001b[32mBuilding CXX object CMakeFiles/lightgbm_objs.dir/src/treelearner/feature_parallel_tree_learner.cpp.o\u001b[0m\n",
            "[ 84%] \u001b[32mBuilding CXX object CMakeFiles/lightgbm_objs.dir/src/treelearner/gpu_tree_learner.cpp.o\u001b[0m\n",
            "[ 86%] \u001b[32mBuilding CXX object CMakeFiles/lightgbm_objs.dir/src/treelearner/linear_tree_learner.cpp.o\u001b[0m\n",
            "[ 88%] \u001b[32mBuilding CXX object CMakeFiles/lightgbm_objs.dir/src/treelearner/serial_tree_learner.cpp.o\u001b[0m\n",
            "[ 90%] \u001b[32mBuilding CXX object CMakeFiles/lightgbm_objs.dir/src/treelearner/tree_learner.cpp.o\u001b[0m\n",
            "[ 92%] \u001b[32mBuilding CXX object CMakeFiles/lightgbm_objs.dir/src/treelearner/voting_parallel_tree_learner.cpp.o\u001b[0m\n",
            "[ 92%] Built target lightgbm_objs\n",
            "[ 94%] \u001b[32m\u001b[1mLinking CXX shared library ../lib_lightgbm.so\u001b[0m\n",
            "[ 96%] \u001b[32mBuilding CXX object CMakeFiles/lightgbm.dir/src/main.cpp.o\u001b[0m\n",
            "[ 98%] \u001b[32mBuilding CXX object CMakeFiles/lightgbm.dir/src/application/application.cpp.o\u001b[0m\n",
            "[ 98%] Built target _lightgbm\n",
            "[100%] \u001b[32m\u001b[1mLinking CXX executable ../lightgbm\u001b[0m\n",
            "[100%] Built target lightgbm\n",
            "running install\n",
            "running build\n",
            "running build_py\n",
            "Generating grammar tables from /usr/lib/python3.8/lib2to3/Grammar.txt\n",
            "Generating grammar tables from /usr/lib/python3.8/lib2to3/PatternGrammar.txt\n",
            "creating build\n",
            "creating build/lib\n",
            "creating build/lib/lightgbm\n",
            "copying lightgbm/callback.py -> build/lib/lightgbm\n",
            "copying lightgbm/dask.py -> build/lib/lightgbm\n",
            "copying lightgbm/plotting.py -> build/lib/lightgbm\n",
            "copying lightgbm/engine.py -> build/lib/lightgbm\n",
            "copying lightgbm/__init__.py -> build/lib/lightgbm\n",
            "copying lightgbm/basic.py -> build/lib/lightgbm\n",
            "copying lightgbm/libpath.py -> build/lib/lightgbm\n",
            "copying lightgbm/sklearn.py -> build/lib/lightgbm\n",
            "copying lightgbm/compat.py -> build/lib/lightgbm\n",
            "running egg_info\n",
            "creating lightgbm.egg-info\n",
            "writing lightgbm.egg-info/PKG-INFO\n",
            "writing dependency_links to lightgbm.egg-info/dependency_links.txt\n",
            "writing requirements to lightgbm.egg-info/requires.txt\n",
            "writing top-level names to lightgbm.egg-info/top_level.txt\n",
            "writing manifest file 'lightgbm.egg-info/SOURCES.txt'\n",
            "reading manifest template 'MANIFEST.in'\n",
            "no previously-included directories found matching 'build'\n",
            "warning: no files found matching 'LICENSE'\n",
            "warning: no files found matching '*.txt'\n",
            "warning: no files found matching '*.so' under directory 'lightgbm'\n",
            "warning: no files found matching 'compile/CMakeLists.txt'\n",
            "warning: no files found matching 'compile/cmake/IntegratedOpenCL.cmake'\n",
            "warning: no files found matching '*.so' under directory 'compile'\n",
            "warning: no files found matching '*.dll' under directory 'compile/Release'\n",
            "warning: no files found matching 'compile/external_libs/compute/CMakeLists.txt'\n",
            "warning: no files found matching '*' under directory 'compile/external_libs/compute/cmake'\n",
            "warning: no files found matching '*' under directory 'compile/external_libs/compute/include'\n",
            "warning: no files found matching '*' under directory 'compile/external_libs/compute/meta'\n",
            "warning: no files found matching 'compile/external_libs/eigen/CMakeLists.txt'\n",
            "warning: no files found matching 'compile/external_libs/eigen/Eigen/Cholesky'\n",
            "warning: no files found matching 'compile/external_libs/eigen/Eigen/Core'\n",
            "warning: no files found matching 'compile/external_libs/eigen/Eigen/Dense'\n",
            "warning: no files found matching 'compile/external_libs/eigen/Eigen/Eigenvalues'\n",
            "warning: no files found matching 'compile/external_libs/eigen/Eigen/Geometry'\n",
            "warning: no files found matching 'compile/external_libs/eigen/Eigen/Householder'\n",
            "warning: no files found matching 'compile/external_libs/eigen/Eigen/Jacobi'\n",
            "warning: no files found matching 'compile/external_libs/eigen/Eigen/LU'\n",
            "warning: no files found matching 'compile/external_libs/eigen/Eigen/QR'\n",
            "warning: no files found matching 'compile/external_libs/eigen/Eigen/SVD'\n",
            "warning: no files found matching '*' under directory 'compile/external_libs/eigen/Eigen/src/Cholesky'\n",
            "warning: no files found matching '*' under directory 'compile/external_libs/eigen/Eigen/src/Core'\n",
            "warning: no files found matching '*' under directory 'compile/external_libs/eigen/Eigen/src/Eigenvalues'\n",
            "warning: no files found matching '*' under directory 'compile/external_libs/eigen/Eigen/src/Geometry'\n",
            "warning: no files found matching '*' under directory 'compile/external_libs/eigen/Eigen/src/Householder'\n",
            "warning: no files found matching '*' under directory 'compile/external_libs/eigen/Eigen/src/Jacobi'\n",
            "warning: no files found matching '*' under directory 'compile/external_libs/eigen/Eigen/src/LU'\n",
            "warning: no files found matching '*' under directory 'compile/external_libs/eigen/Eigen/src/misc'\n",
            "warning: no files found matching '*' under directory 'compile/external_libs/eigen/Eigen/src/plugins'\n",
            "warning: no files found matching '*' under directory 'compile/external_libs/eigen/Eigen/src/QR'\n",
            "warning: no files found matching '*' under directory 'compile/external_libs/eigen/Eigen/src/SVD'\n",
            "warning: no files found matching 'compile/external_libs/fast_double_parser/CMakeLists.txt'\n",
            "warning: no files found matching 'compile/external_libs/fast_double_parser/LICENSE'\n",
            "warning: no files found matching 'compile/external_libs/fast_double_parser/LICENSE.BSL'\n",
            "warning: no files found matching '*' under directory 'compile/external_libs/fast_double_parser/include'\n",
            "warning: no files found matching 'compile/external_libs/fmt/CMakeLists.txt'\n",
            "warning: no files found matching 'compile/external_libs/fmt/LICENSE.rst'\n",
            "warning: no files found matching '*' under directory 'compile/external_libs/fmt/include'\n",
            "warning: no files found matching '*' under directory 'compile/include'\n",
            "warning: no files found matching '*' under directory 'compile/src'\n",
            "warning: no files found matching 'LightGBM.sln' under directory 'compile/windows'\n",
            "warning: no files found matching 'LightGBM.vcxproj' under directory 'compile/windows'\n",
            "warning: no files found matching '*.dll' under directory 'compile/windows/x64/DLL'\n",
            "warning: no previously-included files matching '*.py[co]' found anywhere in distribution\n",
            "warning: no previously-included files found matching 'compile/external_libs/compute/.git'\n",
            "writing manifest file 'lightgbm.egg-info/SOURCES.txt'\n",
            "copying lightgbm/VERSION.txt -> build/lib/lightgbm\n",
            "running install_lib\n",
            "copying build/lib/lightgbm/callback.py -> /usr/local/lib/python3.8/dist-packages/lightgbm\n",
            "copying build/lib/lightgbm/dask.py -> /usr/local/lib/python3.8/dist-packages/lightgbm\n",
            "copying build/lib/lightgbm/VERSION.txt -> /usr/local/lib/python3.8/dist-packages/lightgbm\n",
            "copying build/lib/lightgbm/plotting.py -> /usr/local/lib/python3.8/dist-packages/lightgbm\n",
            "copying build/lib/lightgbm/engine.py -> /usr/local/lib/python3.8/dist-packages/lightgbm\n",
            "copying build/lib/lightgbm/__init__.py -> /usr/local/lib/python3.8/dist-packages/lightgbm\n",
            "copying build/lib/lightgbm/basic.py -> /usr/local/lib/python3.8/dist-packages/lightgbm\n",
            "copying build/lib/lightgbm/libpath.py -> /usr/local/lib/python3.8/dist-packages/lightgbm\n",
            "copying build/lib/lightgbm/sklearn.py -> /usr/local/lib/python3.8/dist-packages/lightgbm\n",
            "copying build/lib/lightgbm/compat.py -> /usr/local/lib/python3.8/dist-packages/lightgbm\n",
            "Installing lib_lightgbm from: ['/content/LightGBM/lib_lightgbm.so']\n",
            "copying /content/LightGBM/lib_lightgbm.so -> /usr/local/lib/python3.8/dist-packages/lightgbm\n",
            "byte-compiling /usr/local/lib/python3.8/dist-packages/lightgbm/callback.py to callback.cpython-38.pyc\n",
            "byte-compiling /usr/local/lib/python3.8/dist-packages/lightgbm/dask.py to dask.cpython-38.pyc\n",
            "byte-compiling /usr/local/lib/python3.8/dist-packages/lightgbm/plotting.py to plotting.cpython-38.pyc\n",
            "byte-compiling /usr/local/lib/python3.8/dist-packages/lightgbm/engine.py to engine.cpython-38.pyc\n",
            "byte-compiling /usr/local/lib/python3.8/dist-packages/lightgbm/__init__.py to __init__.cpython-38.pyc\n",
            "byte-compiling /usr/local/lib/python3.8/dist-packages/lightgbm/basic.py to basic.cpython-38.pyc\n",
            "byte-compiling /usr/local/lib/python3.8/dist-packages/lightgbm/libpath.py to libpath.cpython-38.pyc\n",
            "byte-compiling /usr/local/lib/python3.8/dist-packages/lightgbm/sklearn.py to sklearn.cpython-38.pyc\n",
            "byte-compiling /usr/local/lib/python3.8/dist-packages/lightgbm/compat.py to compat.cpython-38.pyc\n",
            "running install_egg_info\n",
            "Copying lightgbm.egg-info to /usr/local/lib/python3.8/dist-packages/lightgbm-3.3.3.99-py3.8.egg-info\n",
            "running install_scripts\n"
          ]
        }
      ],
      "source": [
        "#You can run this oneliner which will build and compile LightGBM with GPU enabled in colab:\n",
        "#! cd LightGBM && rm -rf build && mkdir build && cd build && cmake -DUSE_GPU=1 ../../LightGBM && make -j4 && cd ../python-package && python3 setup.py install --precompile --gpu; "
      ]
    },
    {
      "cell_type": "code",
      "execution_count": null,
      "metadata": {
        "colab": {
          "base_uri": "https://localhost:8080/"
        },
        "id": "fBeoX-xt9ihX",
        "outputId": "5d7289b2-a25d-4744-d27f-922764d0d2a9"
      },
      "outputs": [
        {
          "name": "stdout",
          "output_type": "stream",
          "text": [
            "Cloning into 'LightGBM'...\n",
            "remote: Enumerating objects: 28146, done.\u001b[K\n",
            "remote: Counting objects: 100% (184/184), done.\u001b[K\n",
            "remote: Compressing objects: 100% (111/111), done.\u001b[K\n",
            "remote: Total 28146 (delta 79), reused 159 (delta 70), pack-reused 27962\u001b[K\n",
            "Receiving objects: 100% (28146/28146), 19.92 MiB | 11.70 MiB/s, done.\n",
            "Resolving deltas: 100% (20793/20793), done.\n",
            "Submodule 'include/boost/compute' (https://github.com/boostorg/compute) registered for path 'external_libs/compute'\n",
            "Submodule 'eigen' (https://gitlab.com/libeigen/eigen.git) registered for path 'external_libs/eigen'\n",
            "Submodule 'external_libs/fast_double_parser' (https://github.com/lemire/fast_double_parser.git) registered for path 'external_libs/fast_double_parser'\n",
            "Submodule 'external_libs/fmt' (https://github.com/fmtlib/fmt.git) registered for path 'external_libs/fmt'\n",
            "Cloning into '/content/LightGBM/external_libs/compute'...\n",
            "remote: Enumerating objects: 21733, done.        \n",
            "remote: Counting objects: 100% (5/5), done.        \n",
            "remote: Compressing objects: 100% (4/4), done.        \n",
            "remote: Total 21733 (delta 1), reused 3 (delta 1), pack-reused 21728        \n",
            "Receiving objects: 100% (21733/21733), 8.51 MiB | 14.41 MiB/s, done.\n",
            "Resolving deltas: 100% (17567/17567), done.\n",
            "Cloning into '/content/LightGBM/external_libs/eigen'...\n",
            "remote: Enumerating objects: 117460, done.        \n",
            "remote: Counting objects: 100% (547/547), done.        \n",
            "remote: Compressing objects: 100% (189/189), done.        \n",
            "remote: Total 117460 (delta 358), reused 543 (delta 355), pack-reused 116913        \n",
            "Receiving objects: 100% (117460/117460), 102.96 MiB | 24.38 MiB/s, done.\n",
            "Resolving deltas: 100% (96939/96939), done.\n",
            "Cloning into '/content/LightGBM/external_libs/fast_double_parser'...\n",
            "remote: Enumerating objects: 769, done.        \n",
            "remote: Counting objects: 100% (168/168), done.        \n",
            "remote: Compressing objects: 100% (60/60), done.        \n",
            "remote: Total 769 (delta 119), reused 122 (delta 99), pack-reused 601        \n",
            "Receiving objects: 100% (769/769), 830.75 KiB | 1.85 MiB/s, done.\n",
            "Resolving deltas: 100% (390/390), done.\n",
            "Cloning into '/content/LightGBM/external_libs/fmt'...\n",
            "remote: Enumerating objects: 30960, done.        \n",
            "remote: Counting objects: 100% (152/152), done.        \n",
            "remote: Compressing objects: 100% (90/90), done.        \n",
            "remote: Total 30960 (delta 76), reused 115 (delta 49), pack-reused 30808        \n",
            "Receiving objects: 100% (30960/30960), 13.72 MiB | 17.47 MiB/s, done.\n",
            "Resolving deltas: 100% (20945/20945), done.\n",
            "Submodule path 'external_libs/compute': checked out '36350b7de849300bd3d72a05d8bf890ca405a014'\n",
            "Submodule path 'external_libs/eigen': checked out '3147391d946bb4b6c68edd901f2add6ac1f31f8c'\n",
            "Submodule path 'external_libs/fast_double_parser': checked out 'ace60646c02dc54c57f19d644e49a61e7e7758ec'\n",
            "Submodule 'benchmark/dependencies/abseil-cpp' (https://github.com/abseil/abseil-cpp.git) registered for path 'external_libs/fast_double_parser/benchmarks/dependencies/abseil-cpp'\n",
            "Submodule 'benchmark/dependencies/double-conversion' (https://github.com/google/double-conversion.git) registered for path 'external_libs/fast_double_parser/benchmarks/dependencies/double-conversion'\n",
            "Cloning into '/content/LightGBM/external_libs/fast_double_parser/benchmarks/dependencies/abseil-cpp'...\n",
            "remote: Enumerating objects: 19661, done.        \n",
            "remote: Counting objects: 100% (1941/1941), done.        \n",
            "remote: Compressing objects: 100% (640/640), done.        \n",
            "remote: Total 19661 (delta 1342), reused 1359 (delta 1298), pack-reused 17720        \n",
            "Receiving objects: 100% (19661/19661), 11.92 MiB | 16.59 MiB/s, done.\n",
            "Resolving deltas: 100% (15400/15400), done.\n",
            "Cloning into '/content/LightGBM/external_libs/fast_double_parser/benchmarks/dependencies/double-conversion'...\n",
            "remote: Enumerating objects: 1352, done.        \n",
            "remote: Counting objects: 100% (196/196), done.        \n",
            "remote: Compressing objects: 100% (103/103), done.        \n",
            "remote: Total 1352 (delta 108), reused 156 (delta 86), pack-reused 1156        \n",
            "Receiving objects: 100% (1352/1352), 7.15 MiB | 20.74 MiB/s, done.\n",
            "Resolving deltas: 100% (880/880), done.\n",
            "Submodule path 'external_libs/fast_double_parser/benchmarks/dependencies/abseil-cpp': checked out 'd936052d32a5b7ca08b0199a6724724aea432309'\n",
            "Submodule path 'external_libs/fast_double_parser/benchmarks/dependencies/double-conversion': checked out 'f4cb2384efa55dee0e6652f8674b05763441ab09'\n",
            "Submodule path 'external_libs/fmt': checked out 'b6f4ceaed0a0a24ccf575fab6c56dd50ccf6f1a9'\n"
          ]
        }
      ],
      "source": [
        "# After running\n",
        "#! git clone --recursive https://github.com/Microsoft/LightGBM"
      ]
    },
    {
      "cell_type": "markdown",
      "metadata": {
        "id": "6Y3yAy1mJHV8"
      },
      "source": [
        "\n",
        "\n",
        "---\n",
        "\n",
        "# Initial Observations\n",
        "\n",
        "---\n",
        "\n"
      ]
    },
    {
      "cell_type": "code",
      "execution_count": null,
      "metadata": {
        "colab": {
          "base_uri": "https://localhost:8080/",
          "height": 1000
        },
        "id": "pHDeYmMPoC2z",
        "outputId": "85ac0ffc-b9be-46b1-c2d0-df744c7145dc"
      },
      "outputs": [
        {
          "data": {
            "text/plain": [
              "<matplotlib.axes._subplots.AxesSubplot at 0x7f7eb5042220>"
            ]
          },
          "execution_count": 9,
          "metadata": {},
          "output_type": "execute_result"
        },
        {
          "data": {
            "image/png": "[encoded data removed]",
            "text/plain": [
              "<Figure size 1224x1224 with 2 Axes>"
            ]
          },
          "metadata": {
            "needs_background": "light"
          },
          "output_type": "display_data"
        }
      ],
      "source": [
        "plt.figure(figsize=(17,17))\n",
        "sns.heatmap(df.corr(), annot = True)"
      ]
    },
    {
      "cell_type": "code",
      "execution_count": null,
      "metadata": {
        "colab": {
          "base_uri": "https://localhost:8080/"
        },
        "id": "icKjIW2M6ciH",
        "outputId": "18f06392-6b22-4cda-f8a8-8f7e5cad16f1"
      },
      "outputs": [
        {
          "data": {
            "text/plain": [
              "killPlace         -0.719009\n",
              "matchDuration     -0.005130\n",
              "winPoints          0.007265\n",
              "killPoints         0.013171\n",
              "rankPoints         0.013321\n",
              "teamKills          0.015535\n",
              "roadKills          0.034090\n",
              "maxPlace           0.037429\n",
              "numGroups          0.039714\n",
              "vehicleDestroys    0.073495\n",
              "swimDistance       0.149715\n",
              "revives            0.241043\n",
              "headshotKills      0.277494\n",
              "DBNOs              0.280254\n",
              "assists            0.299125\n",
              "rideDistance       0.342521\n",
              "killStreaks        0.377600\n",
              "longestKill        0.409985\n",
              "kills              0.419801\n",
              "heals              0.427901\n",
              "damageDealt        0.440601\n",
              "weaponsAcquired    0.582801\n",
              "boosts             0.634121\n",
              "walkDistance       0.810920\n",
              "winPlacePerc       1.000000\n",
              "Name: winPlacePerc, dtype: float64"
            ]
          },
          "execution_count": 10,
          "metadata": {},
          "output_type": "execute_result"
        }
      ],
      "source": [
        "df.corr()['winPlacePerc'].sort_values()"
      ]
    },
    {
      "cell_type": "markdown",
      "metadata": {
        "id": "RsPnsPiP36FP"
      },
      "source": [
        "Mutual information (MI) [1] between two random variables is a non-negative value, which measures the dependency between the variables. It is equal to zero if and only if two random variables are independent, and higher values mean higher dependency.\n",
        "\n",
        "based on knn"
      ]
    },
    {
      "cell_type": "code",
      "execution_count": null,
      "metadata": {
        "colab": {
          "base_uri": "https://localhost:8080/"
        },
        "id": "qP0ED_aMLCU-",
        "outputId": "1b703b28-91d3-4730-9b89-10211626641f"
      },
      "outputs": [
        {
          "name": "stdout",
          "output_type": "stream",
          "text": [
            "maxPlace           2.378594\n",
            "numGroups          1.181999\n",
            "killPlace          0.948081\n",
            "walkDistance       0.733891\n",
            "weaponsAcquired    0.326114\n",
            "boosts             0.322689\n",
            "heals              0.203367\n",
            "damageDealt        0.162876\n",
            "longestKill        0.144017\n",
            "kills              0.128810\n",
            "rideDistance       0.120961\n",
            "DBNOs              0.112352\n",
            "killStreaks        0.099580\n",
            "assists            0.066635\n",
            "rankPoints         0.061645\n",
            "revives            0.053547\n",
            "headshotKills      0.051120\n",
            "matchDuration      0.044275\n",
            "swimDistance       0.032904\n",
            "winPoints          0.022494\n",
            "killPoints         0.018551\n",
            "vehicleDestroys    0.004675\n",
            "teamKills          0.003511\n",
            "roadKills          0.000430\n",
            "dtype: float64\n"
          ]
        }
      ],
      "source": [
        "samp = df.sample(300000)\n",
        "samp.dropna(inplace = True)\n",
        "mutual_info = mutual_info_regression(samp.drop(columns =['winPlacePerc','matchType','matchId','Id','groupId'],axis=1),samp.winPlacePerc)\n",
        "mutual_info =  pd.Series(mutual_info)\n",
        "mutual_info.index = samp.drop(columns =['winPlacePerc','matchType','matchId','Id','groupId'],axis=1).columns\n",
        "mutual_info = mutual_info.sort_values(ascending=False)\n",
        "\n",
        "print(mutual_info)"
      ]
    },
    {
      "cell_type": "markdown",
      "metadata": {
        "id": "eqPzY5_0NS6i"
      },
      "source": [
        "\n",
        "\n",
        "---\n",
        "\n",
        "# Preprocessing on Rows\n",
        "\n",
        "---\n",
        "\n"
      ]
    },
    {
      "cell_type": "code",
      "execution_count": null,
      "metadata": {
        "id": "yt0UFXDniwHF"
      },
      "outputs": [],
      "source": [
        "df.dropna(inplace=True)"
      ]
    },
    {
      "cell_type": "markdown",
      "metadata": {
        "id": "LS1sKmyOjKw0"
      },
      "source": [
        "Possibility of Hacker:\n",
        "\n",
        "1) Walk distance = 0 but kills are very high\n",
        "\n",
        "2) Walk distance = 0 but weapons acquired are high\n",
        "\n",
        "3) Walk disance  = 0 but damageDelt are high\n",
        "\n",
        "4) Walk distance = 0 but DBNO are high\n",
        "\n",
        "5) Walk distance = 0 but assist are high\n",
        "\n",
        "6) When Walk distance =0 but Ride distance > 0\n",
        "\n",
        "7) Walk distance = 0 and Heals/Boosts > 0 :\n",
        "\n",
        "\n",
        "8) Very long kills\n",
        "\n",
        "9) Very high Headshots"
      ]
    },
    {
      "cell_type": "markdown",
      "metadata": {
        "id": "kDgLXkjzcuuX"
      },
      "source": [
        "***Think weather to drop the rows or set the win percentage of these to 0*** ❓❓❓❓❓\n",
        "\n",
        "---\n",
        "\n"
      ]
    },
    {
      "cell_type": "code",
      "execution_count": null,
      "metadata": {
        "colab": {
          "base_uri": "https://localhost:8080/"
        },
        "id": "9Qf-VYcpfYHS",
        "outputId": "b4b97732-f387-4f9d-cd0e-5cf50d850b33"
      },
      "outputs": [
        {
          "name": "stdout",
          "output_type": "stream",
          "text": [
            "Number of Hackers where walk distance is = 0 but (kills , damanage , dealth ,...etc) > 0 is  14681\n"
          ]
        }
      ],
      "source": [
        "drop_rows = list(df[ (df['walkDistance']==0) & (\n",
        "    (df['kills']>0) | (df['weaponsAcquired']>0) | (df['damageDealt']>0)| (df['rideDistance']>0) | (df['DBNOs']>0) | \n",
        "    (df['assists']>0) | (df['heals']>0) | (df['boosts']>0)) ].index )\n",
        "\n",
        "print(\"Number of Hackers where walk distance is = 0 but (kills , damanage , dealth ,...etc) > 0 is \",len(drop_rows))\n",
        "df.drop(index=drop_rows,inplace=True)"
      ]
    },
    {
      "cell_type": "code",
      "execution_count": null,
      "metadata": {
        "colab": {
          "base_uri": "https://localhost:8080/"
        },
        "id": "VnYcDTEYEWOP",
        "outputId": "8f581e1d-cb1b-40de-c098-8ba0b2f98609"
      },
      "outputs": [
        {
          "name": "stdout",
          "output_type": "stream",
          "text": [
            "Number of Hackers  winPlacePerc = 0 but (kills , assists) > 1 2522\n"
          ]
        }
      ],
      "source": [
        "drop_rows = list(df[(df['winPlacePerc']==0) & ((df['kills']>1) | (df['walkDistance']>1000) | (df['assists']>1))].index)\n",
        "print(\"Number of Hackers  winPlacePerc = 0 but (kills , assists) > 1\",len(drop_rows))\n",
        "df.drop(index=drop_rows,inplace=True)"
      ]
    },
    {
      "cell_type": "code",
      "execution_count": null,
      "metadata": {
        "colab": {
          "base_uri": "https://localhost:8080/"
        },
        "id": "-8lAxFxZjrgI",
        "outputId": "ba09f18e-3907-40da-8e68-bd517e0bd80b"
      },
      "outputs": [
        {
          "data": {
            "text/plain": [
              "<matplotlib.axes._subplots.AxesSubplot at 0x7f7edf57fbb0>"
            ]
          },
          "execution_count": 72,
          "metadata": {},
          "output_type": "execute_result"
        },
        {
          "data": {
            "image/png": "[encoded data removed]",
            "text/plain": [
              "<Figure size 288x288 with 1 Axes>"
            ]
          },
          "metadata": {
            "needs_background": "light"
          },
          "output_type": "display_data"
        }
      ],
      "source": [
        "fig = plt.figure(figsize=(4,4))\n",
        "sns.boxplot(x=df['headshotKills'])"
      ]
    },
    {
      "cell_type": "code",
      "execution_count": null,
      "metadata": {
        "colab": {
          "base_uri": "https://localhost:8080/"
        },
        "id": "prbtW_ikkMs3",
        "outputId": "f8a27633-70aa-4f8a-b7cf-334e3a4ea1d9"
      },
      "outputs": [
        {
          "name": "stdout",
          "output_type": "stream",
          "text": [
            "Number of Hackers where headshots are very high :  16\n"
          ]
        }
      ],
      "source": [
        "drop_rows = list(df[df['headshotKills']>20].index)\n",
        "print(\"Number of Hackers where headshots are very high : \",len(drop_rows))\n",
        "df.drop(index=drop_rows,inplace=True)"
      ]
    },
    {
      "cell_type": "code",
      "execution_count": null,
      "metadata": {
        "colab": {
          "base_uri": "https://localhost:8080/"
        },
        "id": "oorwY3yy_4mL",
        "outputId": "f95fdb0c-651b-4308-bc08-c563e8e50082"
      },
      "outputs": [
        {
          "data": {
            "text/plain": [
              "<matplotlib.axes._subplots.AxesSubplot at 0x7f7edf5814c0>"
            ]
          },
          "execution_count": 74,
          "metadata": {},
          "output_type": "execute_result"
        },
        {
          "data": {
            "image/png": "[encoded data removed]",
            "text/plain": [
              "<Figure size 288x288 with 1 Axes>"
            ]
          },
          "metadata": {
            "needs_background": "light"
          },
          "output_type": "display_data"
        }
      ],
      "source": [
        "fig = plt.figure(figsize=(4,4))\n",
        "sns.boxplot(x=df['weaponsAcquired'])"
      ]
    },
    {
      "cell_type": "code",
      "execution_count": null,
      "metadata": {
        "colab": {
          "base_uri": "https://localhost:8080/"
        },
        "id": "GfMeJnhZACrw",
        "outputId": "88eabc6b-2e34-4493-b752-b850ed80ef7d"
      },
      "outputs": [
        {
          "name": "stdout",
          "output_type": "stream",
          "text": [
            "Number of Hackers where weaponsAcquired are very high :  100\n"
          ]
        }
      ],
      "source": [
        "drop_rows = list(df[df['weaponsAcquired']>50].index)\n",
        "print(\"Number of Hackers where weaponsAcquired are very high : \",len(drop_rows))\n",
        "df.drop(index=drop_rows,inplace=True)"
      ]
    },
    {
      "cell_type": "code",
      "execution_count": null,
      "metadata": {
        "colab": {
          "base_uri": "https://localhost:8080/"
        },
        "id": "Ye9ySrg_EGHp",
        "outputId": "7d750ea0-cb83-41f0-83cc-a913c426e682"
      },
      "outputs": [
        {
          "data": {
            "text/plain": [
              "<matplotlib.axes._subplots.AxesSubplot at 0x7f7ecffe0220>"
            ]
          },
          "execution_count": 76,
          "metadata": {},
          "output_type": "execute_result"
        },
        {
          "data": {
            "image/png": "[encoded data removed]",
            "text/plain": [
              "<Figure size 288x288 with 1 Axes>"
            ]
          },
          "metadata": {
            "needs_background": "light"
          },
          "output_type": "display_data"
        }
      ],
      "source": [
        "fig = plt.figure(figsize=(4,4))\n",
        "sns.boxplot(x=df['kills'])"
      ]
    },
    {
      "cell_type": "code",
      "execution_count": null,
      "metadata": {
        "colab": {
          "base_uri": "https://localhost:8080/"
        },
        "id": "MSvQaI76FPvF",
        "outputId": "873bf252-1e48-456d-f7a6-7e82b900edf6"
      },
      "outputs": [
        {
          "name": "stdout",
          "output_type": "stream",
          "text": [
            "Number of Hackers where kills are very high :  32\n"
          ]
        }
      ],
      "source": [
        "drop_rows = list(df[df['kills']>30].index)\n",
        "print(\"Number of Hackers where kills are very high : \",len(drop_rows))\n",
        "df.drop(index=drop_rows,inplace=True)"
      ]
    },
    {
      "cell_type": "code",
      "execution_count": null,
      "metadata": {
        "colab": {
          "base_uri": "https://localhost:8080/"
        },
        "id": "JBDZp6Q_Fhvc",
        "outputId": "b4c24b55-0e57-4e50-de7e-f411acb3d107"
      },
      "outputs": [
        {
          "data": {
            "text/plain": [
              "<matplotlib.axes._subplots.AxesSubplot at 0x7f7e7c2bdac0>"
            ]
          },
          "execution_count": 78,
          "metadata": {},
          "output_type": "execute_result"
        },
        {
          "data": {
            "image/png": "[encoded data removed]",
            "text/plain": [
              "<Figure size 288x288 with 1 Axes>"
            ]
          },
          "metadata": {
            "needs_background": "light"
          },
          "output_type": "display_data"
        }
      ],
      "source": [
        "fig = plt.figure(figsize=(4,4))\n",
        "sns.boxplot(x=df['heals'])"
      ]
    },
    {
      "cell_type": "code",
      "execution_count": null,
      "metadata": {
        "colab": {
          "base_uri": "https://localhost:8080/"
        },
        "id": "QxKSWpijFtcI",
        "outputId": "b5ca761f-a23e-4c0c-d7f4-46280aa5a86b"
      },
      "outputs": [
        {
          "name": "stdout",
          "output_type": "stream",
          "text": [
            "boosts / heals are very high :  195\n"
          ]
        }
      ],
      "source": [
        "drop_rows = list(df[(df['heals']>35) | (df['boosts']>35)].index)\n",
        "print(\"boosts / heals are very high : \",len(drop_rows))\n",
        "df.drop(index=drop_rows,inplace=True)"
      ]
    },
    {
      "cell_type": "code",
      "execution_count": null,
      "metadata": {
        "colab": {
          "base_uri": "https://localhost:8080/"
        },
        "id": "512qXN_FHBkh",
        "outputId": "97f19030-3f90-44cb-d44e-fb04d5bf35e4"
      },
      "outputs": [
        {
          "data": {
            "text/plain": [
              "<matplotlib.axes._subplots.AxesSubplot at 0x7f7ec627ab50>"
            ]
          },
          "execution_count": 80,
          "metadata": {},
          "output_type": "execute_result"
        },
        {
          "data": {
            "image/png": "[encoded data removed]",
            "text/plain": [
              "<Figure size 288x288 with 1 Axes>"
            ]
          },
          "metadata": {
            "needs_background": "light"
          },
          "output_type": "display_data"
        }
      ],
      "source": [
        "fig = plt.figure(figsize=(4,4))\n",
        "sns.boxplot(x=df['walkDistance'])"
      ]
    },
    {
      "cell_type": "code",
      "execution_count": null,
      "metadata": {
        "colab": {
          "base_uri": "https://localhost:8080/"
        },
        "id": "zfM4fohBHG9D",
        "outputId": "23ba70ec-cb71-4f0c-cb03-149ecaeb3bcd"
      },
      "outputs": [
        {
          "name": "stdout",
          "output_type": "stream",
          "text": [
            "Walk distance very high :  155\n"
          ]
        }
      ],
      "source": [
        "drop_rows = list(df[df['walkDistance']>10000].index)\n",
        "print(\"Walk distance very high : \",len(drop_rows))\n",
        "df.drop(index=drop_rows,inplace=True)"
      ]
    },
    {
      "cell_type": "code",
      "execution_count": null,
      "metadata": {
        "colab": {
          "base_uri": "https://localhost:8080/"
        },
        "id": "AILTO9DNHZPo",
        "outputId": "b7e77a3f-a751-4097-bc64-5e9be58e167f"
      },
      "outputs": [
        {
          "data": {
            "text/plain": [
              "<matplotlib.axes._subplots.AxesSubplot at 0x7f7e8f6a6e50>"
            ]
          },
          "execution_count": 82,
          "metadata": {},
          "output_type": "execute_result"
        },
        {
          "data": {
            "image/png": "[encoded data removed]",
            "text/plain": [
              "<Figure size 288x288 with 1 Axes>"
            ]
          },
          "metadata": {
            "needs_background": "light"
          },
          "output_type": "display_data"
        }
      ],
      "source": [
        "fig = plt.figure(figsize=(4,4))\n",
        "sns.boxplot(x=df['damageDealt'])"
      ]
    },
    {
      "cell_type": "code",
      "execution_count": null,
      "metadata": {
        "colab": {
          "base_uri": "https://localhost:8080/"
        },
        "id": "tla7ztLZHgpk",
        "outputId": "04aa930d-f7d2-4dcb-cf66-cab7b17e8dfd"
      },
      "outputs": [
        {
          "name": "stdout",
          "output_type": "stream",
          "text": [
            "Walk distance very high :  1479\n"
          ]
        }
      ],
      "source": [
        "drop_rows = list(df[df['damageDealt']>1500].index)\n",
        "print(\"Walk distance very high : \",len(drop_rows))\n",
        "df.drop(index=drop_rows,inplace=True)"
      ]
    },
    {
      "cell_type": "code",
      "execution_count": null,
      "metadata": {
        "colab": {
          "base_uri": "https://localhost:8080/"
        },
        "id": "V9gc9IAhqRcO",
        "outputId": "e6a40634-7c0a-4c22-f1b0-92571cc5899d"
      },
      "outputs": [
        {
          "data": {
            "text/plain": [
              "<matplotlib.axes._subplots.AxesSubplot at 0x7f7edf8dfe20>"
            ]
          },
          "execution_count": 84,
          "metadata": {},
          "output_type": "execute_result"
        },
        {
          "data": {
            "image/png": "[encoded data removed]",
            "text/plain": [
              "<Figure size 720x360 with 1 Axes>"
            ]
          },
          "metadata": {
            "needs_background": "light"
          },
          "output_type": "display_data"
        }
      ],
      "source": [
        "fig = plt.figure(figsize=(10,5))\n",
        "df_temp = df.copy()\n",
        "df_temp['walkDistanceCatagory'] = pd.cut(df_temp['walkDistance'],[-1,100,1000,2500,5000,10000,20000])\n",
        "sns.boxplot(x=df_temp['walkDistanceCatagory'],y=df_temp['winPlacePerc'])"
      ]
    },
    {
      "cell_type": "code",
      "execution_count": null,
      "metadata": {
        "colab": {
          "base_uri": "https://localhost:8080/"
        },
        "id": "Tv3vAVswp1Ac",
        "outputId": "3bb21c79-f96b-48f2-eca4-5388cbef9b0b"
      },
      "outputs": [
        {
          "name": "stdout",
          "output_type": "stream",
          "text": [
            "Dropping Rows where the walkDistance is < 100m but have winPlacePercentage >= 90% :  3892\n"
          ]
        }
      ],
      "source": [
        "drop_index = list(df[(df['walkDistance']<=200) & (df['winPlacePerc']>=0.9)].index)\n",
        "print(\"Dropping Rows where the walkDistance is < 100m but have winPlacePercentage >= 90% : \",len(drop_index))\n",
        "df.drop(index=drop_index,inplace=True)"
      ]
    },
    {
      "cell_type": "code",
      "execution_count": null,
      "metadata": {
        "colab": {
          "base_uri": "https://localhost:8080/"
        },
        "id": "vpUQfuJ6qZ1N",
        "outputId": "4cec42ff-6b83-4556-e363-3726fc3cb339"
      },
      "outputs": [
        {
          "data": {
            "text/plain": [
              "<matplotlib.axes._subplots.AxesSubplot at 0x7f7ec628b370>"
            ]
          },
          "execution_count": 86,
          "metadata": {},
          "output_type": "execute_result"
        },
        {
          "data": {
            "image/png": "[encoded data removed]",
            "text/plain": [
              "<Figure size 720x432 with 1 Axes>"
            ]
          },
          "metadata": {
            "needs_background": "light"
          },
          "output_type": "display_data"
        }
      ],
      "source": [
        "fig = plt.figure(figsize=(10,6))\n",
        "temp_df = df.copy()\n",
        "temp_df['WeaponsAcquired_in_cat'] = pd.cut(temp_df['weaponsAcquired'],[-1,0,5,10,20,50,100])\n",
        "sns.boxplot(x=temp_df['WeaponsAcquired_in_cat'],y=df['winPlacePerc'])"
      ]
    },
    {
      "cell_type": "code",
      "execution_count": null,
      "metadata": {
        "colab": {
          "base_uri": "https://localhost:8080/"
        },
        "id": "XRagAdp3qjXp",
        "outputId": "2fcce7d1-269d-4208-ba2b-242c359f2db5"
      },
      "outputs": [
        {
          "name": "stdout",
          "output_type": "stream",
          "text": [
            "Dropping Rows where the walkDistance is < 100m but have winPlacePercentage >= 50% :  5227\n"
          ]
        }
      ],
      "source": [
        "drop_index = list(df[(df['weaponsAcquired']==0) & (df['winPlacePerc']>=0.5)].index)\n",
        "print(\"Dropping Rows where the walkDistance is < 100m but have winPlacePercentage >= 50% : \",len(drop_index))\n",
        "df.drop(index=drop_index,inplace=True)"
      ]
    },
    {
      "cell_type": "code",
      "execution_count": null,
      "metadata": {
        "colab": {
          "base_uri": "https://localhost:8080/"
        },
        "id": "x9R90W-cqtmm",
        "outputId": "9eb245a1-d7b7-46b4-a254-886a762092fb"
      },
      "outputs": [
        {
          "data": {
            "text/plain": [
              "<matplotlib.axes._subplots.AxesSubplot at 0x7f7edf57f6a0>"
            ]
          },
          "execution_count": 88,
          "metadata": {},
          "output_type": "execute_result"
        },
        {
          "data": {
            "image/png": "[encoded data removed]",
            "text/plain": [
              "<Figure size 720x432 with 1 Axes>"
            ]
          },
          "metadata": {
            "needs_background": "light"
          },
          "output_type": "display_data"
        }
      ],
      "source": [
        "fig = plt.figure(figsize=(10,6))\n",
        "temp_df = df.copy()\n",
        "temp_df['damageDealt_in_cat'] = pd.cut(temp_df['damageDealt'],[-1,10,50,100,300,500,1000,2500])\n",
        "sns.boxplot(x=temp_df['damageDealt_in_cat'],y=df['winPlacePerc'])"
      ]
    },
    {
      "cell_type": "code",
      "execution_count": null,
      "metadata": {
        "colab": {
          "base_uri": "https://localhost:8080/"
        },
        "id": "Q5lUlksEsNF9",
        "outputId": "99e33c00-76b7-43b7-ef6d-b4d695c0c4da"
      },
      "outputs": [
        {
          "name": "stdout",
          "output_type": "stream",
          "text": [
            "Dropping Rows where the damageDealt is > 500 but have winPlacePercentage <= 30% :  1736\n"
          ]
        }
      ],
      "source": [
        "drop_index = list(df[(df['damageDealt']>=500) & (df['winPlacePerc']<=0.3)].index)\n",
        "print(\"Dropping Rows where the damageDealt is > 500 but have winPlacePercentage <= 30% : \",len(drop_index))\n",
        "df.drop(index=drop_index,inplace=True)"
      ]
    },
    {
      "cell_type": "markdown",
      "metadata": {
        "id": "Ubeaf4PeJvFq"
      },
      "source": [
        "\n",
        "\n",
        "---\n",
        "\n",
        "# Preprocessing Columns and Feature Engineering\n",
        "\n",
        "---\n",
        "\n"
      ]
    },
    {
      "cell_type": "code",
      "execution_count": null,
      "metadata": {
        "id": "pQX30YaMpQPP"
      },
      "outputs": [],
      "source": [
        "def preprocess(df,train=1):\n",
        "\n",
        "  df['walkDistancePerMatchDuration'] = df['walkDistance'] / df['matchDuration'] * 100;\n",
        "  df['weaponsAcquiredPerWalkDistance'] = df['weaponsAcquired'] / (df['walkDistance'] + 0.1) * 100;\n",
        "  df['killsPerWalkDistance'] = df['kills'] / (df['walkDistance'] + 0.1) * 100;\n",
        "  df['damageDeltPerWalkDistance'] = df['damageDealt'] / (df['walkDistance'] + 0.1) * 100;\n",
        "  df['boostsPerWalkDistance'] = df['boosts'] / (df['walkDistance'] + 0.1) * 100;\n",
        "  df['killPlacePerMaxPlace'] = df['killPlace']/(df['maxPlace']+1) * 100;\n",
        "  df['killPlacePerNumGroups'] = df['killPlace'] / (df['numGroups'] + 1)* 100;\n",
        "\n",
        "  #Tried these new feature not including them since they were not useful\n",
        "  #df['healsandboosts'] = df['heals'] + df['boosts']\n",
        "  #test['totalDistance'] = test['rideDistance'] + test['walkDistance'] + test['swimDistance']\n",
        "\n",
        "\n",
        "  #deleting not so useful columns\n",
        "  drop_columns = ['matchId','rankPoints', 'winPoints','killPoints','teamKills','vehicleDestroys','roadKills','swimDistance']\n",
        "  if(train):\n",
        "    drop_columns.append('Id')\n",
        "  df.drop(columns= drop_columns , inplace = True)\n",
        "  return df\n"
      ]
    },
    {
      "cell_type": "code",
      "execution_count": null,
      "metadata": {
        "id": "-KApzmNg47cC"
      },
      "outputs": [],
      "source": [
        "df = preprocess(df)"
      ]
    },
    {
      "cell_type": "code",
      "execution_count": null,
      "metadata": {
        "colab": {
          "base_uri": "https://localhost:8080/"
        },
        "id": "CDrbOdCdsg87",
        "outputId": "469e6efb-8cd4-4379-b1c1-5ebbd462adc4"
      },
      "outputs": [
        {
          "name": "stdout",
          "output_type": "stream",
          "text": [
            "killPlacePerMaxPlace              2.499106\n",
            "maxPlace                          2.367130\n",
            "killPlacePerNumGroups             1.493418\n",
            "numGroups                         1.164521\n",
            "killPlace                         0.946137\n",
            "walkDistancePerMatchDuration      0.782216\n",
            "walkDistance                      0.740667\n",
            "weaponsAcquiredPerWalkDistance    0.495817\n",
            "weaponsAcquired                   0.337588\n",
            "boosts                            0.325896\n",
            "boostsPerWalkDistance             0.314652\n",
            "damageDeltPerWalkDistance         0.266982\n",
            "killsPerWalkDistance              0.245184\n",
            "heals                             0.204364\n",
            "damageDealt                       0.164618\n",
            "longestKill                       0.147006\n",
            "kills                             0.133237\n",
            "rideDistance                      0.121718\n",
            "DBNOs                             0.116329\n",
            "killStreaks                       0.103425\n",
            "assists                           0.069702\n",
            "revives                           0.053941\n",
            "headshotKills                     0.048042\n",
            "matchDuration                     0.035617\n",
            "dtype: float64\n"
          ]
        }
      ],
      "source": [
        "samp = df.sample(200000)\n",
        "samp.dropna(inplace = True)\n",
        "mutual_info = mutual_info_regression(samp.drop(columns =['winPlacePerc','matchType','groupId'],axis=1),samp.winPlacePerc)\n",
        "mutual_info =  pd.Series(mutual_info)\n",
        "mutual_info.index = samp.drop(columns =['winPlacePerc','matchType','groupId'],axis=1).columns\n",
        "mutual_info = mutual_info.sort_values(ascending=False)\n",
        "\n",
        "print(mutual_info)\n"
      ]
    },
    {
      "cell_type": "code",
      "execution_count": null,
      "metadata": {
        "colab": {
          "base_uri": "https://localhost:8080/"
        },
        "id": "iybM7y50PolU",
        "outputId": "7487bb07-2c15-4f82-e397-e25068b47a8c"
      },
      "outputs": [
        {
          "data": {
            "text/plain": [
              "killPlace                        -0.725854\n",
              "killPlacePerNumGroups            -0.609368\n",
              "killPlacePerMaxPlace             -0.608327\n",
              "weaponsAcquiredPerWalkDistance   -0.131156\n",
              "damageDeltPerWalkDistance        -0.116204\n",
              "killsPerWalkDistance             -0.060709\n",
              "matchDuration                    -0.004906\n",
              "maxPlace                          0.039723\n",
              "numGroups                         0.041075\n",
              "boostsPerWalkDistance             0.141908\n",
              "revives                           0.242088\n",
              "headshotKills                     0.285420\n",
              "DBNOs                             0.286784\n",
              "assists                           0.305092\n",
              "rideDistance                      0.344488\n",
              "killStreaks                       0.381216\n",
              "longestKill                       0.413464\n",
              "heals                             0.432353\n",
              "kills                             0.434179\n",
              "damageDealt                       0.456147\n",
              "weaponsAcquired                   0.614288\n",
              "boosts                            0.637994\n",
              "walkDistance                      0.817985\n",
              "walkDistancePerMatchDuration      0.831719\n",
              "winPlacePerc                      1.000000\n",
              "Name: winPlacePerc, dtype: float64"
            ]
          },
          "execution_count": 92,
          "metadata": {},
          "output_type": "execute_result"
        }
      ],
      "source": [
        "df.corr()['winPlacePerc'].sort_values()"
      ]
    },
    {
      "cell_type": "markdown",
      "metadata": {
        "id": "sczd730b5cLD"
      },
      "source": [
        "\n",
        "\n",
        "---\n",
        "\n",
        "# Grouping\n",
        "\n",
        "---\n",
        "\n"
      ]
    },
    {
      "cell_type": "markdown",
      "metadata": {
        "id": "DSOY0t_wMFkj"
      },
      "source": [
        "***Intuition behind grouping teammates in squad and duo***"
      ]
    },
    {
      "cell_type": "markdown",
      "metadata": {
        "id": "K36urI4SZAhr"
      },
      "source": [
        "Since PUBG is mostly a group game (except in solo) the ranking of a player depends on the ranking of the other players in the group \n",
        "\n",
        "for example even if a player in a group gets out ealry , where as his team-mates go on to win the match , the player who got out early still gets 1st place \n",
        "\n",
        "so if we make predictions just by seeing a player , it will lead to many inaccuarcies , therefore we group the data based on group id \n",
        "and collectively judge the groups performence"
      ]
    },
    {
      "cell_type": "code",
      "execution_count": null,
      "metadata": {
        "colab": {
          "base_uri": "https://localhost:8080/",
          "height": 431
        },
        "id": "bWhfyj4vZAOr",
        "outputId": "2e07ced0-480f-4878-cbbd-782400b03bdf"
      },
      "outputs": [
        {
          "data": {
            "image/png": "[encoded data removed]",
            "text/plain": [
              "<Figure size 1440x432 with 4 Axes>"
            ]
          },
          "metadata": {
            "needs_background": "light"
          },
          "output_type": "display_data"
        }
      ],
      "source": [
        "fig, ax =plt.subplots(1,4)\n",
        "fig.set_figheight(6)\n",
        "fig.set_figwidth(20)\n",
        "\n",
        "fig.suptitle(\"highly corelated columns when win percent = 100\",fontsize=15)\n",
        "sns.countplot(data=df[(df['winPlacePerc'] == 1) & (df['boosts'] <2)], x=\"boosts\",ax=ax[0])\n",
        "\n",
        "sns.countplot(data=df[(df['winPlacePerc'] == 1) & (df['kills'] <2)], x=\"kills\",ax=ax[1])\n",
        "\n",
        "sns.countplot(data=df[(df['winPlacePerc'] == 1) & (df['weaponsAcquired'] <2)], x=\"weaponsAcquired\",ax=ax[2])\n",
        "\n",
        "\n",
        "sns.histplot(data=df[df['winPlacePerc'] == 1], x=\"walkDistance\",ax=ax[3],binwidth=3)\n",
        "sns.histplot(data=df[df['winPlacePerc'] == 1], x=\"walkDistance\",ax=ax[3],binwidth=3)\n",
        "ax[3].set_xlim([0, 500])\n",
        "ax[3].set_ylim([0, 50])\n",
        "# plt.tight_layout()\n",
        "fig.show()\n"
      ]
    },
    {
      "cell_type": "markdown",
      "metadata": {
        "id": "lPq2xmfaXiHk"
      },
      "source": [
        "*It can be seen that even with 0 boosts , 0 kills , 0 weapons, 0 walk distance the win percentage is 100,this implies that there team mates have performed well and won the match*"
      ]
    },
    {
      "cell_type": "code",
      "execution_count": null,
      "metadata": {
        "id": "_zvu_a_LBVgn"
      },
      "outputs": [],
      "source": [
        "group_by_columns = {\n",
        "                     'winPlacePerc' : 'max',                    \n",
        "                     'killStreaks': 'max',   \n",
        "                     'longestKill': 'max',      \n",
        "                     'walkDistancePerMatchDuration': ['sum','mean','min','max'],\n",
        "                     'weaponsAcquiredPerWalkDistance': ['sum','mean','min','max'],\n",
        "                     'killsPerWalkDistance': ['sum','mean','min','max'], \n",
        "                     'damageDeltPerWalkDistance': ['sum','mean','min','max'], \n",
        "                     'rideDistance': ['sum'], \n",
        "                     'DBNOs':['sum'],\n",
        "                     'assists':['sum'],\n",
        "                     'numGroups' :'first',\n",
        "                     'maxPlace' :'first',\n",
        "                     'damageDealt':['sum','mean','min','max'],\n",
        "                     'revives' : ['sum'],\n",
        "                     'headshotKills' :['sum'],\n",
        "                     'kills' :['sum','mean','min','max'],\n",
        "                     'weaponsAcquired':['sum','mean','min','max'],\n",
        "                     'boosts':['sum','mean','min','max'],\n",
        "                     'heals':['sum','mean','min','max'],\n",
        "                     'matchDuration':'first',\n",
        "                     'walkDistance' : ['sum','mean','min','max'],\n",
        "                     'killPlace' : ['sum','mean','min','max'],\n",
        "                     'killPlacePerMaxPlace':['sum','mean','min','max'],\n",
        "                     'killPlacePerNumGroups':['sum','mean','min','max'],\n",
        "                                           }\n",
        "group_by_columns_test = group_by_columns.copy();\n",
        "group_by_columns_test['Id'] = 'first'\n",
        "if(not dev_mode):\n",
        "  group_by_columns_test.pop('winPlacePerc')"
      ]
    },
    {
      "cell_type": "code",
      "execution_count": null,
      "metadata": {
        "id": "CQs6FHYWmqbl"
      },
      "outputs": [],
      "source": []
    },
    {
      "cell_type": "code",
      "execution_count": null,
      "metadata": {
        "id": "x9hmznljCVLc"
      },
      "outputs": [],
      "source": [
        "squad_df_ug = df[(df['matchType'] =='squad-fpp') | (df['matchType']=='squad') | (df['matchType']=='normal-squad-fpp') | (df['matchType']=='normal-squad')]\n",
        "duo_df_ug = df[(df['matchType']=='duo-fpp') | (df['matchType']=='duo')| (df['matchType']=='normal-duo-fpp')| (df['matchType']=='normal-duo')]\n",
        "solo_df_ug = df[(df['matchType']=='solo-fpp') | (df['matchType']=='solo') | (df['matchType']=='normal-solo') |(df['matchType']=='normal-solo-fpp')]"
      ]
    },
    {
      "cell_type": "code",
      "execution_count": null,
      "metadata": {
        "id": "lgdQpslzA0wh"
      },
      "outputs": [],
      "source": [
        "squad_df = squad_df_ug.groupby('groupId').agg(group_by_columns)\n",
        "duo_df = duo_df_ug.groupby('groupId').agg(group_by_columns)     \n",
        "solo_df = solo_df_ug.drop(columns = ['matchType','groupId'])        "
      ]
    },
    {
      "cell_type": "code",
      "execution_count": null,
      "metadata": {
        "id": "Q3B3vn9zicAo"
      },
      "outputs": [],
      "source": [
        "squad_df.rename(columns='_'.join, inplace=True)\n",
        "squad_df.columns = squad_df.columns.map('_'.join)\n",
        "\n",
        "duo_df.rename(columns='_'.join, inplace=True)\n",
        "duo_df.columns = duo_df.columns.map('_'.join)\n",
        "\n",
        "squad_df.columns = squad_df.columns.str.replace('_', '')\n",
        "duo_df.columns = duo_df.columns.str.replace('_', '')\n",
        "\n",
        "duo_df.rename(columns = {'winPlacePercmax':'winPlacePerc'}, inplace = True)\n",
        "squad_df.rename(columns = {'winPlacePercmax':'winPlacePerc'}, inplace = True)"
      ]
    },
    {
      "cell_type": "code",
      "execution_count": null,
      "metadata": {
        "id": "8OrSm_eeFmXo"
      },
      "outputs": [],
      "source": [
        "squad_df.sort_index(axis=1, inplace=True)\n",
        "duo_df.sort_index(axis=1, inplace=True)\n",
        "solo_df.sort_index(axis=1, inplace=True)"
      ]
    },
    {
      "cell_type": "code",
      "execution_count": null,
      "metadata": {
        "colab": {
          "base_uri": "https://localhost:8080/"
        },
        "id": "G-c7c8FO7QDf",
        "outputId": "3eb61c42-63c6-4c2d-9190-e4ebaf312479"
      },
      "outputs": [
        {
          "name": "stdout",
          "output_type": "stream",
          "text": [
            "killPlacePerMaxPlacemax               2.413984\n",
            "killPlacePerMaxPlacemin               2.040084\n",
            "maxPlacefirst                         1.687704\n",
            "killPlacePerMaxPlacemean              1.555259\n",
            "killPlacePerNumGroupsmax              1.483027\n",
            "killPlacePerMaxPlacesum               1.413369\n",
            "killPlacePerNumGroupsmin              1.099005\n",
            "killPlacemax                          0.993555\n",
            "killPlacePerNumGroupsmean             0.854838\n",
            "walkDistancePerMatchDurationmean      0.825030\n",
            "walkDistancePerMatchDurationmax       0.787785\n",
            "walkDistancemean                      0.771347\n",
            "walkDistancemax                       0.733713\n",
            "walkDistancePerMatchDurationmin       0.669792\n",
            "numGroupsfirst                        0.661922\n",
            "killPlacePerNumGroupssum              0.649288\n",
            "walkDistancemin                       0.638455\n",
            "killPlacemean                         0.626557\n",
            "killPlacemin                          0.621639\n",
            "walkDistancePerMatchDurationsum       0.545394\n",
            "walkDistancesum                       0.519575\n",
            "weaponsAcquiredPerWalkDistancemin     0.477664\n",
            "weaponsAcquiredPerWalkDistancemean    0.475180\n",
            "weaponsAcquiredPerWalkDistancemax     0.464628\n",
            "boostsmean                            0.446742\n",
            "weaponsAcquiredmean                   0.410128\n",
            "boostsmax                             0.390856\n",
            "weaponsAcquiredPerWalkDistancesum     0.387412\n",
            "killPlacesum                          0.385758\n",
            "boostssum                             0.384682\n",
            "weaponsAcquiredmin                    0.324794\n",
            "damageDeltPerWalkDistancemax          0.297740\n",
            "killsPerWalkDistancemax               0.291074\n",
            "healsmean                             0.272916\n",
            "weaponsAcquiredmax                    0.269036\n",
            "damageDeltPerWalkDistancesum          0.265548\n",
            "killsPerWalkDistancesum               0.252035\n",
            "damageDeltPerWalkDistancemean         0.244232\n",
            "boostsmin                             0.237501\n",
            "healssum                              0.228891\n",
            "healsmax                              0.224528\n",
            "killsPerWalkDistancemean              0.206545\n",
            "damageDealtmean                       0.202677\n",
            "killsmean                             0.201012\n",
            "damageDeltPerWalkDistancemin          0.197262\n",
            "longestKillmax                        0.187291\n",
            "damageDealtmax                        0.180829\n",
            "healsmin                              0.153295\n",
            "killsPerWalkDistancemin               0.148789\n",
            "killssum                              0.141990\n",
            "killsmax                              0.141618\n",
            "damageDealtsum                        0.138941\n",
            "damageDealtmin                        0.129020\n",
            "weaponsAcquiredsum                    0.125025\n",
            "rideDistancesum                       0.117847\n",
            "assistssum                            0.095838\n",
            "killsmin                              0.083435\n",
            "killStreaksmax                        0.078973\n",
            "DBNOssum                              0.076352\n",
            "revivessum                            0.073682\n",
            "headshotKillssum                      0.063241\n",
            "matchDurationfirst                    0.000000\n",
            "dtype: float64\n"
          ]
        }
      ],
      "source": [
        "samp = squad_df.sample(200000)\n",
        "samp.dropna(inplace = True)\n",
        "mutual_info = mutual_info_regression(samp.drop(columns =['winPlacePerc'],axis=1),samp.winPlacePerc)\n",
        "mutual_info =  pd.Series(mutual_info)\n",
        "mutual_info.index = samp.drop(columns =['winPlacePerc'],axis=1).columns\n",
        "mutual_info = mutual_info.sort_values(ascending=False)\n",
        "\n",
        "print(mutual_info)\n"
      ]
    },
    {
      "cell_type": "code",
      "execution_count": null,
      "metadata": {
        "colab": {
          "base_uri": "https://localhost:8080/"
        },
        "id": "w-Y0CFgG7WkJ",
        "outputId": "c76be1a6-e23b-440f-cd75-65f6d6226b63"
      },
      "outputs": [
        {
          "name": "stdout",
          "output_type": "stream",
          "text": [
            "killPlacePerMaxPlace              2.972752\n",
            "maxPlace                          2.201047\n",
            "killPlacePerNumGroups             1.677426\n",
            "killPlace                         1.296133\n",
            "walkDistancePerMatchDuration      0.981246\n",
            "walkDistance                      0.910917\n",
            "weaponsAcquiredPerWalkDistance    0.608609\n",
            "numGroups                         0.556885\n",
            "weaponsAcquired                   0.421503\n",
            "boosts                            0.360736\n",
            "boostsPerWalkDistance             0.337862\n",
            "killsPerWalkDistance              0.320804\n",
            "damageDeltPerWalkDistance         0.319609\n",
            "damageDealt                       0.214065\n",
            "kills                             0.196304\n",
            "heals                             0.189696\n",
            "longestKill                       0.189211\n",
            "killStreaks                       0.129265\n",
            "rideDistance                      0.109174\n",
            "headshotKills                     0.086962\n",
            "assists                           0.016790\n",
            "DBNOs                             0.001607\n",
            "matchDuration                     0.000000\n",
            "revives                           0.000000\n",
            "dtype: float64\n"
          ]
        }
      ],
      "source": [
        "samp = solo_df.sample(200000)\n",
        "samp.dropna(inplace = True)\n",
        "mutual_info = mutual_info_regression(samp.drop(columns =['winPlacePerc'],axis=1),samp.winPlacePerc)\n",
        "mutual_info =  pd.Series(mutual_info)\n",
        "mutual_info.index = samp.drop(columns =['winPlacePerc'],axis=1).columns\n",
        "mutual_info = mutual_info.sort_values(ascending=False)\n",
        "\n",
        "print(mutual_info)"
      ]
    },
    {
      "cell_type": "markdown",
      "metadata": {
        "id": "hWTQ8Ww1uSeI"
      },
      "source": [
        "\n",
        "\n",
        "---\n",
        "# EDA\n",
        "\n",
        "\n",
        "---\n",
        "\n"
      ]
    },
    {
      "cell_type": "code",
      "execution_count": null,
      "metadata": {
        "id": "3vZqvCXV-Ryu"
      },
      "outputs": [],
      "source": [
        "def plotLine(attribute):\n",
        "  f,ax = plt.subplots(figsize = (10,4))\n",
        "  sns.lineplot(x = attribute , y = 'winPlacePerc',data = solo_df,color='red',alpha=0.8,ci=None,label='solo');\n",
        "  sns.lineplot(x = (attribute+'min') , y = 'winPlacePerc',data = duo_df,color='blue',alpha=0.8,ci=None,label='duo');\n",
        "  sns.lineplot(x = (attribute+'min') , y = 'winPlacePerc',data = squad_df,color='green',alpha=0.8,ci=None,label='squad');\n",
        "  plt.xlabel(attribute);\n",
        "  plt.ylabel('Win Percentage');\n",
        "  plt.title(attribute,fontsize = 15,color = 'blue')\n",
        "  plt.grid()"
      ]
    },
    {
      "cell_type": "markdown",
      "metadata": {
        "id": "40nZC4kQ0n5-"
      },
      "source": [
        "**🐛 🐞 🔴 todo - bugfix**"
      ]
    },
    {
      "cell_type": "code",
      "execution_count": null,
      "metadata": {
        "id": "zF3HdQeitnwF"
      },
      "outputs": [],
      "source": [
        "def plotBox(attribute,intervals):\n",
        "  fig, ax =plt.subplots(1,3)\n",
        "  fig.set_figheight(5)\n",
        "  fig.set_figwidth(15)\n",
        "  fig.suptitle(attribute,fontsize=15)\n",
        "\n",
        "  temp_df = solo_df_ug.copy()\n",
        "  temp_df[attribute] = pd.cut(temp_df[attribute],intervals)\n",
        "  sns.boxplot(x=temp_df[attribute],y=df['winPlacePerc'],ax=ax[2])\n",
        "\n",
        "\n",
        "  temp_df = duo_df.copy()\n",
        "  temp_df[attribute] = pd.cut(temp_df[attribute],intervals)\n",
        "  sns.boxplot(x=temp_df[attribute],y=df['winPlacePerc'],ax=ax[1])\n",
        "\n",
        "  temp_df = squad_df_ug.copy()\n",
        "  temp_df[attribute] = pd.cut(temp_df[attribute],intervals)\n",
        "  sns.boxplot(x=temp_df[attribute],y=df['winPlacePerc'],ax=ax[0])\n",
        "\n",
        "\n",
        "  plt.tight_layout()\n",
        "  fig.show()"
      ]
    },
    {
      "cell_type": "code",
      "execution_count": null,
      "metadata": {
        "colab": {
          "base_uri": "https://localhost:8080/",
          "height": 857
        },
        "id": "Ft7lBUldystT",
        "outputId": "0fef7eff-bc80-4636-a339-6963ffc7cfc6"
      },
      "outputs": [
        {
          "data": {
            "image/png": "[encoded data removed]",
            "text/plain": [
              "<Figure size 720x288 with 1 Axes>"
            ]
          },
          "metadata": {
            "needs_background": "light"
          },
          "output_type": "display_data"
        },
        {
          "data": {
            "image/png": "[encoded data removed]",
            "text/plain": [
              "<Figure size 720x288 with 1 Axes>"
            ]
          },
          "metadata": {
            "needs_background": "light"
          },
          "output_type": "display_data"
        },
        {
          "data": {
            "image/png": "[encoded data removed]",
            "text/plain": [
              "<Figure size 720x288 with 1 Axes>"
            ]
          },
          "metadata": {
            "needs_background": "light"
          },
          "output_type": "display_data"
        }
      ],
      "source": [
        "line_plot_columns = ['kills','boosts','killPlace']\n",
        "for c in line_plot_columns:\n",
        "  plotLine(c)\n"
      ]
    },
    {
      "cell_type": "markdown",
      "metadata": {
        "id": "fW3gllm6qLMg"
      },
      "source": [
        "\n",
        "\n",
        "---\n",
        "# **TRAINING**\n",
        "---\n",
        "\n"
      ]
    },
    {
      "cell_type": "code",
      "execution_count": null,
      "metadata": {
        "id": "OGlnYvjGHqSh"
      },
      "outputs": [],
      "source": []
    },
    {
      "cell_type": "code",
      "execution_count": null,
      "metadata": {
        "id": "3YL8klpXCcyJ"
      },
      "outputs": [],
      "source": [
        "def get_model_lgbm(df):\n",
        "  y_train = pd.DataFrame(df,columns = ['winPlacePerc'])\n",
        "  X_train = df.drop(['winPlacePerc'], axis = 1)\n",
        "  y_train = y_train.fillna(0)\n",
        "  params = {\"objective\" : \"regression\", \"metric\" : \"mae\", 'n_estimators':2000, \n",
        "               \"num_leaves\" : 85, \"learning_rate\" : 0.05, \n",
        "              \"bagging_fraction\" : 0.7, \"bagging_seed\" : 0, \"num_threads\" : 4,\n",
        "              \"colsample_bytree\" : 0.8,'device' : 'gpu',\n",
        "             }\n",
        "  \n",
        "  model = LGBMRegressor(**params)\n",
        "  model.fit(\n",
        "      X_train, y_train\n",
        "  )\n",
        "  return model"
      ]
    },
    {
      "cell_type": "code",
      "execution_count": null,
      "metadata": {
        "id": "eHMZ5gHEbdm0"
      },
      "outputs": [],
      "source": [
        "import xgboost as xgb"
      ]
    },
    {
      "cell_type": "code",
      "execution_count": null,
      "metadata": {
        "id": "K6dU4Ep0bWyG"
      },
      "outputs": [],
      "source": [
        "def get_model_xg(df):\n",
        "  y_train = pd.DataFrame(df,columns = ['winPlacePerc'])\n",
        "  X_train = df.drop(['winPlacePerc'], axis = 1)\n",
        "  y_train = y_train.fillna(0)\n",
        "  model = xgb.XGBRegressor(tree_method='gpu_hist',objective ='reg:squarederror', \n",
        "                           colsample_bytree = 0.6, learning_rate = 0.07,max_depth = 9, \n",
        "                           alpha = 10, n_estimators = 700)\n",
        "  model.fit(\n",
        "      X_train, y_train\n",
        "  )\n",
        "  return model"
      ]
    },
    {
      "cell_type": "code",
      "execution_count": null,
      "metadata": {
        "id": "N8HCudlPYXPK"
      },
      "outputs": [],
      "source": [
        "from sklearn.linear_model import LinearRegression"
      ]
    },
    {
      "cell_type": "code",
      "execution_count": null,
      "metadata": {
        "id": "TTmxACDaYV12"
      },
      "outputs": [],
      "source": [
        "def get_model_lr(df):\n",
        "  y_train = pd.DataFrame(df,columns = ['winPlacePerc'])\n",
        "  X_train = df.drop(['winPlacePerc'], axis = 1)\n",
        "  y_train = y_train.fillna(0)\n",
        "  model = LinearRegression(n_jobs=4, normalize=True)\n",
        "  model.fit(X_train,y_train)\n",
        "  return model"
      ]
    },
    {
      "cell_type": "code",
      "execution_count": null,
      "metadata": {
        "id": "mJ3nqxS3vqsZ"
      },
      "outputs": [],
      "source": [
        "from sklearn.svm import SVR"
      ]
    },
    {
      "cell_type": "code",
      "execution_count": null,
      "metadata": {
        "id": "qFPZCI7hvd_c"
      },
      "outputs": [],
      "source": [
        "def get_model_svm(df , k):\n",
        "  y_train = pd.DataFrame(df,columns = ['winPlacePerc'])\n",
        "  X_train = df.drop(['winPlacePerc'], axis = 1)\n",
        "  y_train = y_train.fillna(0)\n",
        "  model = regressor = SVR(kernel=k)\n",
        "  model.fit(X_train,y_train)\n",
        "  return model"
      ]
    },
    {
      "cell_type": "code",
      "execution_count": null,
      "metadata": {
        "id": "AVFCYYhiFFqn"
      },
      "outputs": [],
      "source": [
        "model_solo = get_model_xg(solo_df)\n",
        "model_duo = get_model_xg(duo_df)\n",
        "model_squad = get_model_xg(squad_df)\n"
      ]
    },
    {
      "cell_type": "code",
      "execution_count": null,
      "metadata": {
        "colab": {
          "base_uri": "https://localhost:8080/"
        },
        "id": "a_gEqQKN-XdD",
        "outputId": "9eb91cc4-cf1d-4c9a-d5f1-d6d389cb9383"
      },
      "outputs": [
        {
          "name": "stdout",
          "output_type": "stream",
          "text": [
            "Feature importances: [0.00053961 0.00141083 0.00197113 0.00524637 0.00065432 0.00085186\n",
            " 0.00065256 0.0006027  0.00049115 0.00060464 0.00040042 0.00051437\n",
            " 0.00060862 0.00052966 0.00041061 0.00050358 0.00085942 0.00058049\n",
            " 0.00060988 0.03102492 0.00108974 0.00442001 0.00452598 0.06808681\n",
            " 0.01120003 0.00610733 0.00721758 0.04447981 0.01510926 0.00356595\n",
            " 0.00277125 0.00125418 0.00138706 0.00435267 0.00700686 0.00175779\n",
            " 0.00462859 0.00459271 0.0186839  0.00303203 0.00076405 0.0020919\n",
            " 0.00157242 0.00112445 0.00101201 0.0031137  0.2739069  0.38685542\n",
            " 0.00179703 0.00076741 0.01223019 0.04354714 0.00088498 0.0007335\n",
            " 0.00055847 0.00065439 0.00075062 0.00057232 0.00067441 0.00087236\n",
            " 0.00068089 0.00049889]\n"
          ]
        }
      ],
      "source": [
        "print('Feature importances:', model_squad.feature_importances_)"
      ]
    },
    {
      "cell_type": "code",
      "execution_count": null,
      "metadata": {
        "id": "u5bJejVmfTcA"
      },
      "outputs": [],
      "source": []
    },
    {
      "cell_type": "markdown",
      "metadata": {
        "id": "pnLyXC0aW5rO"
      },
      "source": [
        "\n",
        "\n",
        "---\n",
        "\n",
        "\n",
        "# **TESTING**\n",
        "\n",
        "---\n",
        "\n",
        "\n",
        "\n"
      ]
    },
    {
      "cell_type": "code",
      "execution_count": null,
      "metadata": {
        "id": "y_W-PITTGWjf"
      },
      "outputs": [],
      "source": [
        "testdf_grouped = testdf.copy()\n",
        "\n",
        "testdf_grouped = preprocess(testdf_grouped,0)\n",
        "\n",
        "squad_df_test = testdf_grouped[(testdf_grouped['matchType'] =='squad-fpp') | (testdf_grouped['matchType']=='squad') | (testdf_grouped['matchType']=='normal-squad-fpp') | (testdf_grouped['matchType']=='normal-squad')]\n",
        "duo_df_test = testdf_grouped[(testdf_grouped['matchType']=='duo-fpp') | (testdf_grouped['matchType']=='duo')| (testdf_grouped['matchType']=='normal-duo-fpp')| (testdf_grouped['matchType']=='normal-duo')]\n",
        "solo_df_test = testdf_grouped[(testdf_grouped['matchType']!='squad-fpp') & (testdf_grouped['matchType']!='squad')& (testdf_grouped['matchType']!='normal-duo')& (testdf_grouped['matchType']!='normal-duo-fpp') & (testdf_grouped['matchType']!='normal-squad-fpp') & (testdf_grouped['matchType']!='normal-squad')& (testdf_grouped['matchType']!='duo-fpp') & (testdf_grouped['matchType']!='duo')]\n",
        "\n",
        "\n",
        "\n",
        "squad_df_test_grouped = squad_df_test.groupby('groupId',as_index=False).agg(group_by_columns_test)\n",
        "duo_df_test_grouped  = duo_df_test.groupby('groupId',as_index=False).agg(group_by_columns_test)\n",
        "solo_df_test_grouped = solo_df_test.drop(columns = ['matchType'])\n",
        "\n",
        "#\n",
        "sq_g = squad_df_test.drop(columns = ['matchType'])\n",
        "\n",
        "\n",
        "\n",
        "squad_df_test.sort_index(axis=1, inplace=True)\n",
        "duo_df_test.sort_index(axis=1, inplace=True)\n",
        "solo_df_test.sort_index(axis=1, inplace=True)\n",
        "squad_df_test_grouped.sort_index(axis=1, inplace=True)\n",
        "duo_df_test_grouped.sort_index(axis=1, inplace=True)\n",
        "solo_df_test_grouped.sort_index(axis=1, inplace=True)\n",
        "\n",
        "#\n",
        "sq_g.sort_index(axis=1, inplace=True)\n",
        "\n",
        "\n",
        "squad_df_test_grouped.rename(columns='_'.join, inplace=True)\n",
        "squad_df_test_grouped.columns = squad_df_test_grouped.columns.map('_'.join)\n",
        "\n",
        "duo_df_test_grouped.rename(columns='_'.join, inplace=True)\n",
        "duo_df_test_grouped.columns = duo_df_test_grouped.columns.map('_'.join)\n",
        "\n",
        "squad_df_test_grouped.columns = squad_df_test_grouped.columns.str.replace('_', '')\n",
        "duo_df_test_grouped.columns = duo_df_test_grouped.columns.str.replace('_', '')\n",
        "\n",
        "duo_df_test_grouped.rename(columns = {'winPlacePercmax':'winPlacePerc' , 'Idfirst':'Id'}, inplace = True)\n",
        "squad_df_test_grouped.rename(columns = {'winPlacePercmax':'winPlacePerc','Idfirst':'Id'}, inplace = True)\n"
      ]
    },
    {
      "cell_type": "code",
      "execution_count": null,
      "metadata": {
        "id": "uv2FBbf3Kjme"
      },
      "outputs": [],
      "source": [
        "from sklearn.metrics import mean_absolute_error\n",
        "import sklearn.metrics as metrics"
      ]
    },
    {
      "cell_type": "code",
      "execution_count": null,
      "metadata": {
        "id": "cxQ0vxMLJD02"
      },
      "outputs": [],
      "source": [
        "def predict_model(odf ,df, model , s = 1):\n",
        "  id_gid = pd.DataFrame(odf,columns = ['Id','groupId'])\n",
        "  if(dev_mode):\n",
        "    y_test = pd.DataFrame(df,columns = ['winPlacePerc'])\n",
        "    xtest = df.drop(columns = ['groupId' ,'Id', 'winPlacePerc'])\n",
        "  else :\n",
        "    xtest = df.drop(columns = ['groupId','Id'])\n",
        "  xtest.sort_index(axis=1, inplace=True)\n",
        "  predictions = model.predict(xtest)\n",
        "  y_pred = pd.DataFrame(predictions, columns = ['winPlacePerc'])\n",
        "  \n",
        "  for i in range(len(y_pred)):\n",
        "    if y_pred['winPlacePerc'].iloc[i] < 0 :\n",
        "      y_pred['winPlacePerc'].iloc[i] = 0\n",
        "    if y_pred['winPlacePerc'].iloc[i] > 1 :\n",
        "      y_pred['winPlacePerc'].iloc[i] = 1\n",
        "\n",
        "  if(dev_mode):\n",
        "    print('The mean absolute error of prediction is:', metrics.mean_absolute_error(y_test, y_pred))  \n",
        "  if(s == 0):\n",
        "      odf_id = pd.DataFrame(odf,columns = ['Id'])\n",
        "      odf_id.reset_index(drop=True, inplace=True)\n",
        "      res = pd.concat([odf_id, y_pred], axis=1, join='inner' ,ignore_index=True, sort=False)\n",
        "      res.rename(columns={0: 'Id', 1: 'winPlacePerc'}, inplace=True)\n",
        "      return res\n",
        "\n",
        "  gid_target = pd.concat([df['groupId'], y_pred], axis=1, join='inner' ,ignore_index=True, sort=False)\n",
        "  gid_target.rename(columns={0: 'groupId', 1: 'winPlacePerc'}, inplace=True)\n",
        "  result = id_gid.merge(gid_target, how='inner', on='groupId')\n",
        "  result.drop(columns=['groupId'],inplace = True)\n",
        "  return result\n",
        "  \n"
      ]
    },
    {
      "cell_type": "code",
      "execution_count": null,
      "metadata": {
        "colab": {
          "base_uri": "https://localhost:8080/"
        },
        "id": "rj0JjFlCyh8d",
        "outputId": "9482e8da-38f6-4178-9da3-8288abab690a"
      },
      "outputs": [
        {
          "name": "stdout",
          "output_type": "stream",
          "text": [
            "The mean absolute error of prediction is: 0.0423610555433123\n"
          ]
        }
      ],
      "source": [
        "result_solo = predict_model(solo_df_test_grouped ,solo_df_test_grouped, model_solo,0)"
      ]
    },
    {
      "cell_type": "code",
      "execution_count": null,
      "metadata": {
        "id": "q4auTEaUA7_x"
      },
      "outputs": [],
      "source": [
        "duo_df_test_grouped.replace([np.inf, -np.inf], np.nan, inplace=True)\n",
        "squad_df_test_grouped.replace([np.inf, -np.inf], np.nan, inplace=True)\n",
        "duo_df_test_grouped.fillna(0,inplace=True)\n",
        "squad_df_test_grouped.fillna(0,inplace=True)\n",
        "\n"
      ]
    },
    {
      "cell_type": "code",
      "execution_count": null,
      "metadata": {
        "colab": {
          "base_uri": "https://localhost:8080/"
        },
        "id": "k13ujxPvURaE",
        "outputId": "e7265417-07c5-4f1e-c550-e8e33537dcbf"
      },
      "outputs": [
        {
          "name": "stdout",
          "output_type": "stream",
          "text": [
            "The mean absolute error of prediction is: 0.04693529689057275\n"
          ]
        }
      ],
      "source": [
        "result_duo = predict_model(duo_df_test ,duo_df_test_grouped, model_duo)"
      ]
    },
    {
      "cell_type": "code",
      "execution_count": null,
      "metadata": {
        "colab": {
          "base_uri": "https://localhost:8080/"
        },
        "id": "T6PfShq6Up29",
        "outputId": "05faaccf-741d-4cc0-9f1a-ba74a505237f"
      },
      "outputs": [
        {
          "name": "stdout",
          "output_type": "stream",
          "text": [
            "The mean absolute error of prediction is: 0.06341065474921555\n"
          ]
        }
      ],
      "source": [
        "result_squad = predict_model(squad_df_test,squad_df_test_grouped , model_squad)"
      ]
    },
    {
      "cell_type": "code",
      "execution_count": null,
      "metadata": {
        "id": "tbL4Lv-NWNH_"
      },
      "outputs": [],
      "source": [
        "#0.6330"
      ]
    },
    {
      "cell_type": "code",
      "execution_count": null,
      "metadata": {
        "id": "QBYaCCodoChl"
      },
      "outputs": [],
      "source": [
        "if(not dev_mode):\n",
        "  result = pd.concat([result_squad, result_duo, result_solo])\n",
        "  result.fillna(0.5,inplace = True)\n",
        "  result.to_csv('submissionV94.csv', header=True , index = False)\n",
        "\n"
      ]
    },
    {
      "cell_type": "code",
      "execution_count": null,
      "metadata": {
        "id": "diRHsUZ2OXmD"
      },
      "outputs": [],
      "source": []
    },
    {
      "cell_type": "markdown",
      "metadata": {
        "id": "_cetuuelt4ov"
      },
      "source": [
        "# Ungrouped Benchmark"
      ]
    },
    {
      "cell_type": "code",
      "execution_count": null,
      "metadata": {
        "id": "Nkt9U4Hk-0oY"
      },
      "outputs": [],
      "source": [
        "ungrouped_df = df.drop(columns = ['matchType','groupId'])  \n",
        "ungrouped_df.sort_index(axis=1, inplace=True)"
      ]
    },
    {
      "cell_type": "code",
      "execution_count": null,
      "metadata": {
        "colab": {
          "base_uri": "https://localhost:8080/"
        },
        "id": "rc0YOUau-eZO",
        "outputId": "2f0aa4e4-61f0-4e57-a784-e1031ff4c6d2"
      },
      "outputs": [
        {
          "name": "stdout",
          "output_type": "stream",
          "text": [
            "[LightGBM] [Warning] bagging_fraction is set=0.7, subsample=1.0 will be ignored. Current value: bagging_fraction=0.7\n",
            "[LightGBM] [Warning] bagging_fraction is set=0.7, subsample=1.0 will be ignored. Current value: bagging_fraction=0.7\n",
            "[LightGBM] [Info] This is the GPU trainer!!\n",
            "[LightGBM] [Info] Total Bins 3527\n",
            "[LightGBM] [Info] Number of data points in the train set: 2079544, number of used features: 24\n",
            "[LightGBM] [Info] Using GPU Device: Tesla T4, Vendor: NVIDIA Corporation\n",
            "[LightGBM] [Info] Compiling OpenCL Kernel with 256 bins...\n",
            "[LightGBM] [Info] GPU programs have been built\n",
            "[LightGBM] [Info] Size of histogram bin entry: 8\n",
            "[LightGBM] [Info] 19 dense feature groups (39.66 MB) transferred to GPU in 0.068726 secs. 1 sparse feature groups\n",
            "[LightGBM] [Info] Start training from score 0.474267\n"
          ]
        }
      ],
      "source": [
        "model_ungrouped = get_model_lgbm(ungrouped_df)"
      ]
    },
    {
      "cell_type": "code",
      "execution_count": null,
      "metadata": {
        "id": "LJmQQf-HHUKN"
      },
      "outputs": [],
      "source": [
        "test_ungrouped = testdf_grouped.drop(columns = ['matchType'])\n",
        "test_ungrouped.sort_index(axis=1, inplace=True)"
      ]
    },
    {
      "cell_type": "code",
      "execution_count": null,
      "metadata": {
        "colab": {
          "base_uri": "https://localhost:8080/"
        },
        "id": "88SItF7B9wbi",
        "outputId": "63bc74a4-05b3-4df1-83b3-378eed11b9c8"
      },
      "outputs": [
        {
          "name": "stdout",
          "output_type": "stream",
          "text": [
            "[LightGBM] [Warning] bagging_fraction is set=0.7, subsample=1.0 will be ignored. Current value: bagging_fraction=0.7\n",
            "The mean absolute error of prediction is: 0.05738620868328145\n"
          ]
        }
      ],
      "source": [
        "result_ungrouped = predict_model(test_ungrouped ,test_ungrouped, model_ungrouped,0)"
      ]
    },
    {
      "cell_type": "code",
      "execution_count": null,
      "metadata": {
        "colab": {
          "base_uri": "https://localhost:8080/"
        },
        "id": "9vBneXbLndlr",
        "outputId": "0e4c8a09-53ff-4357-e946-57cf02715e81"
      },
      "outputs": [
        {
          "name": "stdout",
          "output_type": "stream",
          "text": [
            "[LightGBM] [Warning] bagging_fraction is set=0.7, subsample=1.0 will be ignored. Current value: bagging_fraction=0.7\n",
            "The mean absolute error of prediction is: 0.06657632586317018\n"
          ]
        }
      ],
      "source": [
        "r1 = predict_model(sq_g ,sq_g, model_ungrouped,0)"
      ]
    },
    {
      "cell_type": "markdown",
      "metadata": {
        "id": "ckBTPJ9z9r3H"
      },
      "source": [
        "\n",
        "\n",
        "---\n",
        "\n",
        "# Benchmarking\n",
        "\n",
        "---\n",
        "\n"
      ]
    },
    {
      "cell_type": "markdown",
      "metadata": {
        "id": "Zwn2GpU2Y6A9"
      },
      "source": [
        "# GRID SEARCH - LGBM\n",
        "\n"
      ]
    },
    {
      "cell_type": "markdown",
      "metadata": {
        "id": "RUUrFR73e1Ya"
      },
      "source": [
        "**Result**\n",
        "\n",
        "    gridParams = {\n",
        "        'learning_rate'         : [0.1 , 0.05 , 0.75],\n",
        "        'n_estimators '         : [ 1200, 1700,2000,2400],\n",
        "        'bagging_fraction'      : [0.7 , 0.8],\n",
        "        'feature_fraction'      : [0.8,0.7],\n",
        "        'num_leaves'            : [60,85, 110,140],\n",
        "        \"colsample_bytree\"    :   [0.7,0.8],\n",
        "        \"objective\" : [\"regression\"], \n",
        "        \"metric\" : [\"mae\"],\n",
        "        \"num_threads\" : [4],\n",
        "        'device' : ['gpu'],\n",
        "    }\n",
        "\n",
        "\n",
        "\n",
        "```\n",
        "SOLO \n",
        "\n",
        "Best parameters: {'bagging_fraction': 0.8, 'colsample_bytree': 0.8, 'device': 'gpu','feature_fraction': 0.7,  \n",
        "'learning_rate': 0.1, 'metric': 'mae', 'n_estimators ': 2000, 'num_leaves': 140, 'num_threads': 4, 'objective': 'regression'}\n",
        "\n",
        "\n",
        "Accuracy: 0.96\n",
        "```\n",
        "\n"
      ]
    },
    {
      "cell_type": "code",
      "execution_count": null,
      "metadata": {
        "id": "7yrvr56bq3z6"
      },
      "outputs": [],
      "source": [
        "from sklearn.model_selection import GridSearchCV"
      ]
    },
    {
      "cell_type": "code",
      "execution_count": null,
      "metadata": {
        "id": "d_NdWKU0wNzz"
      },
      "outputs": [],
      "source": [
        "def find_best_hyperparameters(df,model):\n",
        "    # Grid parameters for using in Gridsearch while tuning\n",
        "    y_train = pd.DataFrame(df,columns = ['winPlacePerc'])\n",
        "    X_train = df.drop(['winPlacePerc'], axis = 1)\n",
        "    y_train = y_train.fillna(0)\n",
        "    gridParams = {\n",
        "        'learning_rate'         : [0.1 , 0.05 , 0.75],\n",
        "        'n_estimators '         : [ 1200, 1700,2000,2400],\n",
        "        'bagging_fraction'      : [0.7 , 0.8],\n",
        "        'feature_fraction'      : [0.8,0.7],\n",
        "        'num_leaves'            : [60,85, 110,140],\n",
        "        \"colsample_bytree\"    :   [0.7,0.8],\n",
        "        \"objective\" : [\"regression\"], \n",
        "        \"metric\" : [\"mae\"],\n",
        "        \"num_threads\" : [4],\n",
        "        'device' : ['gpu'],\n",
        "    }\n",
        "    # Create the grid\n",
        "    grid = GridSearchCV(model, \n",
        "                        gridParams,\n",
        "                        verbose=1,\n",
        "                        cv=3)\n",
        "    # Run the grid\n",
        "    grid.fit(X_train, y_train)\n",
        "    print('Best parameters: %s' % grid.best_params_)\n",
        "    print('Accuracy: %.2f' % grid.best_score_)\n",
        "    return"
      ]
    },
    {
      "cell_type": "code",
      "execution_count": null,
      "metadata": {
        "id": "XffgGAeD30GK"
      },
      "outputs": [],
      "source": [
        " model = LGBMRegressor()"
      ]
    },
    {
      "cell_type": "code",
      "execution_count": null,
      "metadata": {
        "id": "IdjqdoqQ8Qvl"
      },
      "outputs": [],
      "source": [
        "find_best_hyperparameters(squad_df,model) \n",
        "find_best_hyperparameters(solo_df,model) "
      ]
    },
    {
      "cell_type": "code",
      "execution_count": null,
      "metadata": {
        "id": "GNln3fcg9EIY"
      },
      "outputs": [],
      "source": []
    },
    {
      "cell_type": "markdown",
      "metadata": {
        "id": "gWf8ws-V8rPn"
      },
      "source": [
        "# Grid Search for XG Boost :"
      ]
    },
    {
      "cell_type": "code",
      "execution_count": null,
      "metadata": {
        "id": "fPF9rxYd8rPn"
      },
      "outputs": [],
      "source": [
        "import xgboost as xgb\n",
        "from sklearn.metrics import mean_absolute_error\n",
        "from sklearn.metrics import r2_score\n",
        "from sklearn.model_selection import RandomizedSearchCV\n",
        "from sklearn.metrics import mean_absolute_error\n",
        "from sklearn.metrics import fbeta_score, make_scorer\n",
        "from xgboost.sklearn import XGBRegressor\n",
        "from xgboost.sklearn import XGBRegressor\n",
        "import datetime\n",
        "from sklearn.model_selection import GridSearchCV"
      ]
    },
    {
      "cell_type": "code",
      "execution_count": null,
      "metadata": {
        "id": "O-_g6NGF8rPn",
        "outputId": "178ad812-f11f-4e85-e811-190607bf17a6"
      },
      "outputs": [
        {
          "name": "stdout",
          "output_type": "stream",
          "text": [
            "Fitting 2 folds for each of 9 candidates, totalling 18 fits\n",
            "[01:30:13] WARNING: C:/buildkite-agent/builds/buildkite-windows-cpu-autoscaling-group-i-03de431ba26204c4d-1/xgboost/xgboost-ci-windows/src/objective/regression_obj.cu:213: reg:linear is now deprecated in favor of reg:squarederror.\n",
            "[01:30:13] WARNING: C:/buildkite-agent/builds/buildkite-windows-cpu-autoscaling-group-i-03de431ba26204c4d-1/xgboost/xgboost-ci-windows/src/learner.cc:767: \n",
            "Parameters: { \"silent\" } are not used.\n",
            "\n",
            "0.9620177534505304\n",
            "{'colsample_bytree': 0.7, 'learning_rate': 0.05, 'max_depth': 7, 'min_child_weight': 4, 'n_estimators': 500, 'nthread': 4, 'objective': 'reg:linear', 'silent': 1, 'subsample': 0.7, 'tree_method': 'gpu_hist'}\n"
          ]
        }
      ],
      "source": [
        "# Grid Search for Solo Data on XG Boost\n",
        "xgb1 = XGBRegressor()\n",
        "parameters = {'nthread':[4], #when use hyperthread, xgboost may become slower\n",
        "              'objective':['reg:linear'],\n",
        "              'learning_rate': [.03, 0.05, .07], #so called `eta` value\n",
        "              'max_depth': [5, 6, 7],\n",
        "              'min_child_weight': [4],\n",
        "              'silent': [1],\n",
        "              'subsample': [0.7],\n",
        "              'colsample_bytree': [0.7],\n",
        "              'n_estimators': [500],\n",
        "             'tree_method':['gpu_hist']}\n",
        "\n",
        "xgb_grid = GridSearchCV(xgb1,\n",
        "                        parameters,\n",
        "                        cv = 2,\n",
        "                        n_jobs = 5,\n",
        "                        verbose=True)\n",
        "\n",
        "xgb_grid.fit(solo_df.drop(columns='winPlacePerc',axis=1), solo_df['winPlacePerc'])\n",
        "\n",
        "print(xgb_grid.best_score_)\n",
        "print(xgb_grid.best_params_)"
      ]
    },
    {
      "cell_type": "code",
      "execution_count": null,
      "metadata": {
        "id": "4G_9u_id8rPo",
        "outputId": "8f4e6059-d40e-4930-a6e9-0191ade5f5d3"
      },
      "outputs": [
        {
          "name": "stdout",
          "output_type": "stream",
          "text": [
            "Fitting 2 folds for each of 9 candidates, totalling 18 fits\n",
            "[09:47:28] WARNING: C:/buildkite-agent/builds/buildkite-windows-cpu-autoscaling-group-i-03de431ba26204c4d-1/xgboost/xgboost-ci-windows/src/objective/regression_obj.cu:213: reg:linear is now deprecated in favor of reg:squarederror.\n",
            "[09:47:28] WARNING: C:/buildkite-agent/builds/buildkite-windows-cpu-autoscaling-group-i-03de431ba26204c4d-1/xgboost/xgboost-ci-windows/src/learner.cc:767: \n",
            "Parameters: { \"silent\" } are not used.\n",
            "\n",
            "0.9315941745787972\n",
            "{'colsample_bytree': 0.7, 'learning_rate': 0.05, 'max_depth': 7, 'min_child_weight': 4, 'n_estimators': 500, 'nthread': 4, 'objective': 'reg:linear', 'silent': 1, 'subsample': 0.7, 'tree_method': 'gpu_hist'}\n"
          ]
        }
      ],
      "source": [
        "# Grid Search for Squad Data on XG Boost\n",
        "xgb1 = XGBRegressor()\n",
        "parameters = {'nthread':[4], #when use hyperthread, xgboost may become slower\n",
        "              'objective':['reg:linear'],\n",
        "              'learning_rate': [.03, 0.05, .07], #so called `eta` value\n",
        "              'max_depth': [5, 6, 7],\n",
        "              'min_child_weight': [4],\n",
        "              'silent': [1],\n",
        "              'subsample': [0.7],\n",
        "              'colsample_bytree': [0.7],\n",
        "              'n_estimators': [500],\n",
        "             'tree_method':['gpu_hist']}\n",
        "\n",
        "xgb_grid = GridSearchCV(xgb1,\n",
        "                        parameters,\n",
        "                        cv = 2,\n",
        "                        n_jobs = 5,\n",
        "                        verbose=True)\n",
        "\n",
        "xgb_grid.fit(squad_df.drop(columns='winPlacePerc',axis=1), squad_df['winPlacePerc'])\n",
        "\n",
        "print(xgb_grid.best_score_)\n",
        "print(xgb_grid.best_params_)"
      ]
    },
    {
      "cell_type": "code",
      "execution_count": null,
      "metadata": {
        "id": "785VwWV-8rPo",
        "outputId": "6a93226a-5dce-49bd-b520-940d22e0dcf5"
      },
      "outputs": [
        {
          "name": "stdout",
          "output_type": "stream",
          "text": [
            "Fitting 2 folds for each of 9 candidates, totalling 18 fits\n",
            "[11:59:40] WARNING: C:/buildkite-agent/builds/buildkite-windows-cpu-autoscaling-group-i-03de431ba26204c4d-1/xgboost/xgboost-ci-windows/src/objective/regression_obj.cu:213: reg:linear is now deprecated in favor of reg:squarederror.\n",
            "[11:59:41] WARNING: C:/buildkite-agent/builds/buildkite-windows-cpu-autoscaling-group-i-03de431ba26204c4d-1/xgboost/xgboost-ci-windows/src/learner.cc:767: \n",
            "Parameters: { \"silent\" } are not used.\n",
            "\n",
            "0.9546865985514996\n",
            "{'colsample_bytree': 0.7, 'learning_rate': 0.05, 'max_depth': 7, 'min_child_weight': 4, 'n_estimators': 500, 'nthread': 4, 'objective': 'reg:linear', 'silent': 1, 'subsample': 0.7, 'tree_method': 'gpu_hist'}\n"
          ]
        }
      ],
      "source": [
        "# Grid Search for Duo grouped Data on XG Boost\n",
        "xgb1 = XGBRegressor()\n",
        "parameters = {'nthread':[4], #when use hyperthread, xgboost may become slower\n",
        "              'objective':['reg:linear'],\n",
        "              'learning_rate': [.03, 0.05, .07], #so called `eta` value\n",
        "              'max_depth': [5, 6, 7],\n",
        "              'min_child_weight': [4],\n",
        "              'silent': [1],\n",
        "              'subsample': [0.7],\n",
        "              'colsample_bytree': [0.7],\n",
        "              'n_estimators': [500],\n",
        "             'tree_method':['gpu_hist']}\n",
        "\n",
        "xgb_grid = GridSearchCV(xgb1,\n",
        "                        parameters,\n",
        "                        cv = 2,\n",
        "                        n_jobs = 5,\n",
        "                        verbose=True)\n",
        "\n",
        "xgb_grid.fit(duo_df.drop(columns='winPlacePerc',axis=1), duo_df['winPlacePerc'])\n",
        "\n",
        "print(xgb_grid.best_score_)\n",
        "print(xgb_grid.best_params_)"
      ]
    },
    {
      "cell_type": "markdown",
      "metadata": {
        "id": "DWizlhVe8rPo"
      },
      "source": [
        "##### Benchmark Testing : "
      ]
    },
    {
      "cell_type": "code",
      "execution_count": null,
      "metadata": {
        "id": "E88YqSfa8rPo",
        "outputId": "7310e224-487a-4ffe-8768-3e6172df8d82"
      },
      "outputs": [
        {
          "name": "stdout",
          "output_type": "stream",
          "text": [
            "[22:02:50] WARNING: C:/buildkite-agent/builds/buildkite-windows-cpu-autoscaling-group-i-03de431ba26204c4d-1/xgboost/xgboost-ci-windows/src/objective/regression_obj.cu:213: reg:linear is now deprecated in favor of reg:squarederror.\n",
            "----------------------------------------\n",
            " Model Paramaters : \n",
            "{'colsample_bytree': 0.7, 'learning_rate': 0.05, 'max_depth': 7, 'min_child_weight': 4, 'n_estimators': 500, 'nthread': 4, 'objective': 'reg:linear', 'subsample': 0.7, 'tree_method': 'gpu_hist'}\n",
            "The mean absolute error of prediction is: 0.04277823164065137\n",
            "[22:02:58] WARNING: C:/buildkite-agent/builds/buildkite-windows-cpu-autoscaling-group-i-03de431ba26204c4d-1/xgboost/xgboost-ci-windows/src/objective/regression_obj.cu:213: reg:linear is now deprecated in favor of reg:squarederror.\n",
            "----------------------------------------\n",
            " Model Paramaters : \n",
            "{'colsample_bytree': 0.7, 'learning_rate': 0.05, 'max_depth': 7, 'min_child_weight': 4, 'n_estimators': 600, 'nthread': 4, 'objective': 'reg:linear', 'subsample': 0.7, 'tree_method': 'gpu_hist'}\n",
            "The mean absolute error of prediction is: 0.042693481510916204\n",
            "[22:03:07] WARNING: C:/buildkite-agent/builds/buildkite-windows-cpu-autoscaling-group-i-03de431ba26204c4d-1/xgboost/xgboost-ci-windows/src/objective/regression_obj.cu:213: reg:linear is now deprecated in favor of reg:squarederror.\n",
            "----------------------------------------\n",
            " Model Paramaters : \n",
            "{'colsample_bytree': 0.7, 'learning_rate': 0.05, 'max_depth': 9, 'min_child_weight': 4, 'n_estimators': 500, 'nthread': 4, 'objective': 'reg:linear', 'subsample': 0.7, 'tree_method': 'gpu_hist'}\n",
            "The mean absolute error of prediction is: 0.04253511252141473\n",
            "[22:03:18] WARNING: C:/buildkite-agent/builds/buildkite-windows-cpu-autoscaling-group-i-03de431ba26204c4d-1/xgboost/xgboost-ci-windows/src/objective/regression_obj.cu:213: reg:linear is now deprecated in favor of reg:squarederror.\n",
            "----------------------------------------\n",
            " Model Paramaters : \n",
            "{'colsample_bytree': 0.7, 'learning_rate': 0.05, 'max_depth': 9, 'min_child_weight': 4, 'n_estimators': 600, 'nthread': 4, 'objective': 'reg:linear', 'subsample': 0.7, 'tree_method': 'gpu_hist'}\n",
            "The mean absolute error of prediction is: 0.04250890869370812\n",
            "[22:03:31] WARNING: C:/buildkite-agent/builds/buildkite-windows-cpu-autoscaling-group-i-03de431ba26204c4d-1/xgboost/xgboost-ci-windows/src/objective/regression_obj.cu:213: reg:linear is now deprecated in favor of reg:squarederror.\n",
            "----------------------------------------\n",
            " Model Paramaters : \n",
            "{'colsample_bytree': 0.7, 'learning_rate': 0.04, 'max_depth': 7, 'min_child_weight': 4, 'n_estimators': 500, 'nthread': 4, 'objective': 'reg:linear', 'subsample': 0.7, 'tree_method': 'gpu_hist'}\n",
            "The mean absolute error of prediction is: 0.04281594789905563\n",
            "[22:03:39] WARNING: C:/buildkite-agent/builds/buildkite-windows-cpu-autoscaling-group-i-03de431ba26204c4d-1/xgboost/xgboost-ci-windows/src/objective/regression_obj.cu:213: reg:linear is now deprecated in favor of reg:squarederror.\n",
            "----------------------------------------\n",
            " Model Paramaters : \n",
            "{'colsample_bytree': 0.7, 'learning_rate': 0.04, 'max_depth': 7, 'min_child_weight': 4, 'n_estimators': 600, 'nthread': 4, 'objective': 'reg:linear', 'subsample': 0.7, 'tree_method': 'gpu_hist'}\n",
            "The mean absolute error of prediction is: 0.042718450311204303\n",
            "[22:03:47] WARNING: C:/buildkite-agent/builds/buildkite-windows-cpu-autoscaling-group-i-03de431ba26204c4d-1/xgboost/xgboost-ci-windows/src/objective/regression_obj.cu:213: reg:linear is now deprecated in favor of reg:squarederror.\n",
            "----------------------------------------\n",
            " Model Paramaters : \n",
            "{'colsample_bytree': 0.7, 'learning_rate': 0.04, 'max_depth': 9, 'min_child_weight': 4, 'n_estimators': 500, 'nthread': 4, 'objective': 'reg:linear', 'subsample': 0.7, 'tree_method': 'gpu_hist'}\n",
            "The mean absolute error of prediction is: 0.04258836995790318\n",
            "[22:03:59] WARNING: C:/buildkite-agent/builds/buildkite-windows-cpu-autoscaling-group-i-03de431ba26204c4d-1/xgboost/xgboost-ci-windows/src/objective/regression_obj.cu:213: reg:linear is now deprecated in favor of reg:squarederror.\n",
            "----------------------------------------\n",
            " Model Paramaters : \n",
            "{'colsample_bytree': 0.7, 'learning_rate': 0.04, 'max_depth': 9, 'min_child_weight': 4, 'n_estimators': 600, 'nthread': 4, 'objective': 'reg:linear', 'subsample': 0.7, 'tree_method': 'gpu_hist'}\n",
            "The mean absolute error of prediction is: 0.042534955041867294\n",
            "[22:04:12] WARNING: C:/buildkite-agent/builds/buildkite-windows-cpu-autoscaling-group-i-03de431ba26204c4d-1/xgboost/xgboost-ci-windows/src/objective/regression_obj.cu:213: reg:linear is now deprecated in favor of reg:squarederror.\n",
            "----------------------------------------\n",
            " Model Paramaters : \n",
            "{'colsample_bytree': 0.7, 'learning_rate': 0.06, 'max_depth': 7, 'min_child_weight': 4, 'n_estimators': 500, 'nthread': 4, 'objective': 'reg:linear', 'subsample': 0.7, 'tree_method': 'gpu_hist'}\n",
            "The mean absolute error of prediction is: 0.042708741885590595\n",
            "[22:04:20] WARNING: C:/buildkite-agent/builds/buildkite-windows-cpu-autoscaling-group-i-03de431ba26204c4d-1/xgboost/xgboost-ci-windows/src/objective/regression_obj.cu:213: reg:linear is now deprecated in favor of reg:squarederror.\n",
            "----------------------------------------\n",
            " Model Paramaters : \n",
            "{'colsample_bytree': 0.7, 'learning_rate': 0.06, 'max_depth': 7, 'min_child_weight': 4, 'n_estimators': 600, 'nthread': 4, 'objective': 'reg:linear', 'subsample': 0.7, 'tree_method': 'gpu_hist'}\n",
            "The mean absolute error of prediction is: 0.042653739169740836\n",
            "[22:04:28] WARNING: C:/buildkite-agent/builds/buildkite-windows-cpu-autoscaling-group-i-03de431ba26204c4d-1/xgboost/xgboost-ci-windows/src/objective/regression_obj.cu:213: reg:linear is now deprecated in favor of reg:squarederror.\n",
            "----------------------------------------\n",
            " Model Paramaters : \n",
            "{'colsample_bytree': 0.7, 'learning_rate': 0.06, 'max_depth': 9, 'min_child_weight': 4, 'n_estimators': 500, 'nthread': 4, 'objective': 'reg:linear', 'subsample': 0.7, 'tree_method': 'gpu_hist'}\n",
            "The mean absolute error of prediction is: 0.04250346078504994\n",
            "[22:04:40] WARNING: C:/buildkite-agent/builds/buildkite-windows-cpu-autoscaling-group-i-03de431ba26204c4d-1/xgboost/xgboost-ci-windows/src/objective/regression_obj.cu:213: reg:linear is now deprecated in favor of reg:squarederror.\n",
            "----------------------------------------\n",
            " Model Paramaters : \n",
            "{'colsample_bytree': 0.7, 'learning_rate': 0.06, 'max_depth': 9, 'min_child_weight': 4, 'n_estimators': 600, 'nthread': 4, 'objective': 'reg:linear', 'subsample': 0.7, 'tree_method': 'gpu_hist'}\n",
            "The mean absolute error of prediction is: 0.04246925276328048\n"
          ]
        }
      ],
      "source": [
        "# Benchmarking with Differnt Paramaters for Solo Grouped Data for XG Boost\n",
        "\n",
        "df = solo_df\n",
        "y_train = pd.DataFrame(df,columns = ['winPlacePerc'])\n",
        "X_train = df.drop(['winPlacePerc'], axis = 1)\n",
        "y_train = y_train.fillna(0)\n",
        "bm_solo_xg = pd.DataFrame(columns=['Parameters','Error'])\n",
        "\n",
        "for lr in [0.05,0.04,0.06]:\n",
        "    for md in [7,9]:\n",
        "        for ne in [500,600]:\n",
        "            params = {'colsample_bytree': 0.7, 'learning_rate': lr, 'max_depth': md, 'min_child_weight': 4, 'n_estimators': ne, 'nthread': 4, 'objective': 'reg:linear', 'subsample': 0.7, 'tree_method': 'gpu_hist'}\n",
        "            model = xgb.XGBRegressor(**params)\n",
        "            model.fit(\n",
        "              X_train, y_train\n",
        "            )\n",
        "            print(\"----------------------------------------\\n Model Paramaters : \")\n",
        "            print(params)\n",
        "            predict_model(solo_df_test ,solo_df_test_grouped, model)\n",
        "            "
      ]
    },
    {
      "cell_type": "code",
      "execution_count": null,
      "metadata": {
        "id": "GYbdYkrJ8rPo",
        "outputId": "2af93c87-6664-4ba8-814a-8001a8ef14a0"
      },
      "outputs": [
        {
          "name": "stdout",
          "output_type": "stream",
          "text": [
            "[22:04:54] WARNING: C:/buildkite-agent/builds/buildkite-windows-cpu-autoscaling-group-i-03de431ba26204c4d-1/xgboost/xgboost-ci-windows/src/objective/regression_obj.cu:213: reg:linear is now deprecated in favor of reg:squarederror.\n",
            "----------------------------------------\n",
            " Model Paramaters : \n",
            "{'colsample_bytree': 0.7, 'learning_rate': 0.05, 'max_depth': 7, 'min_child_weight': 4, 'n_estimators': 500, 'nthread': 4, 'objective': 'reg:linear', 'subsample': 0.7, 'tree_method': 'gpu_hist'}\n",
            "The mean absolute error of prediction is: 0.04712668620785963\n",
            "[22:05:10] WARNING: C:/buildkite-agent/builds/buildkite-windows-cpu-autoscaling-group-i-03de431ba26204c4d-1/xgboost/xgboost-ci-windows/src/objective/regression_obj.cu:213: reg:linear is now deprecated in favor of reg:squarederror.\n",
            "----------------------------------------\n",
            " Model Paramaters : \n",
            "{'colsample_bytree': 0.7, 'learning_rate': 0.05, 'max_depth': 7, 'min_child_weight': 4, 'n_estimators': 600, 'nthread': 4, 'objective': 'reg:linear', 'subsample': 0.7, 'tree_method': 'gpu_hist'}\n",
            "The mean absolute error of prediction is: 0.04707425384270283\n",
            "[22:05:26] WARNING: C:/buildkite-agent/builds/buildkite-windows-cpu-autoscaling-group-i-03de431ba26204c4d-1/xgboost/xgboost-ci-windows/src/objective/regression_obj.cu:213: reg:linear is now deprecated in favor of reg:squarederror.\n",
            "----------------------------------------\n",
            " Model Paramaters : \n",
            "{'colsample_bytree': 0.7, 'learning_rate': 0.05, 'max_depth': 9, 'min_child_weight': 4, 'n_estimators': 500, 'nthread': 4, 'objective': 'reg:linear', 'subsample': 0.7, 'tree_method': 'gpu_hist'}\n",
            "The mean absolute error of prediction is: 0.046984259960902275\n",
            "[22:05:45] WARNING: C:/buildkite-agent/builds/buildkite-windows-cpu-autoscaling-group-i-03de431ba26204c4d-1/xgboost/xgboost-ci-windows/src/objective/regression_obj.cu:213: reg:linear is now deprecated in favor of reg:squarederror.\n",
            "----------------------------------------\n",
            " Model Paramaters : \n",
            "{'colsample_bytree': 0.7, 'learning_rate': 0.05, 'max_depth': 9, 'min_child_weight': 4, 'n_estimators': 600, 'nthread': 4, 'objective': 'reg:linear', 'subsample': 0.7, 'tree_method': 'gpu_hist'}\n",
            "The mean absolute error of prediction is: 0.0469556356273892\n",
            "[22:06:07] WARNING: C:/buildkite-agent/builds/buildkite-windows-cpu-autoscaling-group-i-03de431ba26204c4d-1/xgboost/xgboost-ci-windows/src/objective/regression_obj.cu:213: reg:linear is now deprecated in favor of reg:squarederror.\n",
            "----------------------------------------\n",
            " Model Paramaters : \n",
            "{'colsample_bytree': 0.7, 'learning_rate': 0.04, 'max_depth': 7, 'min_child_weight': 4, 'n_estimators': 500, 'nthread': 4, 'objective': 'reg:linear', 'subsample': 0.7, 'tree_method': 'gpu_hist'}\n",
            "The mean absolute error of prediction is: 0.047186249716432434\n",
            "[22:06:22] WARNING: C:/buildkite-agent/builds/buildkite-windows-cpu-autoscaling-group-i-03de431ba26204c4d-1/xgboost/xgboost-ci-windows/src/objective/regression_obj.cu:213: reg:linear is now deprecated in favor of reg:squarederror.\n",
            "----------------------------------------\n",
            " Model Paramaters : \n",
            "{'colsample_bytree': 0.7, 'learning_rate': 0.04, 'max_depth': 7, 'min_child_weight': 4, 'n_estimators': 600, 'nthread': 4, 'objective': 'reg:linear', 'subsample': 0.7, 'tree_method': 'gpu_hist'}\n",
            "The mean absolute error of prediction is: 0.04712572601281344\n",
            "[22:06:37] WARNING: C:/buildkite-agent/builds/buildkite-windows-cpu-autoscaling-group-i-03de431ba26204c4d-1/xgboost/xgboost-ci-windows/src/objective/regression_obj.cu:213: reg:linear is now deprecated in favor of reg:squarederror.\n",
            "----------------------------------------\n",
            " Model Paramaters : \n",
            "{'colsample_bytree': 0.7, 'learning_rate': 0.04, 'max_depth': 9, 'min_child_weight': 4, 'n_estimators': 500, 'nthread': 4, 'objective': 'reg:linear', 'subsample': 0.7, 'tree_method': 'gpu_hist'}\n",
            "The mean absolute error of prediction is: 0.04694967451225951\n",
            "[22:06:59] WARNING: C:/buildkite-agent/builds/buildkite-windows-cpu-autoscaling-group-i-03de431ba26204c4d-1/xgboost/xgboost-ci-windows/src/objective/regression_obj.cu:213: reg:linear is now deprecated in favor of reg:squarederror.\n",
            "----------------------------------------\n",
            " Model Paramaters : \n",
            "{'colsample_bytree': 0.7, 'learning_rate': 0.04, 'max_depth': 9, 'min_child_weight': 4, 'n_estimators': 600, 'nthread': 4, 'objective': 'reg:linear', 'subsample': 0.7, 'tree_method': 'gpu_hist'}\n",
            "The mean absolute error of prediction is: 0.046923191138998045\n",
            "[22:07:23] WARNING: C:/buildkite-agent/builds/buildkite-windows-cpu-autoscaling-group-i-03de431ba26204c4d-1/xgboost/xgboost-ci-windows/src/objective/regression_obj.cu:213: reg:linear is now deprecated in favor of reg:squarederror.\n",
            "----------------------------------------\n",
            " Model Paramaters : \n",
            "{'colsample_bytree': 0.7, 'learning_rate': 0.06, 'max_depth': 7, 'min_child_weight': 4, 'n_estimators': 500, 'nthread': 4, 'objective': 'reg:linear', 'subsample': 0.7, 'tree_method': 'gpu_hist'}\n",
            "The mean absolute error of prediction is: 0.04710603799135232\n",
            "[22:07:38] WARNING: C:/buildkite-agent/builds/buildkite-windows-cpu-autoscaling-group-i-03de431ba26204c4d-1/xgboost/xgboost-ci-windows/src/objective/regression_obj.cu:213: reg:linear is now deprecated in favor of reg:squarederror.\n",
            "----------------------------------------\n",
            " Model Paramaters : \n",
            "{'colsample_bytree': 0.7, 'learning_rate': 0.06, 'max_depth': 7, 'min_child_weight': 4, 'n_estimators': 600, 'nthread': 4, 'objective': 'reg:linear', 'subsample': 0.7, 'tree_method': 'gpu_hist'}\n",
            "The mean absolute error of prediction is: 0.04705759494241881\n",
            "[22:07:54] WARNING: C:/buildkite-agent/builds/buildkite-windows-cpu-autoscaling-group-i-03de431ba26204c4d-1/xgboost/xgboost-ci-windows/src/objective/regression_obj.cu:213: reg:linear is now deprecated in favor of reg:squarederror.\n",
            "----------------------------------------\n",
            " Model Paramaters : \n",
            "{'colsample_bytree': 0.7, 'learning_rate': 0.06, 'max_depth': 9, 'min_child_weight': 4, 'n_estimators': 500, 'nthread': 4, 'objective': 'reg:linear', 'subsample': 0.7, 'tree_method': 'gpu_hist'}\n",
            "The mean absolute error of prediction is: 0.04703563942424392\n",
            "[22:08:14] WARNING: C:/buildkite-agent/builds/buildkite-windows-cpu-autoscaling-group-i-03de431ba26204c4d-1/xgboost/xgboost-ci-windows/src/objective/regression_obj.cu:213: reg:linear is now deprecated in favor of reg:squarederror.\n",
            "----------------------------------------\n",
            " Model Paramaters : \n",
            "{'colsample_bytree': 0.7, 'learning_rate': 0.06, 'max_depth': 9, 'min_child_weight': 4, 'n_estimators': 600, 'nthread': 4, 'objective': 'reg:linear', 'subsample': 0.7, 'tree_method': 'gpu_hist'}\n",
            "The mean absolute error of prediction is: 0.04702919172339137\n"
          ]
        }
      ],
      "source": [
        "# Benchmarking with Differnt Paramaters for Dual Grouped Data for XG Boost\n",
        "\n",
        "df = duo_df\n",
        "y_train = pd.DataFrame(df,columns = ['winPlacePerc'])\n",
        "X_train = df.drop(['winPlacePerc'], axis = 1)\n",
        "y_train = y_train.fillna(0)\n",
        "\n",
        "for lr in [0.05,0.04,0.06]:\n",
        "    for md in [7,9]:\n",
        "        for ne in [500,600]:\n",
        "            params = {'colsample_bytree': 0.7, 'learning_rate': lr, 'max_depth': md, 'min_child_weight': 4, 'n_estimators': ne, 'nthread': 4, 'objective': 'reg:linear', 'subsample': 0.7, 'tree_method': 'gpu_hist'}\n",
        "            model = xgb.XGBRegressor(**params)\n",
        "            model.fit(\n",
        "              X_train, y_train\n",
        "            )\n",
        "            print(\"----------------------------------------\\n Model Paramaters : \")\n",
        "            print(params)\n",
        "            predict_model(duo_df_test ,duo_df_test_grouped, model)\n",
        "            \n",
        "            "
      ]
    },
    {
      "cell_type": "code",
      "execution_count": null,
      "metadata": {
        "id": "D-2cAaiF8rPo",
        "outputId": "073d17a8-f4dc-4ac4-8e5d-c6e7c78e639f"
      },
      "outputs": [
        {
          "name": "stdout",
          "output_type": "stream",
          "text": [
            "[22:35:36] WARNING: C:/buildkite-agent/builds/buildkite-windows-cpu-autoscaling-group-i-03de431ba26204c4d-1/xgboost/xgboost-ci-windows/src/objective/regression_obj.cu:213: reg:linear is now deprecated in favor of reg:squarederror.\n",
            "----------------------------------------\n",
            " Model Paramaters : \n",
            "{'colsample_bytree': 0.7, 'learning_rate': 0.05, 'max_depth': 7, 'min_child_weight': 4, 'n_estimators': 500, 'nthread': 4, 'objective': 'reg:linear', 'subsample': 0.7, 'tree_method': 'gpu_hist'}\n",
            "The mean absolute error of prediction is: 0.06361005108499965\n",
            "[22:35:54] WARNING: C:/buildkite-agent/builds/buildkite-windows-cpu-autoscaling-group-i-03de431ba26204c4d-1/xgboost/xgboost-ci-windows/src/objective/regression_obj.cu:213: reg:linear is now deprecated in favor of reg:squarederror.\n",
            "----------------------------------------\n",
            " Model Paramaters : \n",
            "{'colsample_bytree': 0.7, 'learning_rate': 0.05, 'max_depth': 7, 'min_child_weight': 4, 'n_estimators': 600, 'nthread': 4, 'objective': 'reg:linear', 'subsample': 0.7, 'tree_method': 'gpu_hist'}\n",
            "The mean absolute error of prediction is: 0.06354192555817892\n",
            "[22:36:15] WARNING: C:/buildkite-agent/builds/buildkite-windows-cpu-autoscaling-group-i-03de431ba26204c4d-1/xgboost/xgboost-ci-windows/src/objective/regression_obj.cu:213: reg:linear is now deprecated in favor of reg:squarederror.\n",
            "----------------------------------------\n",
            " Model Paramaters : \n",
            "{'colsample_bytree': 0.7, 'learning_rate': 0.05, 'max_depth': 9, 'min_child_weight': 4, 'n_estimators': 500, 'nthread': 4, 'objective': 'reg:linear', 'subsample': 0.7, 'tree_method': 'gpu_hist'}\n",
            "The mean absolute error of prediction is: 0.06346587313767461\n",
            "[22:36:42] WARNING: C:/buildkite-agent/builds/buildkite-windows-cpu-autoscaling-group-i-03de431ba26204c4d-1/xgboost/xgboost-ci-windows/src/objective/regression_obj.cu:213: reg:linear is now deprecated in favor of reg:squarederror.\n",
            "----------------------------------------\n",
            " Model Paramaters : \n",
            "{'colsample_bytree': 0.7, 'learning_rate': 0.05, 'max_depth': 9, 'min_child_weight': 4, 'n_estimators': 600, 'nthread': 4, 'objective': 'reg:linear', 'subsample': 0.7, 'tree_method': 'gpu_hist'}\n",
            "The mean absolute error of prediction is: 0.06345825547122182\n",
            "[22:37:11] WARNING: C:/buildkite-agent/builds/buildkite-windows-cpu-autoscaling-group-i-03de431ba26204c4d-1/xgboost/xgboost-ci-windows/src/objective/regression_obj.cu:213: reg:linear is now deprecated in favor of reg:squarederror.\n",
            "----------------------------------------\n",
            " Model Paramaters : \n",
            "{'colsample_bytree': 0.7, 'learning_rate': 0.04, 'max_depth': 7, 'min_child_weight': 4, 'n_estimators': 500, 'nthread': 4, 'objective': 'reg:linear', 'subsample': 0.7, 'tree_method': 'gpu_hist'}\n",
            "The mean absolute error of prediction is: 0.06368341112786136\n",
            "[22:37:31] WARNING: C:/buildkite-agent/builds/buildkite-windows-cpu-autoscaling-group-i-03de431ba26204c4d-1/xgboost/xgboost-ci-windows/src/objective/regression_obj.cu:213: reg:linear is now deprecated in favor of reg:squarederror.\n",
            "----------------------------------------\n",
            " Model Paramaters : \n",
            "{'colsample_bytree': 0.7, 'learning_rate': 0.04, 'max_depth': 7, 'min_child_weight': 4, 'n_estimators': 600, 'nthread': 4, 'objective': 'reg:linear', 'subsample': 0.7, 'tree_method': 'gpu_hist'}\n",
            "The mean absolute error of prediction is: 0.06358561493414053\n",
            "[22:37:51] WARNING: C:/buildkite-agent/builds/buildkite-windows-cpu-autoscaling-group-i-03de431ba26204c4d-1/xgboost/xgboost-ci-windows/src/objective/regression_obj.cu:213: reg:linear is now deprecated in favor of reg:squarederror.\n",
            "----------------------------------------\n",
            " Model Paramaters : \n",
            "{'colsample_bytree': 0.7, 'learning_rate': 0.04, 'max_depth': 9, 'min_child_weight': 4, 'n_estimators': 500, 'nthread': 4, 'objective': 'reg:linear', 'subsample': 0.7, 'tree_method': 'gpu_hist'}\n",
            "The mean absolute error of prediction is: 0.06341990514865593\n",
            "[22:38:17] WARNING: C:/buildkite-agent/builds/buildkite-windows-cpu-autoscaling-group-i-03de431ba26204c4d-1/xgboost/xgboost-ci-windows/src/objective/regression_obj.cu:213: reg:linear is now deprecated in favor of reg:squarederror.\n",
            "----------------------------------------\n",
            " Model Paramaters : \n",
            "{'colsample_bytree': 0.7, 'learning_rate': 0.04, 'max_depth': 9, 'min_child_weight': 4, 'n_estimators': 600, 'nthread': 4, 'objective': 'reg:linear', 'subsample': 0.7, 'tree_method': 'gpu_hist'}\n",
            "The mean absolute error of prediction is: 0.06338337728980284\n",
            "[22:38:46] WARNING: C:/buildkite-agent/builds/buildkite-windows-cpu-autoscaling-group-i-03de431ba26204c4d-1/xgboost/xgboost-ci-windows/src/objective/regression_obj.cu:213: reg:linear is now deprecated in favor of reg:squarederror.\n",
            "----------------------------------------\n",
            " Model Paramaters : \n",
            "{'colsample_bytree': 0.7, 'learning_rate': 0.06, 'max_depth': 7, 'min_child_weight': 4, 'n_estimators': 500, 'nthread': 4, 'objective': 'reg:linear', 'subsample': 0.7, 'tree_method': 'gpu_hist'}\n",
            "The mean absolute error of prediction is: 0.06359596562743011\n",
            "[22:39:04] WARNING: C:/buildkite-agent/builds/buildkite-windows-cpu-autoscaling-group-i-03de431ba26204c4d-1/xgboost/xgboost-ci-windows/src/objective/regression_obj.cu:213: reg:linear is now deprecated in favor of reg:squarederror.\n",
            "----------------------------------------\n",
            " Model Paramaters : \n",
            "{'colsample_bytree': 0.7, 'learning_rate': 0.06, 'max_depth': 7, 'min_child_weight': 4, 'n_estimators': 600, 'nthread': 4, 'objective': 'reg:linear', 'subsample': 0.7, 'tree_method': 'gpu_hist'}\n",
            "The mean absolute error of prediction is: 0.06354468636892242\n",
            "[22:39:24] WARNING: C:/buildkite-agent/builds/buildkite-windows-cpu-autoscaling-group-i-03de431ba26204c4d-1/xgboost/xgboost-ci-windows/src/objective/regression_obj.cu:213: reg:linear is now deprecated in favor of reg:squarederror.\n",
            "----------------------------------------\n",
            " Model Paramaters : \n",
            "{'colsample_bytree': 0.7, 'learning_rate': 0.06, 'max_depth': 9, 'min_child_weight': 4, 'n_estimators': 500, 'nthread': 4, 'objective': 'reg:linear', 'subsample': 0.7, 'tree_method': 'gpu_hist'}\n",
            "The mean absolute error of prediction is: 0.06350351184681771\n",
            "[22:39:49] WARNING: C:/buildkite-agent/builds/buildkite-windows-cpu-autoscaling-group-i-03de431ba26204c4d-1/xgboost/xgboost-ci-windows/src/objective/regression_obj.cu:213: reg:linear is now deprecated in favor of reg:squarederror.\n",
            "----------------------------------------\n",
            " Model Paramaters : \n",
            "{'colsample_bytree': 0.7, 'learning_rate': 0.06, 'max_depth': 9, 'min_child_weight': 4, 'n_estimators': 600, 'nthread': 4, 'objective': 'reg:linear', 'subsample': 0.7, 'tree_method': 'gpu_hist'}\n",
            "The mean absolute error of prediction is: 0.06351258369358434\n"
          ]
        }
      ],
      "source": [
        "# Benchmarking with Differnt Paramaters for Squad Grouped Data for XG Boost\n",
        "\n",
        "df = squad_df\n",
        "y_train = pd.DataFrame(df,columns = ['winPlacePerc'])\n",
        "X_train = df.drop(['winPlacePerc'], axis = 1)\n",
        "y_train = y_train.fillna(0)\n",
        "\n",
        "for lr in [0.05,0.04,0.06]:\n",
        "    for md in [7,9]:\n",
        "        for ne in [500,600]:\n",
        "            params = {'colsample_bytree': 0.7, 'learning_rate': lr, 'max_depth': md, 'min_child_weight': 4, 'n_estimators': ne, 'nthread': 4, 'objective': 'reg:linear', 'subsample': 0.7, 'tree_method': 'gpu_hist'}\n",
        "            model = xgb.XGBRegressor(**params)\n",
        "            model.fit(\n",
        "              X_train, y_train\n",
        "            )\n",
        "            print(\"----------------------------------------\\n Model Paramaters : \")\n",
        "            print(params)\n",
        "            predict_model(squad_df_test ,squad_df_test_grouped, model)\n",
        "            \n",
        "            "
      ]
    },
    {
      "cell_type": "markdown",
      "metadata": {
        "id": "IpgRE0fd8rPp"
      },
      "source": [
        "# Grid Search for Linear Regression : "
      ]
    },
    {
      "cell_type": "code",
      "execution_count": null,
      "metadata": {
        "id": "eLQdnNZB8rPp"
      },
      "outputs": [],
      "source": [
        "from sklearn.linear_model import Ridge\n",
        "from sklearn.model_selection import RepeatedKFold\n",
        "from sklearn.model_selection import GridSearchCV\n",
        "from sklearn.metrics import mean_squared_error, mean_absolute_error"
      ]
    },
    {
      "cell_type": "code",
      "execution_count": null,
      "metadata": {
        "id": "7CJP9Z3y8rPp",
        "outputId": "ab7c08ee-dd97-4b6f-a3ab-cf403177acb4"
      },
      "outputs": [
        {
          "name": "stdout",
          "output_type": "stream",
          "text": [
            "Fitting 50 folds for each of 8 candidates, totalling 400 fits\n"
          ]
        },
        {
          "name": "stderr",
          "output_type": "stream",
          "text": [
            "C:\\Users\\nsimh\\anaconda3\\lib\\site-packages\\sklearn\\linear_model\\_ridge.py:157: LinAlgWarning: Ill-conditioned matrix (rcond=1.49576e-17): result may not be accurate.\n",
            "  return linalg.solve(A, Xy, sym_pos=True, overwrite_a=True).T\n"
          ]
        },
        {
          "name": "stdout",
          "output_type": "stream",
          "text": [
            "[CV 1/50] END ......................alpha=1e-05;, score=0.907 total time=   0.4s\n"
          ]
        },
        {
          "name": "stderr",
          "output_type": "stream",
          "text": [
            "C:\\Users\\nsimh\\anaconda3\\lib\\site-packages\\sklearn\\linear_model\\_ridge.py:157: LinAlgWarning: Ill-conditioned matrix (rcond=1.47753e-17): result may not be accurate.\n",
            "  return linalg.solve(A, Xy, sym_pos=True, overwrite_a=True).T\n"
          ]
        },
        {
          "name": "stdout",
          "output_type": "stream",
          "text": [
            "[CV 2/50] END ......................alpha=1e-05;, score=0.902 total time=   0.2s\n"
          ]
        },
        {
          "name": "stderr",
          "output_type": "stream",
          "text": [
            "C:\\Users\\nsimh\\anaconda3\\lib\\site-packages\\sklearn\\linear_model\\_ridge.py:157: LinAlgWarning: Ill-conditioned matrix (rcond=1.48885e-17): result may not be accurate.\n",
            "  return linalg.solve(A, Xy, sym_pos=True, overwrite_a=True).T\n"
          ]
        },
        {
          "name": "stdout",
          "output_type": "stream",
          "text": [
            "[CV 3/50] END ......................alpha=1e-05;, score=0.902 total time=   0.2s\n"
          ]
        },
        {
          "name": "stderr",
          "output_type": "stream",
          "text": [
            "C:\\Users\\nsimh\\anaconda3\\lib\\site-packages\\sklearn\\linear_model\\_ridge.py:157: LinAlgWarning: Ill-conditioned matrix (rcond=1.49932e-17): result may not be accurate.\n",
            "  return linalg.solve(A, Xy, sym_pos=True, overwrite_a=True).T\n"
          ]
        },
        {
          "name": "stdout",
          "output_type": "stream",
          "text": [
            "[CV 4/50] END ......................alpha=1e-05;, score=0.903 total time=   0.2s\n"
          ]
        },
        {
          "name": "stderr",
          "output_type": "stream",
          "text": [
            "C:\\Users\\nsimh\\anaconda3\\lib\\site-packages\\sklearn\\linear_model\\_ridge.py:157: LinAlgWarning: Ill-conditioned matrix (rcond=1.48361e-17): result may not be accurate.\n",
            "  return linalg.solve(A, Xy, sym_pos=True, overwrite_a=True).T\n"
          ]
        },
        {
          "name": "stdout",
          "output_type": "stream",
          "text": [
            "[CV 5/50] END ......................alpha=1e-05;, score=0.902 total time=   0.2s\n"
          ]
        },
        {
          "name": "stderr",
          "output_type": "stream",
          "text": [
            "C:\\Users\\nsimh\\anaconda3\\lib\\site-packages\\sklearn\\linear_model\\_ridge.py:157: LinAlgWarning: Ill-conditioned matrix (rcond=1.47527e-17): result may not be accurate.\n",
            "  return linalg.solve(A, Xy, sym_pos=True, overwrite_a=True).T\n"
          ]
        },
        {
          "name": "stdout",
          "output_type": "stream",
          "text": [
            "[CV 6/50] END ......................alpha=1e-05;, score=0.902 total time=   0.2s\n"
          ]
        },
        {
          "name": "stderr",
          "output_type": "stream",
          "text": [
            "C:\\Users\\nsimh\\anaconda3\\lib\\site-packages\\sklearn\\linear_model\\_ridge.py:157: LinAlgWarning: Ill-conditioned matrix (rcond=1.49525e-17): result may not be accurate.\n",
            "  return linalg.solve(A, Xy, sym_pos=True, overwrite_a=True).T\n"
          ]
        },
        {
          "name": "stdout",
          "output_type": "stream",
          "text": [
            "[CV 7/50] END ......................alpha=1e-05;, score=0.905 total time=   0.2s\n"
          ]
        },
        {
          "name": "stderr",
          "output_type": "stream",
          "text": [
            "C:\\Users\\nsimh\\anaconda3\\lib\\site-packages\\sklearn\\linear_model\\_ridge.py:157: LinAlgWarning: Ill-conditioned matrix (rcond=1.50138e-17): result may not be accurate.\n",
            "  return linalg.solve(A, Xy, sym_pos=True, overwrite_a=True).T\n"
          ]
        },
        {
          "name": "stdout",
          "output_type": "stream",
          "text": [
            "[CV 8/50] END ......................alpha=1e-05;, score=0.903 total time=   0.3s\n"
          ]
        },
        {
          "name": "stderr",
          "output_type": "stream",
          "text": [
            "C:\\Users\\nsimh\\anaconda3\\lib\\site-packages\\sklearn\\linear_model\\_ridge.py:157: LinAlgWarning: Ill-conditioned matrix (rcond=1.48e-17): result may not be accurate.\n",
            "  return linalg.solve(A, Xy, sym_pos=True, overwrite_a=True).T\n"
          ]
        },
        {
          "name": "stdout",
          "output_type": "stream",
          "text": [
            "[CV 9/50] END ......................alpha=1e-05;, score=0.903 total time=   0.2s\n"
          ]
        },
        {
          "name": "stderr",
          "output_type": "stream",
          "text": [
            "C:\\Users\\nsimh\\anaconda3\\lib\\site-packages\\sklearn\\linear_model\\_ridge.py:157: LinAlgWarning: Ill-conditioned matrix (rcond=1.4933e-17): result may not be accurate.\n",
            "  return linalg.solve(A, Xy, sym_pos=True, overwrite_a=True).T\n"
          ]
        },
        {
          "name": "stdout",
          "output_type": "stream",
          "text": [
            "[CV 10/50] END .....................alpha=1e-05;, score=0.903 total time=   0.2s\n"
          ]
        },
        {
          "name": "stderr",
          "output_type": "stream",
          "text": [
            "C:\\Users\\nsimh\\anaconda3\\lib\\site-packages\\sklearn\\linear_model\\_ridge.py:157: LinAlgWarning: Ill-conditioned matrix (rcond=1.48411e-17): result may not be accurate.\n",
            "  return linalg.solve(A, Xy, sym_pos=True, overwrite_a=True).T\n"
          ]
        },
        {
          "name": "stdout",
          "output_type": "stream",
          "text": [
            "[CV 11/50] END .....................alpha=1e-05;, score=0.902 total time=   0.3s\n"
          ]
        },
        {
          "name": "stderr",
          "output_type": "stream",
          "text": [
            "C:\\Users\\nsimh\\anaconda3\\lib\\site-packages\\sklearn\\linear_model\\_ridge.py:157: LinAlgWarning: Ill-conditioned matrix (rcond=1.48756e-17): result may not be accurate.\n",
            "  return linalg.solve(A, Xy, sym_pos=True, overwrite_a=True).T\n"
          ]
        },
        {
          "name": "stdout",
          "output_type": "stream",
          "text": [
            "[CV 12/50] END .....................alpha=1e-05;, score=0.902 total time=   0.2s\n"
          ]
        },
        {
          "name": "stderr",
          "output_type": "stream",
          "text": [
            "C:\\Users\\nsimh\\anaconda3\\lib\\site-packages\\sklearn\\linear_model\\_ridge.py:157: LinAlgWarning: Ill-conditioned matrix (rcond=1.48799e-17): result may not be accurate.\n",
            "  return linalg.solve(A, Xy, sym_pos=True, overwrite_a=True).T\n"
          ]
        },
        {
          "name": "stdout",
          "output_type": "stream",
          "text": [
            "[CV 13/50] END .....................alpha=1e-05;, score=0.905 total time=   0.2s\n"
          ]
        },
        {
          "name": "stderr",
          "output_type": "stream",
          "text": [
            "C:\\Users\\nsimh\\anaconda3\\lib\\site-packages\\sklearn\\linear_model\\_ridge.py:157: LinAlgWarning: Ill-conditioned matrix (rcond=1.49168e-17): result may not be accurate.\n",
            "  return linalg.solve(A, Xy, sym_pos=True, overwrite_a=True).T\n"
          ]
        },
        {
          "name": "stdout",
          "output_type": "stream",
          "text": [
            "[CV 14/50] END .....................alpha=1e-05;, score=0.905 total time=   0.3s\n"
          ]
        },
        {
          "name": "stderr",
          "output_type": "stream",
          "text": [
            "C:\\Users\\nsimh\\anaconda3\\lib\\site-packages\\sklearn\\linear_model\\_ridge.py:157: LinAlgWarning: Ill-conditioned matrix (rcond=1.49355e-17): result may not be accurate.\n",
            "  return linalg.solve(A, Xy, sym_pos=True, overwrite_a=True).T\n"
          ]
        },
        {
          "name": "stdout",
          "output_type": "stream",
          "text": [
            "[CV 15/50] END .....................alpha=1e-05;, score=0.902 total time=   0.2s\n"
          ]
        },
        {
          "name": "stderr",
          "output_type": "stream",
          "text": [
            "C:\\Users\\nsimh\\anaconda3\\lib\\site-packages\\sklearn\\linear_model\\_ridge.py:157: LinAlgWarning: Ill-conditioned matrix (rcond=1.48015e-17): result may not be accurate.\n",
            "  return linalg.solve(A, Xy, sym_pos=True, overwrite_a=True).T\n"
          ]
        },
        {
          "name": "stdout",
          "output_type": "stream",
          "text": [
            "[CV 16/50] END .....................alpha=1e-05;, score=0.904 total time=   0.2s\n"
          ]
        },
        {
          "name": "stderr",
          "output_type": "stream",
          "text": [
            "C:\\Users\\nsimh\\anaconda3\\lib\\site-packages\\sklearn\\linear_model\\_ridge.py:157: LinAlgWarning: Ill-conditioned matrix (rcond=1.48975e-17): result may not be accurate.\n",
            "  return linalg.solve(A, Xy, sym_pos=True, overwrite_a=True).T\n"
          ]
        },
        {
          "name": "stdout",
          "output_type": "stream",
          "text": [
            "[CV 17/50] END .....................alpha=1e-05;, score=0.906 total time=   0.2s\n"
          ]
        },
        {
          "name": "stderr",
          "output_type": "stream",
          "text": [
            "C:\\Users\\nsimh\\anaconda3\\lib\\site-packages\\sklearn\\linear_model\\_ridge.py:157: LinAlgWarning: Ill-conditioned matrix (rcond=1.487e-17): result may not be accurate.\n",
            "  return linalg.solve(A, Xy, sym_pos=True, overwrite_a=True).T\n"
          ]
        },
        {
          "name": "stdout",
          "output_type": "stream",
          "text": [
            "[CV 18/50] END .....................alpha=1e-05;, score=0.901 total time=   0.2s\n"
          ]
        },
        {
          "name": "stderr",
          "output_type": "stream",
          "text": [
            "C:\\Users\\nsimh\\anaconda3\\lib\\site-packages\\sklearn\\linear_model\\_ridge.py:157: LinAlgWarning: Ill-conditioned matrix (rcond=1.49779e-17): result may not be accurate.\n",
            "  return linalg.solve(A, Xy, sym_pos=True, overwrite_a=True).T\n"
          ]
        },
        {
          "name": "stdout",
          "output_type": "stream",
          "text": [
            "[CV 19/50] END .....................alpha=1e-05;, score=0.903 total time=   0.3s\n"
          ]
        },
        {
          "name": "stderr",
          "output_type": "stream",
          "text": [
            "C:\\Users\\nsimh\\anaconda3\\lib\\site-packages\\sklearn\\linear_model\\_ridge.py:157: LinAlgWarning: Ill-conditioned matrix (rcond=1.49029e-17): result may not be accurate.\n",
            "  return linalg.solve(A, Xy, sym_pos=True, overwrite_a=True).T\n"
          ]
        },
        {
          "name": "stdout",
          "output_type": "stream",
          "text": [
            "[CV 20/50] END .....................alpha=1e-05;, score=0.900 total time=   0.2s\n"
          ]
        },
        {
          "name": "stderr",
          "output_type": "stream",
          "text": [
            "C:\\Users\\nsimh\\anaconda3\\lib\\site-packages\\sklearn\\linear_model\\_ridge.py:157: LinAlgWarning: Ill-conditioned matrix (rcond=1.49342e-17): result may not be accurate.\n",
            "  return linalg.solve(A, Xy, sym_pos=True, overwrite_a=True).T\n"
          ]
        },
        {
          "name": "stdout",
          "output_type": "stream",
          "text": [
            "[CV 21/50] END .....................alpha=1e-05;, score=0.905 total time=   0.2s\n"
          ]
        },
        {
          "name": "stderr",
          "output_type": "stream",
          "text": [
            "C:\\Users\\nsimh\\anaconda3\\lib\\site-packages\\sklearn\\linear_model\\_ridge.py:157: LinAlgWarning: Ill-conditioned matrix (rcond=1.48716e-17): result may not be accurate.\n",
            "  return linalg.solve(A, Xy, sym_pos=True, overwrite_a=True).T\n"
          ]
        },
        {
          "name": "stdout",
          "output_type": "stream",
          "text": [
            "[CV 22/50] END .....................alpha=1e-05;, score=0.903 total time=   0.2s\n"
          ]
        },
        {
          "name": "stderr",
          "output_type": "stream",
          "text": [
            "C:\\Users\\nsimh\\anaconda3\\lib\\site-packages\\sklearn\\linear_model\\_ridge.py:157: LinAlgWarning: Ill-conditioned matrix (rcond=1.49404e-17): result may not be accurate.\n",
            "  return linalg.solve(A, Xy, sym_pos=True, overwrite_a=True).T\n"
          ]
        },
        {
          "name": "stdout",
          "output_type": "stream",
          "text": [
            "[CV 23/50] END .....................alpha=1e-05;, score=0.905 total time=   0.2s\n"
          ]
        },
        {
          "name": "stderr",
          "output_type": "stream",
          "text": [
            "C:\\Users\\nsimh\\anaconda3\\lib\\site-packages\\sklearn\\linear_model\\_ridge.py:157: LinAlgWarning: Ill-conditioned matrix (rcond=1.49291e-17): result may not be accurate.\n",
            "  return linalg.solve(A, Xy, sym_pos=True, overwrite_a=True).T\n"
          ]
        },
        {
          "name": "stdout",
          "output_type": "stream",
          "text": [
            "[CV 24/50] END .....................alpha=1e-05;, score=0.904 total time=   0.2s\n"
          ]
        },
        {
          "name": "stderr",
          "output_type": "stream",
          "text": [
            "C:\\Users\\nsimh\\anaconda3\\lib\\site-packages\\sklearn\\linear_model\\_ridge.py:157: LinAlgWarning: Ill-conditioned matrix (rcond=1.47747e-17): result may not be accurate.\n",
            "  return linalg.solve(A, Xy, sym_pos=True, overwrite_a=True).T\n"
          ]
        },
        {
          "name": "stdout",
          "output_type": "stream",
          "text": [
            "[CV 25/50] END .....................alpha=1e-05;, score=0.898 total time=   0.2s\n"
          ]
        },
        {
          "name": "stderr",
          "output_type": "stream",
          "text": [
            "C:\\Users\\nsimh\\anaconda3\\lib\\site-packages\\sklearn\\linear_model\\_ridge.py:157: LinAlgWarning: Ill-conditioned matrix (rcond=1.48209e-17): result may not be accurate.\n",
            "  return linalg.solve(A, Xy, sym_pos=True, overwrite_a=True).T\n"
          ]
        },
        {
          "name": "stdout",
          "output_type": "stream",
          "text": [
            "[CV 26/50] END .....................alpha=1e-05;, score=0.902 total time=   0.2s\n"
          ]
        },
        {
          "name": "stderr",
          "output_type": "stream",
          "text": [
            "C:\\Users\\nsimh\\anaconda3\\lib\\site-packages\\sklearn\\linear_model\\_ridge.py:157: LinAlgWarning: Ill-conditioned matrix (rcond=1.49601e-17): result may not be accurate.\n",
            "  return linalg.solve(A, Xy, sym_pos=True, overwrite_a=True).T\n"
          ]
        },
        {
          "name": "stdout",
          "output_type": "stream",
          "text": [
            "[CV 27/50] END .....................alpha=1e-05;, score=0.903 total time=   0.2s\n"
          ]
        },
        {
          "name": "stderr",
          "output_type": "stream",
          "text": [
            "C:\\Users\\nsimh\\anaconda3\\lib\\site-packages\\sklearn\\linear_model\\_ridge.py:157: LinAlgWarning: Ill-conditioned matrix (rcond=1.48097e-17): result may not be accurate.\n",
            "  return linalg.solve(A, Xy, sym_pos=True, overwrite_a=True).T\n"
          ]
        },
        {
          "name": "stdout",
          "output_type": "stream",
          "text": [
            "[CV 28/50] END .....................alpha=1e-05;, score=0.905 total time=   0.3s\n"
          ]
        },
        {
          "name": "stderr",
          "output_type": "stream",
          "text": [
            "C:\\Users\\nsimh\\anaconda3\\lib\\site-packages\\sklearn\\linear_model\\_ridge.py:157: LinAlgWarning: Ill-conditioned matrix (rcond=1.4952e-17): result may not be accurate.\n",
            "  return linalg.solve(A, Xy, sym_pos=True, overwrite_a=True).T\n"
          ]
        },
        {
          "name": "stdout",
          "output_type": "stream",
          "text": [
            "[CV 29/50] END .....................alpha=1e-05;, score=0.902 total time=   0.2s\n"
          ]
        },
        {
          "name": "stderr",
          "output_type": "stream",
          "text": [
            "C:\\Users\\nsimh\\anaconda3\\lib\\site-packages\\sklearn\\linear_model\\_ridge.py:157: LinAlgWarning: Ill-conditioned matrix (rcond=1.49073e-17): result may not be accurate.\n",
            "  return linalg.solve(A, Xy, sym_pos=True, overwrite_a=True).T\n"
          ]
        },
        {
          "name": "stdout",
          "output_type": "stream",
          "text": [
            "[CV 30/50] END .....................alpha=1e-05;, score=0.903 total time=   0.2s\n"
          ]
        },
        {
          "name": "stderr",
          "output_type": "stream",
          "text": [
            "C:\\Users\\nsimh\\anaconda3\\lib\\site-packages\\sklearn\\linear_model\\_ridge.py:157: LinAlgWarning: Ill-conditioned matrix (rcond=1.48319e-17): result may not be accurate.\n",
            "  return linalg.solve(A, Xy, sym_pos=True, overwrite_a=True).T\n"
          ]
        },
        {
          "name": "stdout",
          "output_type": "stream",
          "text": [
            "[CV 31/50] END .....................alpha=1e-05;, score=0.902 total time=   0.2s\n"
          ]
        },
        {
          "name": "stderr",
          "output_type": "stream",
          "text": [
            "C:\\Users\\nsimh\\anaconda3\\lib\\site-packages\\sklearn\\linear_model\\_ridge.py:157: LinAlgWarning: Ill-conditioned matrix (rcond=1.49444e-17): result may not be accurate.\n",
            "  return linalg.solve(A, Xy, sym_pos=True, overwrite_a=True).T\n"
          ]
        },
        {
          "name": "stdout",
          "output_type": "stream",
          "text": [
            "[CV 32/50] END .....................alpha=1e-05;, score=0.902 total time=   0.2s\n"
          ]
        },
        {
          "name": "stderr",
          "output_type": "stream",
          "text": [
            "C:\\Users\\nsimh\\anaconda3\\lib\\site-packages\\sklearn\\linear_model\\_ridge.py:157: LinAlgWarning: Ill-conditioned matrix (rcond=1.49716e-17): result may not be accurate.\n",
            "  return linalg.solve(A, Xy, sym_pos=True, overwrite_a=True).T\n"
          ]
        },
        {
          "name": "stdout",
          "output_type": "stream",
          "text": [
            "[CV 33/50] END .....................alpha=1e-05;, score=0.903 total time=   0.2s\n"
          ]
        },
        {
          "name": "stderr",
          "output_type": "stream",
          "text": [
            "C:\\Users\\nsimh\\anaconda3\\lib\\site-packages\\sklearn\\linear_model\\_ridge.py:157: LinAlgWarning: Ill-conditioned matrix (rcond=1.47977e-17): result may not be accurate.\n",
            "  return linalg.solve(A, Xy, sym_pos=True, overwrite_a=True).T\n"
          ]
        },
        {
          "name": "stdout",
          "output_type": "stream",
          "text": [
            "[CV 34/50] END .....................alpha=1e-05;, score=0.905 total time=   0.2s\n"
          ]
        },
        {
          "name": "stderr",
          "output_type": "stream",
          "text": [
            "C:\\Users\\nsimh\\anaconda3\\lib\\site-packages\\sklearn\\linear_model\\_ridge.py:157: LinAlgWarning: Ill-conditioned matrix (rcond=1.49046e-17): result may not be accurate.\n",
            "  return linalg.solve(A, Xy, sym_pos=True, overwrite_a=True).T\n"
          ]
        },
        {
          "name": "stdout",
          "output_type": "stream",
          "text": [
            "[CV 35/50] END .....................alpha=1e-05;, score=0.904 total time=   0.2s\n"
          ]
        },
        {
          "name": "stderr",
          "output_type": "stream",
          "text": [
            "C:\\Users\\nsimh\\anaconda3\\lib\\site-packages\\sklearn\\linear_model\\_ridge.py:157: LinAlgWarning: Ill-conditioned matrix (rcond=1.50123e-17): result may not be accurate.\n",
            "  return linalg.solve(A, Xy, sym_pos=True, overwrite_a=True).T\n"
          ]
        },
        {
          "name": "stdout",
          "output_type": "stream",
          "text": [
            "[CV 36/50] END .....................alpha=1e-05;, score=0.901 total time=   0.2s\n"
          ]
        },
        {
          "name": "stderr",
          "output_type": "stream",
          "text": [
            "C:\\Users\\nsimh\\anaconda3\\lib\\site-packages\\sklearn\\linear_model\\_ridge.py:157: LinAlgWarning: Ill-conditioned matrix (rcond=1.50271e-17): result may not be accurate.\n",
            "  return linalg.solve(A, Xy, sym_pos=True, overwrite_a=True).T\n"
          ]
        },
        {
          "name": "stdout",
          "output_type": "stream",
          "text": [
            "[CV 37/50] END .....................alpha=1e-05;, score=0.901 total time=   0.2s\n"
          ]
        },
        {
          "name": "stderr",
          "output_type": "stream",
          "text": [
            "C:\\Users\\nsimh\\anaconda3\\lib\\site-packages\\sklearn\\linear_model\\_ridge.py:157: LinAlgWarning: Ill-conditioned matrix (rcond=1.46861e-17): result may not be accurate.\n",
            "  return linalg.solve(A, Xy, sym_pos=True, overwrite_a=True).T\n"
          ]
        },
        {
          "name": "stdout",
          "output_type": "stream",
          "text": [
            "[CV 38/50] END .....................alpha=1e-05;, score=0.905 total time=   0.2s\n"
          ]
        },
        {
          "name": "stderr",
          "output_type": "stream",
          "text": [
            "C:\\Users\\nsimh\\anaconda3\\lib\\site-packages\\sklearn\\linear_model\\_ridge.py:157: LinAlgWarning: Ill-conditioned matrix (rcond=1.49721e-17): result may not be accurate.\n",
            "  return linalg.solve(A, Xy, sym_pos=True, overwrite_a=True).T\n"
          ]
        },
        {
          "name": "stdout",
          "output_type": "stream",
          "text": [
            "[CV 39/50] END .....................alpha=1e-05;, score=0.904 total time=   0.2s\n"
          ]
        },
        {
          "name": "stderr",
          "output_type": "stream",
          "text": [
            "C:\\Users\\nsimh\\anaconda3\\lib\\site-packages\\sklearn\\linear_model\\_ridge.py:157: LinAlgWarning: Ill-conditioned matrix (rcond=1.4758e-17): result may not be accurate.\n",
            "  return linalg.solve(A, Xy, sym_pos=True, overwrite_a=True).T\n"
          ]
        },
        {
          "name": "stdout",
          "output_type": "stream",
          "text": [
            "[CV 40/50] END .....................alpha=1e-05;, score=0.904 total time=   0.2s\n"
          ]
        },
        {
          "name": "stderr",
          "output_type": "stream",
          "text": [
            "C:\\Users\\nsimh\\anaconda3\\lib\\site-packages\\sklearn\\linear_model\\_ridge.py:157: LinAlgWarning: Ill-conditioned matrix (rcond=1.47551e-17): result may not be accurate.\n",
            "  return linalg.solve(A, Xy, sym_pos=True, overwrite_a=True).T\n"
          ]
        },
        {
          "name": "stdout",
          "output_type": "stream",
          "text": [
            "[CV 41/50] END .....................alpha=1e-05;, score=0.904 total time=   0.2s\n"
          ]
        },
        {
          "name": "stderr",
          "output_type": "stream",
          "text": [
            "C:\\Users\\nsimh\\anaconda3\\lib\\site-packages\\sklearn\\linear_model\\_ridge.py:157: LinAlgWarning: Ill-conditioned matrix (rcond=1.49403e-17): result may not be accurate.\n",
            "  return linalg.solve(A, Xy, sym_pos=True, overwrite_a=True).T\n"
          ]
        },
        {
          "name": "stdout",
          "output_type": "stream",
          "text": [
            "[CV 42/50] END .....................alpha=1e-05;, score=0.905 total time=   0.2s\n"
          ]
        },
        {
          "name": "stderr",
          "output_type": "stream",
          "text": [
            "C:\\Users\\nsimh\\anaconda3\\lib\\site-packages\\sklearn\\linear_model\\_ridge.py:157: LinAlgWarning: Ill-conditioned matrix (rcond=1.48351e-17): result may not be accurate.\n",
            "  return linalg.solve(A, Xy, sym_pos=True, overwrite_a=True).T\n"
          ]
        },
        {
          "name": "stdout",
          "output_type": "stream",
          "text": [
            "[CV 43/50] END .....................alpha=1e-05;, score=0.904 total time=   0.2s\n"
          ]
        },
        {
          "name": "stderr",
          "output_type": "stream",
          "text": [
            "C:\\Users\\nsimh\\anaconda3\\lib\\site-packages\\sklearn\\linear_model\\_ridge.py:157: LinAlgWarning: Ill-conditioned matrix (rcond=1.49861e-17): result may not be accurate.\n",
            "  return linalg.solve(A, Xy, sym_pos=True, overwrite_a=True).T\n"
          ]
        },
        {
          "name": "stdout",
          "output_type": "stream",
          "text": [
            "[CV 44/50] END .....................alpha=1e-05;, score=0.905 total time=   0.2s\n"
          ]
        },
        {
          "name": "stderr",
          "output_type": "stream",
          "text": [
            "C:\\Users\\nsimh\\anaconda3\\lib\\site-packages\\sklearn\\linear_model\\_ridge.py:157: LinAlgWarning: Ill-conditioned matrix (rcond=1.49344e-17): result may not be accurate.\n",
            "  return linalg.solve(A, Xy, sym_pos=True, overwrite_a=True).T\n"
          ]
        },
        {
          "name": "stdout",
          "output_type": "stream",
          "text": [
            "[CV 45/50] END .....................alpha=1e-05;, score=0.897 total time=   0.2s\n"
          ]
        },
        {
          "name": "stderr",
          "output_type": "stream",
          "text": [
            "C:\\Users\\nsimh\\anaconda3\\lib\\site-packages\\sklearn\\linear_model\\_ridge.py:157: LinAlgWarning: Ill-conditioned matrix (rcond=1.48908e-17): result may not be accurate.\n",
            "  return linalg.solve(A, Xy, sym_pos=True, overwrite_a=True).T\n"
          ]
        },
        {
          "name": "stdout",
          "output_type": "stream",
          "text": [
            "[CV 46/50] END .....................alpha=1e-05;, score=0.904 total time=   0.2s\n"
          ]
        },
        {
          "name": "stderr",
          "output_type": "stream",
          "text": [
            "C:\\Users\\nsimh\\anaconda3\\lib\\site-packages\\sklearn\\linear_model\\_ridge.py:157: LinAlgWarning: Ill-conditioned matrix (rcond=1.48622e-17): result may not be accurate.\n",
            "  return linalg.solve(A, Xy, sym_pos=True, overwrite_a=True).T\n"
          ]
        },
        {
          "name": "stdout",
          "output_type": "stream",
          "text": [
            "[CV 47/50] END .....................alpha=1e-05;, score=0.904 total time=   0.2s\n"
          ]
        },
        {
          "name": "stderr",
          "output_type": "stream",
          "text": [
            "C:\\Users\\nsimh\\anaconda3\\lib\\site-packages\\sklearn\\linear_model\\_ridge.py:157: LinAlgWarning: Ill-conditioned matrix (rcond=1.48968e-17): result may not be accurate.\n",
            "  return linalg.solve(A, Xy, sym_pos=True, overwrite_a=True).T\n"
          ]
        },
        {
          "name": "stdout",
          "output_type": "stream",
          "text": [
            "[CV 48/50] END .....................alpha=1e-05;, score=0.902 total time=   0.2s\n"
          ]
        },
        {
          "name": "stderr",
          "output_type": "stream",
          "text": [
            "C:\\Users\\nsimh\\anaconda3\\lib\\site-packages\\sklearn\\linear_model\\_ridge.py:157: LinAlgWarning: Ill-conditioned matrix (rcond=1.49285e-17): result may not be accurate.\n",
            "  return linalg.solve(A, Xy, sym_pos=True, overwrite_a=True).T\n"
          ]
        },
        {
          "name": "stdout",
          "output_type": "stream",
          "text": [
            "[CV 49/50] END .....................alpha=1e-05;, score=0.905 total time=   0.2s\n"
          ]
        },
        {
          "name": "stderr",
          "output_type": "stream",
          "text": [
            "C:\\Users\\nsimh\\anaconda3\\lib\\site-packages\\sklearn\\linear_model\\_ridge.py:157: LinAlgWarning: Ill-conditioned matrix (rcond=1.48705e-17): result may not be accurate.\n",
            "  return linalg.solve(A, Xy, sym_pos=True, overwrite_a=True).T\n"
          ]
        },
        {
          "name": "stdout",
          "output_type": "stream",
          "text": [
            "[CV 50/50] END .....................alpha=1e-05;, score=0.901 total time=   0.2s\n",
            "[CV 1/50] END .....................alpha=0.0001;, score=0.907 total time=   0.2s\n",
            "[CV 2/50] END .....................alpha=0.0001;, score=0.902 total time=   0.2s\n",
            "[CV 3/50] END .....................alpha=0.0001;, score=0.902 total time=   0.2s\n",
            "[CV 4/50] END .....................alpha=0.0001;, score=0.903 total time=   0.2s\n",
            "[CV 5/50] END .....................alpha=0.0001;, score=0.902 total time=   0.2s\n",
            "[CV 6/50] END .....................alpha=0.0001;, score=0.902 total time=   0.2s\n",
            "[CV 7/50] END .....................alpha=0.0001;, score=0.905 total time=   0.2s\n",
            "[CV 8/50] END .....................alpha=0.0001;, score=0.903 total time=   0.2s\n",
            "[CV 9/50] END .....................alpha=0.0001;, score=0.903 total time=   0.2s\n",
            "[CV 10/50] END ....................alpha=0.0001;, score=0.903 total time=   0.2s\n",
            "[CV 11/50] END ....................alpha=0.0001;, score=0.902 total time=   0.2s\n",
            "[CV 12/50] END ....................alpha=0.0001;, score=0.902 total time=   0.3s\n",
            "[CV 13/50] END ....................alpha=0.0001;, score=0.905 total time=   0.2s\n",
            "[CV 14/50] END ....................alpha=0.0001;, score=0.905 total time=   0.3s\n",
            "[CV 15/50] END ....................alpha=0.0001;, score=0.902 total time=   0.2s\n",
            "[CV 16/50] END ....................alpha=0.0001;, score=0.904 total time=   0.3s\n",
            "[CV 17/50] END ....................alpha=0.0001;, score=0.906 total time=   0.3s\n",
            "[CV 18/50] END ....................alpha=0.0001;, score=0.901 total time=   0.2s\n",
            "[CV 19/50] END ....................alpha=0.0001;, score=0.903 total time=   0.3s\n",
            "[CV 20/50] END ....................alpha=0.0001;, score=0.900 total time=   0.2s\n",
            "[CV 21/50] END ....................alpha=0.0001;, score=0.905 total time=   0.3s\n",
            "[CV 22/50] END ....................alpha=0.0001;, score=0.903 total time=   0.2s\n",
            "[CV 23/50] END ....................alpha=0.0001;, score=0.905 total time=   0.2s\n",
            "[CV 24/50] END ....................alpha=0.0001;, score=0.904 total time=   0.2s\n",
            "[CV 25/50] END ....................alpha=0.0001;, score=0.898 total time=   0.2s\n",
            "[CV 26/50] END ....................alpha=0.0001;, score=0.902 total time=   0.2s\n",
            "[CV 27/50] END ....................alpha=0.0001;, score=0.903 total time=   0.2s\n",
            "[CV 28/50] END ....................alpha=0.0001;, score=0.905 total time=   0.2s\n",
            "[CV 29/50] END ....................alpha=0.0001;, score=0.902 total time=   0.2s\n",
            "[CV 30/50] END ....................alpha=0.0001;, score=0.903 total time=   0.2s\n",
            "[CV 31/50] END ....................alpha=0.0001;, score=0.902 total time=   0.2s\n",
            "[CV 32/50] END ....................alpha=0.0001;, score=0.902 total time=   0.2s\n",
            "[CV 33/50] END ....................alpha=0.0001;, score=0.903 total time=   0.2s\n",
            "[CV 34/50] END ....................alpha=0.0001;, score=0.905 total time=   0.2s\n",
            "[CV 35/50] END ....................alpha=0.0001;, score=0.904 total time=   0.2s\n",
            "[CV 36/50] END ....................alpha=0.0001;, score=0.901 total time=   0.2s\n",
            "[CV 37/50] END ....................alpha=0.0001;, score=0.901 total time=   0.2s\n",
            "[CV 38/50] END ....................alpha=0.0001;, score=0.905 total time=   0.2s\n",
            "[CV 39/50] END ....................alpha=0.0001;, score=0.904 total time=   0.2s\n",
            "[CV 40/50] END ....................alpha=0.0001;, score=0.904 total time=   0.2s\n",
            "[CV 41/50] END ....................alpha=0.0001;, score=0.904 total time=   0.2s\n",
            "[CV 42/50] END ....................alpha=0.0001;, score=0.905 total time=   0.2s\n",
            "[CV 43/50] END ....................alpha=0.0001;, score=0.904 total time=   0.3s\n",
            "[CV 44/50] END ....................alpha=0.0001;, score=0.905 total time=   0.3s\n",
            "[CV 45/50] END ....................alpha=0.0001;, score=0.897 total time=   0.2s\n",
            "[CV 46/50] END ....................alpha=0.0001;, score=0.904 total time=   0.2s\n",
            "[CV 47/50] END ....................alpha=0.0001;, score=0.904 total time=   0.2s\n",
            "[CV 48/50] END ....................alpha=0.0001;, score=0.902 total time=   0.2s\n",
            "[CV 49/50] END ....................alpha=0.0001;, score=0.905 total time=   0.2s\n",
            "[CV 50/50] END ....................alpha=0.0001;, score=0.901 total time=   0.2s\n",
            "[CV 1/50] END ......................alpha=0.001;, score=0.907 total time=   0.2s\n",
            "[CV 2/50] END ......................alpha=0.001;, score=0.902 total time=   0.2s\n",
            "[CV 3/50] END ......................alpha=0.001;, score=0.902 total time=   0.2s\n",
            "[CV 4/50] END ......................alpha=0.001;, score=0.903 total time=   0.2s\n",
            "[CV 5/50] END ......................alpha=0.001;, score=0.902 total time=   0.2s\n",
            "[CV 6/50] END ......................alpha=0.001;, score=0.902 total time=   0.2s\n",
            "[CV 7/50] END ......................alpha=0.001;, score=0.905 total time=   0.2s\n",
            "[CV 8/50] END ......................alpha=0.001;, score=0.903 total time=   0.2s\n",
            "[CV 9/50] END ......................alpha=0.001;, score=0.903 total time=   0.2s\n",
            "[CV 10/50] END .....................alpha=0.001;, score=0.903 total time=   0.3s\n",
            "[CV 11/50] END .....................alpha=0.001;, score=0.902 total time=   0.3s\n",
            "[CV 12/50] END .....................alpha=0.001;, score=0.902 total time=   0.2s\n",
            "[CV 13/50] END .....................alpha=0.001;, score=0.905 total time=   0.2s\n",
            "[CV 14/50] END .....................alpha=0.001;, score=0.905 total time=   0.2s\n",
            "[CV 15/50] END .....................alpha=0.001;, score=0.902 total time=   0.2s\n",
            "[CV 16/50] END .....................alpha=0.001;, score=0.904 total time=   0.3s\n",
            "[CV 17/50] END .....................alpha=0.001;, score=0.906 total time=   0.2s\n",
            "[CV 18/50] END .....................alpha=0.001;, score=0.901 total time=   0.2s\n",
            "[CV 19/50] END .....................alpha=0.001;, score=0.903 total time=   0.2s\n",
            "[CV 20/50] END .....................alpha=0.001;, score=0.900 total time=   0.2s\n",
            "[CV 21/50] END .....................alpha=0.001;, score=0.905 total time=   0.2s\n",
            "[CV 22/50] END .....................alpha=0.001;, score=0.903 total time=   0.2s\n",
            "[CV 23/50] END .....................alpha=0.001;, score=0.905 total time=   0.2s\n",
            "[CV 24/50] END .....................alpha=0.001;, score=0.904 total time=   0.2s\n",
            "[CV 25/50] END .....................alpha=0.001;, score=0.898 total time=   0.2s\n",
            "[CV 26/50] END .....................alpha=0.001;, score=0.902 total time=   0.2s\n",
            "[CV 27/50] END .....................alpha=0.001;, score=0.903 total time=   0.2s\n",
            "[CV 28/50] END .....................alpha=0.001;, score=0.905 total time=   0.2s\n",
            "[CV 29/50] END .....................alpha=0.001;, score=0.902 total time=   0.2s\n",
            "[CV 30/50] END .....................alpha=0.001;, score=0.903 total time=   0.2s\n",
            "[CV 31/50] END .....................alpha=0.001;, score=0.902 total time=   0.2s\n",
            "[CV 32/50] END .....................alpha=0.001;, score=0.902 total time=   0.2s\n",
            "[CV 33/50] END .....................alpha=0.001;, score=0.903 total time=   0.2s\n",
            "[CV 34/50] END .....................alpha=0.001;, score=0.905 total time=   0.2s\n",
            "[CV 35/50] END .....................alpha=0.001;, score=0.904 total time=   0.2s\n",
            "[CV 36/50] END .....................alpha=0.001;, score=0.901 total time=   0.2s\n",
            "[CV 37/50] END .....................alpha=0.001;, score=0.901 total time=   0.2s\n",
            "[CV 38/50] END .....................alpha=0.001;, score=0.905 total time=   0.2s\n",
            "[CV 39/50] END .....................alpha=0.001;, score=0.904 total time=   0.2s\n",
            "[CV 40/50] END .....................alpha=0.001;, score=0.904 total time=   0.2s\n",
            "[CV 41/50] END .....................alpha=0.001;, score=0.904 total time=   0.2s\n",
            "[CV 42/50] END .....................alpha=0.001;, score=0.905 total time=   0.2s\n",
            "[CV 43/50] END .....................alpha=0.001;, score=0.904 total time=   0.2s\n",
            "[CV 44/50] END .....................alpha=0.001;, score=0.905 total time=   0.2s\n",
            "[CV 45/50] END .....................alpha=0.001;, score=0.897 total time=   0.2s\n",
            "[CV 46/50] END .....................alpha=0.001;, score=0.904 total time=   0.2s\n",
            "[CV 47/50] END .....................alpha=0.001;, score=0.904 total time=   0.2s\n",
            "[CV 48/50] END .....................alpha=0.001;, score=0.902 total time=   0.2s\n",
            "[CV 49/50] END .....................alpha=0.001;, score=0.905 total time=   0.2s\n",
            "[CV 50/50] END .....................alpha=0.001;, score=0.901 total time=   0.2s\n",
            "[CV 1/50] END .......................alpha=0.01;, score=0.907 total time=   0.2s\n"
          ]
        },
        {
          "name": "stdout",
          "output_type": "stream",
          "text": [
            "[CV 2/50] END .......................alpha=0.01;, score=0.902 total time=   0.2s\n",
            "[CV 3/50] END .......................alpha=0.01;, score=0.902 total time=   0.2s\n",
            "[CV 4/50] END .......................alpha=0.01;, score=0.903 total time=   0.2s\n",
            "[CV 5/50] END .......................alpha=0.01;, score=0.902 total time=   0.2s\n",
            "[CV 6/50] END .......................alpha=0.01;, score=0.902 total time=   0.2s\n",
            "[CV 7/50] END .......................alpha=0.01;, score=0.905 total time=   0.2s\n",
            "[CV 8/50] END .......................alpha=0.01;, score=0.903 total time=   0.2s\n",
            "[CV 9/50] END .......................alpha=0.01;, score=0.903 total time=   0.2s\n",
            "[CV 10/50] END ......................alpha=0.01;, score=0.903 total time=   0.2s\n",
            "[CV 11/50] END ......................alpha=0.01;, score=0.902 total time=   0.2s\n",
            "[CV 12/50] END ......................alpha=0.01;, score=0.902 total time=   0.2s\n",
            "[CV 13/50] END ......................alpha=0.01;, score=0.905 total time=   0.2s\n",
            "[CV 14/50] END ......................alpha=0.01;, score=0.905 total time=   0.2s\n",
            "[CV 15/50] END ......................alpha=0.01;, score=0.902 total time=   0.2s\n",
            "[CV 16/50] END ......................alpha=0.01;, score=0.904 total time=   0.2s\n",
            "[CV 17/50] END ......................alpha=0.01;, score=0.906 total time=   0.2s\n",
            "[CV 18/50] END ......................alpha=0.01;, score=0.901 total time=   0.2s\n",
            "[CV 19/50] END ......................alpha=0.01;, score=0.903 total time=   0.2s\n",
            "[CV 20/50] END ......................alpha=0.01;, score=0.900 total time=   0.2s\n",
            "[CV 21/50] END ......................alpha=0.01;, score=0.905 total time=   0.2s\n",
            "[CV 22/50] END ......................alpha=0.01;, score=0.903 total time=   0.2s\n",
            "[CV 23/50] END ......................alpha=0.01;, score=0.905 total time=   0.2s\n",
            "[CV 24/50] END ......................alpha=0.01;, score=0.904 total time=   0.2s\n",
            "[CV 25/50] END ......................alpha=0.01;, score=0.898 total time=   0.2s\n",
            "[CV 26/50] END ......................alpha=0.01;, score=0.902 total time=   0.2s\n",
            "[CV 27/50] END ......................alpha=0.01;, score=0.903 total time=   0.2s\n",
            "[CV 28/50] END ......................alpha=0.01;, score=0.905 total time=   0.2s\n",
            "[CV 29/50] END ......................alpha=0.01;, score=0.902 total time=   0.2s\n",
            "[CV 30/50] END ......................alpha=0.01;, score=0.903 total time=   0.2s\n",
            "[CV 31/50] END ......................alpha=0.01;, score=0.902 total time=   0.2s\n",
            "[CV 32/50] END ......................alpha=0.01;, score=0.902 total time=   0.2s\n",
            "[CV 33/50] END ......................alpha=0.01;, score=0.903 total time=   0.2s\n",
            "[CV 34/50] END ......................alpha=0.01;, score=0.905 total time=   0.2s\n",
            "[CV 35/50] END ......................alpha=0.01;, score=0.904 total time=   0.2s\n",
            "[CV 36/50] END ......................alpha=0.01;, score=0.901 total time=   0.2s\n",
            "[CV 37/50] END ......................alpha=0.01;, score=0.901 total time=   0.2s\n",
            "[CV 38/50] END ......................alpha=0.01;, score=0.905 total time=   0.2s\n",
            "[CV 39/50] END ......................alpha=0.01;, score=0.904 total time=   0.2s\n",
            "[CV 40/50] END ......................alpha=0.01;, score=0.904 total time=   0.2s\n",
            "[CV 41/50] END ......................alpha=0.01;, score=0.904 total time=   0.2s\n",
            "[CV 42/50] END ......................alpha=0.01;, score=0.905 total time=   0.2s\n",
            "[CV 43/50] END ......................alpha=0.01;, score=0.904 total time=   0.2s\n",
            "[CV 44/50] END ......................alpha=0.01;, score=0.905 total time=   0.2s\n",
            "[CV 45/50] END ......................alpha=0.01;, score=0.897 total time=   0.2s\n",
            "[CV 46/50] END ......................alpha=0.01;, score=0.904 total time=   0.2s\n",
            "[CV 47/50] END ......................alpha=0.01;, score=0.904 total time=   0.2s\n",
            "[CV 48/50] END ......................alpha=0.01;, score=0.902 total time=   0.2s\n",
            "[CV 49/50] END ......................alpha=0.01;, score=0.905 total time=   0.2s\n",
            "[CV 50/50] END ......................alpha=0.01;, score=0.901 total time=   0.2s\n",
            "[CV 1/50] END ........................alpha=0.1;, score=0.907 total time=   0.2s\n",
            "[CV 2/50] END ........................alpha=0.1;, score=0.902 total time=   0.2s\n",
            "[CV 3/50] END ........................alpha=0.1;, score=0.902 total time=   0.2s\n",
            "[CV 4/50] END ........................alpha=0.1;, score=0.903 total time=   0.2s\n",
            "[CV 5/50] END ........................alpha=0.1;, score=0.902 total time=   0.2s\n",
            "[CV 6/50] END ........................alpha=0.1;, score=0.902 total time=   0.2s\n",
            "[CV 7/50] END ........................alpha=0.1;, score=0.905 total time=   0.2s\n",
            "[CV 8/50] END ........................alpha=0.1;, score=0.903 total time=   0.2s\n",
            "[CV 9/50] END ........................alpha=0.1;, score=0.903 total time=   0.2s\n",
            "[CV 10/50] END .......................alpha=0.1;, score=0.903 total time=   0.2s\n",
            "[CV 11/50] END .......................alpha=0.1;, score=0.902 total time=   0.2s\n",
            "[CV 12/50] END .......................alpha=0.1;, score=0.902 total time=   0.2s\n",
            "[CV 13/50] END .......................alpha=0.1;, score=0.905 total time=   0.2s\n",
            "[CV 14/50] END .......................alpha=0.1;, score=0.905 total time=   0.2s\n",
            "[CV 15/50] END .......................alpha=0.1;, score=0.902 total time=   0.2s\n",
            "[CV 16/50] END .......................alpha=0.1;, score=0.904 total time=   0.2s\n",
            "[CV 17/50] END .......................alpha=0.1;, score=0.906 total time=   0.2s\n",
            "[CV 18/50] END .......................alpha=0.1;, score=0.901 total time=   0.2s\n",
            "[CV 19/50] END .......................alpha=0.1;, score=0.903 total time=   0.3s\n",
            "[CV 20/50] END .......................alpha=0.1;, score=0.900 total time=   0.2s\n",
            "[CV 21/50] END .......................alpha=0.1;, score=0.905 total time=   0.2s\n",
            "[CV 22/50] END .......................alpha=0.1;, score=0.903 total time=   0.2s\n",
            "[CV 23/50] END .......................alpha=0.1;, score=0.905 total time=   0.2s\n",
            "[CV 24/50] END .......................alpha=0.1;, score=0.904 total time=   0.2s\n",
            "[CV 25/50] END .......................alpha=0.1;, score=0.898 total time=   0.2s\n",
            "[CV 26/50] END .......................alpha=0.1;, score=0.902 total time=   0.2s\n",
            "[CV 27/50] END .......................alpha=0.1;, score=0.903 total time=   0.2s\n",
            "[CV 28/50] END .......................alpha=0.1;, score=0.905 total time=   0.2s\n",
            "[CV 29/50] END .......................alpha=0.1;, score=0.902 total time=   0.2s\n",
            "[CV 30/50] END .......................alpha=0.1;, score=0.903 total time=   0.2s\n",
            "[CV 31/50] END .......................alpha=0.1;, score=0.902 total time=   0.2s\n",
            "[CV 32/50] END .......................alpha=0.1;, score=0.902 total time=   0.2s\n",
            "[CV 33/50] END .......................alpha=0.1;, score=0.903 total time=   0.2s\n",
            "[CV 34/50] END .......................alpha=0.1;, score=0.905 total time=   0.3s\n",
            "[CV 35/50] END .......................alpha=0.1;, score=0.904 total time=   0.2s\n",
            "[CV 36/50] END .......................alpha=0.1;, score=0.901 total time=   0.2s\n",
            "[CV 37/50] END .......................alpha=0.1;, score=0.901 total time=   0.2s\n",
            "[CV 38/50] END .......................alpha=0.1;, score=0.905 total time=   0.2s\n",
            "[CV 39/50] END .......................alpha=0.1;, score=0.904 total time=   0.2s\n",
            "[CV 40/50] END .......................alpha=0.1;, score=0.904 total time=   0.2s\n",
            "[CV 41/50] END .......................alpha=0.1;, score=0.904 total time=   0.2s\n",
            "[CV 42/50] END .......................alpha=0.1;, score=0.905 total time=   0.2s\n",
            "[CV 43/50] END .......................alpha=0.1;, score=0.904 total time=   0.2s\n",
            "[CV 44/50] END .......................alpha=0.1;, score=0.905 total time=   0.2s\n",
            "[CV 45/50] END .......................alpha=0.1;, score=0.897 total time=   0.2s\n",
            "[CV 46/50] END .......................alpha=0.1;, score=0.904 total time=   0.2s\n",
            "[CV 47/50] END .......................alpha=0.1;, score=0.904 total time=   0.2s\n",
            "[CV 48/50] END .......................alpha=0.1;, score=0.902 total time=   0.2s\n",
            "[CV 49/50] END .......................alpha=0.1;, score=0.905 total time=   0.2s\n",
            "[CV 50/50] END .......................alpha=0.1;, score=0.901 total time=   0.2s\n",
            "[CV 1/50] END ..........................alpha=1;, score=0.907 total time=   0.2s\n",
            "[CV 2/50] END ..........................alpha=1;, score=0.902 total time=   0.2s\n",
            "[CV 3/50] END ..........................alpha=1;, score=0.902 total time=   0.2s\n"
          ]
        },
        {
          "name": "stdout",
          "output_type": "stream",
          "text": [
            "[CV 4/50] END ..........................alpha=1;, score=0.903 total time=   0.2s\n",
            "[CV 5/50] END ..........................alpha=1;, score=0.902 total time=   0.2s\n",
            "[CV 6/50] END ..........................alpha=1;, score=0.902 total time=   0.2s\n",
            "[CV 7/50] END ..........................alpha=1;, score=0.905 total time=   0.2s\n",
            "[CV 8/50] END ..........................alpha=1;, score=0.903 total time=   0.2s\n",
            "[CV 9/50] END ..........................alpha=1;, score=0.903 total time=   0.2s\n",
            "[CV 10/50] END .........................alpha=1;, score=0.903 total time=   0.2s\n",
            "[CV 11/50] END .........................alpha=1;, score=0.902 total time=   0.2s\n",
            "[CV 12/50] END .........................alpha=1;, score=0.902 total time=   0.2s\n",
            "[CV 13/50] END .........................alpha=1;, score=0.905 total time=   0.2s\n",
            "[CV 14/50] END .........................alpha=1;, score=0.905 total time=   0.2s\n",
            "[CV 15/50] END .........................alpha=1;, score=0.902 total time=   0.2s\n",
            "[CV 16/50] END .........................alpha=1;, score=0.904 total time=   0.2s\n",
            "[CV 17/50] END .........................alpha=1;, score=0.906 total time=   0.2s\n",
            "[CV 18/50] END .........................alpha=1;, score=0.901 total time=   0.2s\n",
            "[CV 19/50] END .........................alpha=1;, score=0.903 total time=   0.2s\n",
            "[CV 20/50] END .........................alpha=1;, score=0.900 total time=   0.2s\n",
            "[CV 21/50] END .........................alpha=1;, score=0.905 total time=   0.2s\n",
            "[CV 22/50] END .........................alpha=1;, score=0.903 total time=   0.2s\n",
            "[CV 23/50] END .........................alpha=1;, score=0.905 total time=   0.2s\n",
            "[CV 24/50] END .........................alpha=1;, score=0.904 total time=   0.2s\n",
            "[CV 25/50] END .........................alpha=1;, score=0.898 total time=   0.2s\n",
            "[CV 26/50] END .........................alpha=1;, score=0.902 total time=   0.2s\n",
            "[CV 27/50] END .........................alpha=1;, score=0.903 total time=   0.2s\n",
            "[CV 28/50] END .........................alpha=1;, score=0.905 total time=   0.2s\n",
            "[CV 29/50] END .........................alpha=1;, score=0.902 total time=   0.2s\n",
            "[CV 30/50] END .........................alpha=1;, score=0.903 total time=   0.2s\n",
            "[CV 31/50] END .........................alpha=1;, score=0.902 total time=   0.2s\n",
            "[CV 32/50] END .........................alpha=1;, score=0.902 total time=   0.2s\n",
            "[CV 33/50] END .........................alpha=1;, score=0.903 total time=   0.2s\n",
            "[CV 34/50] END .........................alpha=1;, score=0.905 total time=   0.2s\n",
            "[CV 35/50] END .........................alpha=1;, score=0.904 total time=   0.2s\n",
            "[CV 36/50] END .........................alpha=1;, score=0.901 total time=   0.2s\n",
            "[CV 37/50] END .........................alpha=1;, score=0.901 total time=   0.2s\n",
            "[CV 38/50] END .........................alpha=1;, score=0.905 total time=   0.2s\n",
            "[CV 39/50] END .........................alpha=1;, score=0.904 total time=   0.2s\n",
            "[CV 40/50] END .........................alpha=1;, score=0.904 total time=   0.2s\n",
            "[CV 41/50] END .........................alpha=1;, score=0.904 total time=   0.2s\n",
            "[CV 42/50] END .........................alpha=1;, score=0.905 total time=   0.2s\n",
            "[CV 43/50] END .........................alpha=1;, score=0.904 total time=   0.3s\n",
            "[CV 44/50] END .........................alpha=1;, score=0.905 total time=   0.2s\n",
            "[CV 45/50] END .........................alpha=1;, score=0.897 total time=   0.2s\n",
            "[CV 46/50] END .........................alpha=1;, score=0.904 total time=   0.2s\n",
            "[CV 47/50] END .........................alpha=1;, score=0.904 total time=   0.2s\n",
            "[CV 48/50] END .........................alpha=1;, score=0.902 total time=   0.2s\n",
            "[CV 49/50] END .........................alpha=1;, score=0.905 total time=   0.2s\n",
            "[CV 50/50] END .........................alpha=1;, score=0.901 total time=   0.2s\n",
            "[CV 1/50] END .........................alpha=10;, score=0.907 total time=   0.2s\n",
            "[CV 2/50] END .........................alpha=10;, score=0.902 total time=   0.2s\n",
            "[CV 3/50] END .........................alpha=10;, score=0.902 total time=   0.2s\n",
            "[CV 4/50] END .........................alpha=10;, score=0.903 total time=   0.2s\n",
            "[CV 5/50] END .........................alpha=10;, score=0.902 total time=   0.2s\n",
            "[CV 6/50] END .........................alpha=10;, score=0.902 total time=   0.2s\n",
            "[CV 7/50] END .........................alpha=10;, score=0.905 total time=   0.2s\n",
            "[CV 8/50] END .........................alpha=10;, score=0.903 total time=   0.2s\n",
            "[CV 9/50] END .........................alpha=10;, score=0.903 total time=   0.2s\n",
            "[CV 10/50] END ........................alpha=10;, score=0.903 total time=   0.2s\n",
            "[CV 11/50] END ........................alpha=10;, score=0.902 total time=   0.2s\n",
            "[CV 12/50] END ........................alpha=10;, score=0.902 total time=   0.2s\n",
            "[CV 13/50] END ........................alpha=10;, score=0.905 total time=   0.2s\n",
            "[CV 14/50] END ........................alpha=10;, score=0.905 total time=   0.2s\n",
            "[CV 15/50] END ........................alpha=10;, score=0.902 total time=   0.2s\n",
            "[CV 16/50] END ........................alpha=10;, score=0.904 total time=   0.2s\n",
            "[CV 17/50] END ........................alpha=10;, score=0.906 total time=   0.2s\n",
            "[CV 18/50] END ........................alpha=10;, score=0.901 total time=   0.2s\n",
            "[CV 19/50] END ........................alpha=10;, score=0.903 total time=   0.2s\n",
            "[CV 20/50] END ........................alpha=10;, score=0.900 total time=   0.2s\n",
            "[CV 21/50] END ........................alpha=10;, score=0.905 total time=   0.2s\n",
            "[CV 22/50] END ........................alpha=10;, score=0.903 total time=   0.2s\n",
            "[CV 23/50] END ........................alpha=10;, score=0.905 total time=   0.2s\n",
            "[CV 24/50] END ........................alpha=10;, score=0.904 total time=   0.2s\n",
            "[CV 25/50] END ........................alpha=10;, score=0.898 total time=   0.2s\n",
            "[CV 26/50] END ........................alpha=10;, score=0.902 total time=   0.2s\n",
            "[CV 27/50] END ........................alpha=10;, score=0.903 total time=   0.2s\n",
            "[CV 28/50] END ........................alpha=10;, score=0.905 total time=   0.2s\n",
            "[CV 29/50] END ........................alpha=10;, score=0.902 total time=   0.2s\n",
            "[CV 30/50] END ........................alpha=10;, score=0.903 total time=   0.2s\n",
            "[CV 31/50] END ........................alpha=10;, score=0.902 total time=   0.2s\n",
            "[CV 32/50] END ........................alpha=10;, score=0.902 total time=   0.2s\n",
            "[CV 33/50] END ........................alpha=10;, score=0.903 total time=   0.3s\n",
            "[CV 34/50] END ........................alpha=10;, score=0.905 total time=   0.2s\n",
            "[CV 35/50] END ........................alpha=10;, score=0.904 total time=   0.2s\n",
            "[CV 36/50] END ........................alpha=10;, score=0.901 total time=   0.2s\n",
            "[CV 37/50] END ........................alpha=10;, score=0.901 total time=   0.2s\n",
            "[CV 38/50] END ........................alpha=10;, score=0.905 total time=   0.2s\n",
            "[CV 39/50] END ........................alpha=10;, score=0.904 total time=   0.2s\n",
            "[CV 40/50] END ........................alpha=10;, score=0.904 total time=   0.2s\n",
            "[CV 41/50] END ........................alpha=10;, score=0.904 total time=   0.2s\n",
            "[CV 42/50] END ........................alpha=10;, score=0.905 total time=   0.2s\n",
            "[CV 43/50] END ........................alpha=10;, score=0.904 total time=   0.2s\n",
            "[CV 44/50] END ........................alpha=10;, score=0.905 total time=   0.2s\n",
            "[CV 45/50] END ........................alpha=10;, score=0.897 total time=   0.2s\n",
            "[CV 46/50] END ........................alpha=10;, score=0.904 total time=   0.2s\n",
            "[CV 47/50] END ........................alpha=10;, score=0.904 total time=   0.2s\n",
            "[CV 48/50] END ........................alpha=10;, score=0.902 total time=   0.2s\n",
            "[CV 49/50] END ........................alpha=10;, score=0.905 total time=   0.2s\n",
            "[CV 50/50] END ........................alpha=10;, score=0.901 total time=   0.2s\n",
            "[CV 1/50] END ........................alpha=100;, score=0.907 total time=   0.2s\n",
            "[CV 2/50] END ........................alpha=100;, score=0.902 total time=   0.2s\n",
            "[CV 3/50] END ........................alpha=100;, score=0.902 total time=   0.2s\n",
            "[CV 4/50] END ........................alpha=100;, score=0.903 total time=   0.2s\n",
            "[CV 5/50] END ........................alpha=100;, score=0.902 total time=   0.2s\n"
          ]
        },
        {
          "name": "stdout",
          "output_type": "stream",
          "text": [
            "[CV 6/50] END ........................alpha=100;, score=0.902 total time=   0.2s\n",
            "[CV 7/50] END ........................alpha=100;, score=0.905 total time=   0.2s\n",
            "[CV 8/50] END ........................alpha=100;, score=0.903 total time=   0.2s\n",
            "[CV 9/50] END ........................alpha=100;, score=0.903 total time=   0.2s\n",
            "[CV 10/50] END .......................alpha=100;, score=0.903 total time=   0.2s\n",
            "[CV 11/50] END .......................alpha=100;, score=0.902 total time=   0.2s\n",
            "[CV 12/50] END .......................alpha=100;, score=0.902 total time=   0.2s\n",
            "[CV 13/50] END .......................alpha=100;, score=0.905 total time=   0.2s\n",
            "[CV 14/50] END .......................alpha=100;, score=0.905 total time=   0.2s\n",
            "[CV 15/50] END .......................alpha=100;, score=0.902 total time=   0.2s\n",
            "[CV 16/50] END .......................alpha=100;, score=0.904 total time=   0.2s\n",
            "[CV 17/50] END .......................alpha=100;, score=0.906 total time=   0.2s\n",
            "[CV 18/50] END .......................alpha=100;, score=0.901 total time=   0.2s\n",
            "[CV 19/50] END .......................alpha=100;, score=0.903 total time=   0.2s\n",
            "[CV 20/50] END .......................alpha=100;, score=0.900 total time=   0.2s\n",
            "[CV 21/50] END .......................alpha=100;, score=0.905 total time=   0.2s\n",
            "[CV 22/50] END .......................alpha=100;, score=0.903 total time=   0.2s\n",
            "[CV 23/50] END .......................alpha=100;, score=0.905 total time=   0.2s\n",
            "[CV 24/50] END .......................alpha=100;, score=0.904 total time=   0.2s\n",
            "[CV 25/50] END .......................alpha=100;, score=0.898 total time=   0.2s\n",
            "[CV 26/50] END .......................alpha=100;, score=0.902 total time=   0.2s\n",
            "[CV 27/50] END .......................alpha=100;, score=0.903 total time=   0.2s\n",
            "[CV 28/50] END .......................alpha=100;, score=0.905 total time=   0.2s\n",
            "[CV 29/50] END .......................alpha=100;, score=0.903 total time=   0.2s\n",
            "[CV 30/50] END .......................alpha=100;, score=0.903 total time=   0.2s\n",
            "[CV 31/50] END .......................alpha=100;, score=0.902 total time=   0.2s\n",
            "[CV 32/50] END .......................alpha=100;, score=0.902 total time=   0.2s\n",
            "[CV 33/50] END .......................alpha=100;, score=0.903 total time=   0.2s\n",
            "[CV 34/50] END .......................alpha=100;, score=0.905 total time=   0.2s\n",
            "[CV 35/50] END .......................alpha=100;, score=0.904 total time=   0.2s\n",
            "[CV 36/50] END .......................alpha=100;, score=0.901 total time=   0.2s\n",
            "[CV 37/50] END .......................alpha=100;, score=0.901 total time=   0.2s\n",
            "[CV 38/50] END .......................alpha=100;, score=0.905 total time=   0.2s\n",
            "[CV 39/50] END .......................alpha=100;, score=0.904 total time=   0.2s\n",
            "[CV 40/50] END .......................alpha=100;, score=0.904 total time=   0.2s\n",
            "[CV 41/50] END .......................alpha=100;, score=0.904 total time=   0.2s\n",
            "[CV 42/50] END .......................alpha=100;, score=0.905 total time=   0.2s\n",
            "[CV 43/50] END .......................alpha=100;, score=0.904 total time=   0.2s\n",
            "[CV 44/50] END .......................alpha=100;, score=0.905 total time=   0.2s\n",
            "[CV 45/50] END .......................alpha=100;, score=0.897 total time=   0.2s\n",
            "[CV 46/50] END .......................alpha=100;, score=0.904 total time=   0.2s\n",
            "[CV 47/50] END .......................alpha=100;, score=0.904 total time=   0.2s\n",
            "[CV 48/50] END .......................alpha=100;, score=0.902 total time=   0.2s\n",
            "[CV 49/50] END .......................alpha=100;, score=0.905 total time=   0.2s\n",
            "[CV 50/50] END .......................alpha=100;, score=0.902 total time=   0.2s\n",
            "Best Score: 0.9030150226209237\n",
            "Best Hyperparameters: {'alpha': 1e-05}\n"
          ]
        },
        {
          "name": "stderr",
          "output_type": "stream",
          "text": [
            "C:\\Users\\nsimh\\anaconda3\\lib\\site-packages\\sklearn\\linear_model\\_ridge.py:157: LinAlgWarning: Ill-conditioned matrix (rcond=1.19118e-17): result may not be accurate.\n",
            "  return linalg.solve(A, Xy, sym_pos=True, overwrite_a=True).T\n"
          ]
        }
      ],
      "source": [
        "model = Ridge() # For Linear Regression\n",
        "\n",
        "cv = RepeatedKFold(n_splits=5, n_repeats=10, random_state=10)\n",
        "param = {\n",
        "    'alpha': [1e-5, 1e-4, 1e-3, 1e-2, 1e-1, 1, 10, 100]\n",
        "}\n",
        "\n",
        "# Grid Search : Linear Regression for Solo Data\n",
        "search = GridSearchCV(model, param, cv=cv, verbose=3)\n",
        "resSolo = search.fit(solo_df.drop(['winPlacePerc'], axis = 1), solo_df['winPlacePerc'])\n",
        "\n",
        "# Result : Linear Regression for Solo Data\n",
        "print('Best Score: %s' % resSolo.best_score_)\n",
        "print('Best Hyperparameters: %s' % resSolo.best_params_)"
      ]
    },
    {
      "cell_type": "code",
      "execution_count": null,
      "metadata": {
        "id": "W6Lel2XV8rPp",
        "outputId": "9d635b22-c7cf-485b-b045-0f134d883da3"
      },
      "outputs": [
        {
          "name": "stdout",
          "output_type": "stream",
          "text": [
            "Fitting 50 folds for each of 8 candidates, totalling 400 fits\n",
            "[CV 1/50] END ......................alpha=1e-05;, score=0.894 total time=   1.2s\n",
            "[CV 2/50] END ......................alpha=1e-05;, score=0.892 total time=   1.1s\n",
            "[CV 3/50] END ......................alpha=1e-05;, score=0.889 total time=   1.0s\n",
            "[CV 4/50] END ......................alpha=1e-05;, score=0.894 total time=   0.9s\n",
            "[CV 5/50] END ......................alpha=1e-05;, score=0.892 total time=   1.0s\n",
            "[CV 6/50] END ......................alpha=1e-05;, score=0.893 total time=   0.9s\n",
            "[CV 7/50] END ......................alpha=1e-05;, score=0.894 total time=   1.1s\n",
            "[CV 8/50] END ......................alpha=1e-05;, score=0.894 total time=   1.0s\n",
            "[CV 9/50] END ......................alpha=1e-05;, score=0.883 total time=   1.0s\n",
            "[CV 10/50] END .....................alpha=1e-05;, score=0.893 total time=   1.0s\n",
            "[CV 11/50] END .....................alpha=1e-05;, score=0.894 total time=   1.0s\n",
            "[CV 12/50] END .....................alpha=1e-05;, score=0.893 total time=   1.0s\n",
            "[CV 13/50] END .....................alpha=1e-05;, score=0.891 total time=   1.0s\n",
            "[CV 14/50] END .....................alpha=1e-05;, score=0.888 total time=   1.0s\n",
            "[CV 15/50] END .....................alpha=1e-05;, score=0.895 total time=   1.0s\n",
            "[CV 16/50] END .....................alpha=1e-05;, score=0.893 total time=   0.9s\n",
            "[CV 17/50] END .....................alpha=1e-05;, score=0.892 total time=   1.0s\n",
            "[CV 18/50] END .....................alpha=1e-05;, score=0.893 total time=   0.9s\n",
            "[CV 19/50] END .....................alpha=1e-05;, score=0.888 total time=   0.9s\n",
            "[CV 20/50] END .....................alpha=1e-05;, score=0.894 total time=   0.9s\n",
            "[CV 21/50] END .....................alpha=1e-05;, score=0.894 total time=   1.0s\n",
            "[CV 22/50] END .....................alpha=1e-05;, score=0.891 total time=   1.0s\n",
            "[CV 23/50] END .....................alpha=1e-05;, score=0.893 total time=   1.0s\n",
            "[CV 24/50] END .....................alpha=1e-05;, score=0.894 total time=   1.1s\n",
            "[CV 25/50] END .....................alpha=1e-05;, score=0.889 total time=   1.1s\n",
            "[CV 26/50] END .....................alpha=1e-05;, score=0.895 total time=   1.0s\n",
            "[CV 27/50] END .....................alpha=1e-05;, score=0.893 total time=   1.1s\n",
            "[CV 28/50] END .....................alpha=1e-05;, score=0.876 total time=   1.0s\n",
            "[CV 29/50] END .....................alpha=1e-05;, score=0.893 total time=   0.9s\n",
            "[CV 30/50] END .....................alpha=1e-05;, score=0.893 total time=   0.9s\n",
            "[CV 31/50] END .....................alpha=1e-05;, score=0.893 total time=   1.0s\n",
            "[CV 32/50] END .....................alpha=1e-05;, score=0.893 total time=   1.0s\n",
            "[CV 33/50] END .....................alpha=1e-05;, score=0.889 total time=   1.0s\n",
            "[CV 34/50] END .....................alpha=1e-05;, score=0.893 total time=   1.0s\n",
            "[CV 35/50] END .....................alpha=1e-05;, score=0.893 total time=   1.0s\n",
            "[CV 36/50] END .....................alpha=1e-05;, score=0.886 total time=   1.0s\n",
            "[CV 37/50] END .....................alpha=1e-05;, score=0.894 total time=   0.9s\n",
            "[CV 38/50] END .....................alpha=1e-05;, score=0.893 total time=   1.0s\n",
            "[CV 39/50] END .....................alpha=1e-05;, score=0.893 total time=   1.0s\n",
            "[CV 40/50] END .....................alpha=1e-05;, score=0.893 total time=   1.0s\n",
            "[CV 41/50] END .....................alpha=1e-05;, score=0.889 total time=   1.0s\n",
            "[CV 42/50] END .....................alpha=1e-05;, score=0.892 total time=   1.0s\n",
            "[CV 43/50] END .....................alpha=1e-05;, score=0.892 total time=   1.0s\n",
            "[CV 44/50] END .....................alpha=1e-05;, score=0.894 total time=   0.9s\n",
            "[CV 45/50] END .....................alpha=1e-05;, score=0.893 total time=   1.0s\n",
            "[CV 46/50] END .....................alpha=1e-05;, score=0.887 total time=   1.0s\n",
            "[CV 47/50] END .....................alpha=1e-05;, score=0.893 total time=   1.0s\n",
            "[CV 48/50] END .....................alpha=1e-05;, score=0.894 total time=   1.0s\n",
            "[CV 49/50] END .....................alpha=1e-05;, score=0.894 total time=   1.0s\n",
            "[CV 50/50] END .....................alpha=1e-05;, score=0.892 total time=   1.0s\n",
            "[CV 1/50] END .....................alpha=0.0001;, score=0.894 total time=   1.0s\n",
            "[CV 2/50] END .....................alpha=0.0001;, score=0.892 total time=   0.9s\n",
            "[CV 3/50] END .....................alpha=0.0001;, score=0.889 total time=   0.9s\n",
            "[CV 4/50] END .....................alpha=0.0001;, score=0.894 total time=   1.0s\n",
            "[CV 5/50] END .....................alpha=0.0001;, score=0.892 total time=   1.0s\n",
            "[CV 6/50] END .....................alpha=0.0001;, score=0.893 total time=   0.9s\n",
            "[CV 7/50] END .....................alpha=0.0001;, score=0.894 total time=   1.0s\n",
            "[CV 8/50] END .....................alpha=0.0001;, score=0.894 total time=   0.9s\n",
            "[CV 9/50] END .....................alpha=0.0001;, score=0.883 total time=   0.9s\n",
            "[CV 10/50] END ....................alpha=0.0001;, score=0.893 total time=   0.9s\n",
            "[CV 11/50] END ....................alpha=0.0001;, score=0.894 total time=   1.2s\n",
            "[CV 12/50] END ....................alpha=0.0001;, score=0.893 total time=   1.1s\n",
            "[CV 13/50] END ....................alpha=0.0001;, score=0.891 total time=   1.1s\n",
            "[CV 14/50] END ....................alpha=0.0001;, score=0.888 total time=   1.0s\n",
            "[CV 15/50] END ....................alpha=0.0001;, score=0.895 total time=   1.0s\n",
            "[CV 16/50] END ....................alpha=0.0001;, score=0.893 total time=   0.9s\n",
            "[CV 17/50] END ....................alpha=0.0001;, score=0.892 total time=   1.1s\n",
            "[CV 18/50] END ....................alpha=0.0001;, score=0.893 total time=   1.0s\n",
            "[CV 19/50] END ....................alpha=0.0001;, score=0.888 total time=   1.0s\n",
            "[CV 20/50] END ....................alpha=0.0001;, score=0.894 total time=   1.0s\n",
            "[CV 21/50] END ....................alpha=0.0001;, score=0.894 total time=   1.0s\n",
            "[CV 22/50] END ....................alpha=0.0001;, score=0.891 total time=   1.0s\n",
            "[CV 23/50] END ....................alpha=0.0001;, score=0.893 total time=   0.9s\n",
            "[CV 24/50] END ....................alpha=0.0001;, score=0.894 total time=   0.9s\n",
            "[CV 25/50] END ....................alpha=0.0001;, score=0.889 total time=   0.9s\n",
            "[CV 26/50] END ....................alpha=0.0001;, score=0.895 total time=   0.9s\n",
            "[CV 27/50] END ....................alpha=0.0001;, score=0.893 total time=   0.9s\n",
            "[CV 28/50] END ....................alpha=0.0001;, score=0.876 total time=   0.9s\n",
            "[CV 29/50] END ....................alpha=0.0001;, score=0.893 total time=   0.9s\n",
            "[CV 30/50] END ....................alpha=0.0001;, score=0.893 total time=   0.9s\n",
            "[CV 31/50] END ....................alpha=0.0001;, score=0.893 total time=   0.9s\n",
            "[CV 32/50] END ....................alpha=0.0001;, score=0.893 total time=   1.0s\n",
            "[CV 33/50] END ....................alpha=0.0001;, score=0.889 total time=   1.1s\n",
            "[CV 34/50] END ....................alpha=0.0001;, score=0.893 total time=   0.9s\n",
            "[CV 35/50] END ....................alpha=0.0001;, score=0.893 total time=   0.9s\n",
            "[CV 36/50] END ....................alpha=0.0001;, score=0.886 total time=   0.9s\n",
            "[CV 37/50] END ....................alpha=0.0001;, score=0.894 total time=   1.0s\n",
            "[CV 38/50] END ....................alpha=0.0001;, score=0.893 total time=   1.0s\n",
            "[CV 39/50] END ....................alpha=0.0001;, score=0.893 total time=   1.1s\n",
            "[CV 40/50] END ....................alpha=0.0001;, score=0.893 total time=   1.1s\n",
            "[CV 41/50] END ....................alpha=0.0001;, score=0.889 total time=   1.1s\n",
            "[CV 42/50] END ....................alpha=0.0001;, score=0.892 total time=   1.0s\n",
            "[CV 43/50] END ....................alpha=0.0001;, score=0.892 total time=   0.9s\n",
            "[CV 44/50] END ....................alpha=0.0001;, score=0.894 total time=   1.1s\n",
            "[CV 45/50] END ....................alpha=0.0001;, score=0.893 total time=   1.0s\n",
            "[CV 46/50] END ....................alpha=0.0001;, score=0.887 total time=   1.1s\n",
            "[CV 47/50] END ....................alpha=0.0001;, score=0.893 total time=   1.1s\n",
            "[CV 48/50] END ....................alpha=0.0001;, score=0.894 total time=   1.0s\n",
            "[CV 49/50] END ....................alpha=0.0001;, score=0.894 total time=   1.1s\n",
            "[CV 50/50] END ....................alpha=0.0001;, score=0.892 total time=   1.0s\n",
            "[CV 1/50] END ......................alpha=0.001;, score=0.894 total time=   1.0s\n"
          ]
        },
        {
          "name": "stdout",
          "output_type": "stream",
          "text": [
            "[CV 2/50] END ......................alpha=0.001;, score=0.892 total time=   1.0s\n",
            "[CV 3/50] END ......................alpha=0.001;, score=0.889 total time=   0.9s\n",
            "[CV 4/50] END ......................alpha=0.001;, score=0.894 total time=   0.9s\n",
            "[CV 5/50] END ......................alpha=0.001;, score=0.892 total time=   1.0s\n",
            "[CV 6/50] END ......................alpha=0.001;, score=0.893 total time=   1.0s\n",
            "[CV 7/50] END ......................alpha=0.001;, score=0.894 total time=   1.0s\n",
            "[CV 8/50] END ......................alpha=0.001;, score=0.894 total time=   1.1s\n",
            "[CV 9/50] END ......................alpha=0.001;, score=0.883 total time=   1.1s\n",
            "[CV 10/50] END .....................alpha=0.001;, score=0.893 total time=   1.1s\n",
            "[CV 11/50] END .....................alpha=0.001;, score=0.894 total time=   0.9s\n",
            "[CV 12/50] END .....................alpha=0.001;, score=0.893 total time=   1.0s\n",
            "[CV 13/50] END .....................alpha=0.001;, score=0.891 total time=   0.9s\n",
            "[CV 14/50] END .....................alpha=0.001;, score=0.888 total time=   1.0s\n",
            "[CV 15/50] END .....................alpha=0.001;, score=0.895 total time=   1.1s\n",
            "[CV 16/50] END .....................alpha=0.001;, score=0.893 total time=   0.9s\n",
            "[CV 17/50] END .....................alpha=0.001;, score=0.892 total time=   1.0s\n",
            "[CV 18/50] END .....................alpha=0.001;, score=0.893 total time=   1.0s\n",
            "[CV 19/50] END .....................alpha=0.001;, score=0.888 total time=   1.0s\n",
            "[CV 20/50] END .....................alpha=0.001;, score=0.894 total time=   1.1s\n",
            "[CV 21/50] END .....................alpha=0.001;, score=0.894 total time=   1.0s\n",
            "[CV 22/50] END .....................alpha=0.001;, score=0.891 total time=   0.9s\n",
            "[CV 23/50] END .....................alpha=0.001;, score=0.893 total time=   0.9s\n",
            "[CV 24/50] END .....................alpha=0.001;, score=0.894 total time=   0.9s\n",
            "[CV 25/50] END .....................alpha=0.001;, score=0.889 total time=   1.1s\n",
            "[CV 26/50] END .....................alpha=0.001;, score=0.895 total time=   1.1s\n",
            "[CV 27/50] END .....................alpha=0.001;, score=0.893 total time=   1.0s\n",
            "[CV 28/50] END .....................alpha=0.001;, score=0.876 total time=   1.0s\n",
            "[CV 29/50] END .....................alpha=0.001;, score=0.893 total time=   1.0s\n",
            "[CV 30/50] END .....................alpha=0.001;, score=0.893 total time=   0.9s\n",
            "[CV 31/50] END .....................alpha=0.001;, score=0.893 total time=   0.9s\n",
            "[CV 32/50] END .....................alpha=0.001;, score=0.893 total time=   0.9s\n",
            "[CV 33/50] END .....................alpha=0.001;, score=0.889 total time=   1.0s\n",
            "[CV 34/50] END .....................alpha=0.001;, score=0.893 total time=   0.9s\n",
            "[CV 35/50] END .....................alpha=0.001;, score=0.893 total time=   1.0s\n",
            "[CV 36/50] END .....................alpha=0.001;, score=0.886 total time=   1.0s\n",
            "[CV 37/50] END .....................alpha=0.001;, score=0.894 total time=   1.0s\n",
            "[CV 38/50] END .....................alpha=0.001;, score=0.893 total time=   0.9s\n",
            "[CV 39/50] END .....................alpha=0.001;, score=0.893 total time=   1.0s\n",
            "[CV 40/50] END .....................alpha=0.001;, score=0.893 total time=   1.0s\n",
            "[CV 41/50] END .....................alpha=0.001;, score=0.889 total time=   0.9s\n",
            "[CV 42/50] END .....................alpha=0.001;, score=0.892 total time=   0.9s\n",
            "[CV 43/50] END .....................alpha=0.001;, score=0.892 total time=   1.0s\n",
            "[CV 44/50] END .....................alpha=0.001;, score=0.894 total time=   0.9s\n",
            "[CV 45/50] END .....................alpha=0.001;, score=0.893 total time=   1.0s\n",
            "[CV 46/50] END .....................alpha=0.001;, score=0.887 total time=   1.0s\n",
            "[CV 47/50] END .....................alpha=0.001;, score=0.893 total time=   0.9s\n",
            "[CV 48/50] END .....................alpha=0.001;, score=0.894 total time=   0.9s\n",
            "[CV 49/50] END .....................alpha=0.001;, score=0.894 total time=   1.0s\n",
            "[CV 50/50] END .....................alpha=0.001;, score=0.892 total time=   1.1s\n",
            "[CV 1/50] END .......................alpha=0.01;, score=0.894 total time=   1.0s\n",
            "[CV 2/50] END .......................alpha=0.01;, score=0.892 total time=   1.0s\n",
            "[CV 3/50] END .......................alpha=0.01;, score=0.889 total time=   0.9s\n",
            "[CV 4/50] END .......................alpha=0.01;, score=0.894 total time=   1.1s\n",
            "[CV 5/50] END .......................alpha=0.01;, score=0.892 total time=   1.0s\n",
            "[CV 6/50] END .......................alpha=0.01;, score=0.893 total time=   1.0s\n",
            "[CV 7/50] END .......................alpha=0.01;, score=0.894 total time=   1.0s\n",
            "[CV 8/50] END .......................alpha=0.01;, score=0.894 total time=   0.9s\n",
            "[CV 9/50] END .......................alpha=0.01;, score=0.883 total time=   1.0s\n",
            "[CV 10/50] END ......................alpha=0.01;, score=0.893 total time=   1.0s\n",
            "[CV 11/50] END ......................alpha=0.01;, score=0.894 total time=   1.0s\n",
            "[CV 12/50] END ......................alpha=0.01;, score=0.893 total time=   1.0s\n",
            "[CV 13/50] END ......................alpha=0.01;, score=0.891 total time=   1.0s\n",
            "[CV 14/50] END ......................alpha=0.01;, score=0.888 total time=   0.9s\n",
            "[CV 15/50] END ......................alpha=0.01;, score=0.895 total time=   1.0s\n",
            "[CV 16/50] END ......................alpha=0.01;, score=0.893 total time=   0.9s\n",
            "[CV 17/50] END ......................alpha=0.01;, score=0.892 total time=   0.9s\n",
            "[CV 18/50] END ......................alpha=0.01;, score=0.893 total time=   0.9s\n",
            "[CV 19/50] END ......................alpha=0.01;, score=0.888 total time=   1.0s\n",
            "[CV 20/50] END ......................alpha=0.01;, score=0.894 total time=   1.0s\n",
            "[CV 21/50] END ......................alpha=0.01;, score=0.894 total time=   1.0s\n",
            "[CV 22/50] END ......................alpha=0.01;, score=0.891 total time=   1.0s\n",
            "[CV 23/50] END ......................alpha=0.01;, score=0.893 total time=   1.0s\n",
            "[CV 24/50] END ......................alpha=0.01;, score=0.894 total time=   0.9s\n",
            "[CV 25/50] END ......................alpha=0.01;, score=0.889 total time=   1.0s\n",
            "[CV 26/50] END ......................alpha=0.01;, score=0.895 total time=   1.0s\n",
            "[CV 27/50] END ......................alpha=0.01;, score=0.893 total time=   1.0s\n",
            "[CV 28/50] END ......................alpha=0.01;, score=0.876 total time=   0.9s\n",
            "[CV 29/50] END ......................alpha=0.01;, score=0.893 total time=   1.1s\n",
            "[CV 30/50] END ......................alpha=0.01;, score=0.893 total time=   1.0s\n",
            "[CV 31/50] END ......................alpha=0.01;, score=0.893 total time=   1.1s\n",
            "[CV 32/50] END ......................alpha=0.01;, score=0.893 total time=   0.9s\n",
            "[CV 33/50] END ......................alpha=0.01;, score=0.889 total time=   0.9s\n",
            "[CV 34/50] END ......................alpha=0.01;, score=0.893 total time=   1.0s\n",
            "[CV 35/50] END ......................alpha=0.01;, score=0.893 total time=   1.0s\n",
            "[CV 36/50] END ......................alpha=0.01;, score=0.886 total time=   1.0s\n",
            "[CV 37/50] END ......................alpha=0.01;, score=0.894 total time=   0.9s\n",
            "[CV 38/50] END ......................alpha=0.01;, score=0.893 total time=   1.0s\n",
            "[CV 39/50] END ......................alpha=0.01;, score=0.893 total time=   1.0s\n",
            "[CV 40/50] END ......................alpha=0.01;, score=0.893 total time=   1.0s\n",
            "[CV 41/50] END ......................alpha=0.01;, score=0.889 total time=   0.9s\n",
            "[CV 42/50] END ......................alpha=0.01;, score=0.892 total time=   1.0s\n",
            "[CV 43/50] END ......................alpha=0.01;, score=0.892 total time=   1.0s\n",
            "[CV 44/50] END ......................alpha=0.01;, score=0.894 total time=   1.0s\n",
            "[CV 45/50] END ......................alpha=0.01;, score=0.893 total time=   1.0s\n",
            "[CV 46/50] END ......................alpha=0.01;, score=0.887 total time=   1.0s\n",
            "[CV 47/50] END ......................alpha=0.01;, score=0.893 total time=   1.0s\n",
            "[CV 48/50] END ......................alpha=0.01;, score=0.894 total time=   0.9s\n",
            "[CV 49/50] END ......................alpha=0.01;, score=0.894 total time=   0.9s\n",
            "[CV 50/50] END ......................alpha=0.01;, score=0.892 total time=   1.0s\n",
            "[CV 1/50] END ........................alpha=0.1;, score=0.894 total time=   0.9s\n",
            "[CV 2/50] END ........................alpha=0.1;, score=0.892 total time=   1.0s\n",
            "[CV 3/50] END ........................alpha=0.1;, score=0.889 total time=   0.9s\n"
          ]
        },
        {
          "name": "stdout",
          "output_type": "stream",
          "text": [
            "[CV 4/50] END ........................alpha=0.1;, score=0.894 total time=   1.0s\n",
            "[CV 5/50] END ........................alpha=0.1;, score=0.892 total time=   1.0s\n",
            "[CV 6/50] END ........................alpha=0.1;, score=0.893 total time=   1.0s\n",
            "[CV 7/50] END ........................alpha=0.1;, score=0.894 total time=   1.0s\n",
            "[CV 8/50] END ........................alpha=0.1;, score=0.894 total time=   1.0s\n",
            "[CV 9/50] END ........................alpha=0.1;, score=0.883 total time=   1.0s\n",
            "[CV 10/50] END .......................alpha=0.1;, score=0.893 total time=   1.0s\n",
            "[CV 11/50] END .......................alpha=0.1;, score=0.894 total time=   1.0s\n",
            "[CV 12/50] END .......................alpha=0.1;, score=0.893 total time=   1.0s\n",
            "[CV 13/50] END .......................alpha=0.1;, score=0.891 total time=   1.0s\n",
            "[CV 14/50] END .......................alpha=0.1;, score=0.888 total time=   1.1s\n",
            "[CV 15/50] END .......................alpha=0.1;, score=0.895 total time=   1.0s\n",
            "[CV 16/50] END .......................alpha=0.1;, score=0.893 total time=   1.0s\n",
            "[CV 17/50] END .......................alpha=0.1;, score=0.892 total time=   1.0s\n",
            "[CV 18/50] END .......................alpha=0.1;, score=0.893 total time=   1.0s\n",
            "[CV 19/50] END .......................alpha=0.1;, score=0.888 total time=   1.0s\n",
            "[CV 20/50] END .......................alpha=0.1;, score=0.894 total time=   1.0s\n",
            "[CV 21/50] END .......................alpha=0.1;, score=0.894 total time=   1.1s\n",
            "[CV 22/50] END .......................alpha=0.1;, score=0.891 total time=   0.9s\n",
            "[CV 23/50] END .......................alpha=0.1;, score=0.893 total time=   1.0s\n",
            "[CV 24/50] END .......................alpha=0.1;, score=0.894 total time=   1.1s\n",
            "[CV 25/50] END .......................alpha=0.1;, score=0.889 total time=   1.1s\n",
            "[CV 26/50] END .......................alpha=0.1;, score=0.895 total time=   1.0s\n",
            "[CV 27/50] END .......................alpha=0.1;, score=0.893 total time=   1.1s\n",
            "[CV 28/50] END .......................alpha=0.1;, score=0.876 total time=   1.0s\n",
            "[CV 29/50] END .......................alpha=0.1;, score=0.893 total time=   1.0s\n",
            "[CV 30/50] END .......................alpha=0.1;, score=0.893 total time=   1.0s\n",
            "[CV 31/50] END .......................alpha=0.1;, score=0.893 total time=   0.9s\n",
            "[CV 32/50] END .......................alpha=0.1;, score=0.893 total time=   1.0s\n",
            "[CV 33/50] END .......................alpha=0.1;, score=0.889 total time=   1.0s\n",
            "[CV 34/50] END .......................alpha=0.1;, score=0.893 total time=   0.9s\n",
            "[CV 35/50] END .......................alpha=0.1;, score=0.893 total time=   1.0s\n",
            "[CV 36/50] END .......................alpha=0.1;, score=0.886 total time=   1.0s\n",
            "[CV 37/50] END .......................alpha=0.1;, score=0.894 total time=   1.0s\n",
            "[CV 38/50] END .......................alpha=0.1;, score=0.893 total time=   1.0s\n",
            "[CV 39/50] END .......................alpha=0.1;, score=0.893 total time=   0.9s\n",
            "[CV 40/50] END .......................alpha=0.1;, score=0.893 total time=   1.0s\n",
            "[CV 41/50] END .......................alpha=0.1;, score=0.889 total time=   1.0s\n",
            "[CV 42/50] END .......................alpha=0.1;, score=0.892 total time=   1.0s\n",
            "[CV 43/50] END .......................alpha=0.1;, score=0.892 total time=   0.9s\n",
            "[CV 44/50] END .......................alpha=0.1;, score=0.894 total time=   1.0s\n",
            "[CV 45/50] END .......................alpha=0.1;, score=0.893 total time=   1.0s\n",
            "[CV 46/50] END .......................alpha=0.1;, score=0.887 total time=   1.0s\n",
            "[CV 47/50] END .......................alpha=0.1;, score=0.893 total time=   1.1s\n",
            "[CV 48/50] END .......................alpha=0.1;, score=0.894 total time=   1.0s\n",
            "[CV 49/50] END .......................alpha=0.1;, score=0.894 total time=   0.9s\n",
            "[CV 50/50] END .......................alpha=0.1;, score=0.892 total time=   1.0s\n",
            "[CV 1/50] END ..........................alpha=1;, score=0.894 total time=   1.0s\n",
            "[CV 2/50] END ..........................alpha=1;, score=0.892 total time=   1.0s\n",
            "[CV 3/50] END ..........................alpha=1;, score=0.889 total time=   1.0s\n",
            "[CV 4/50] END ..........................alpha=1;, score=0.894 total time=   1.0s\n",
            "[CV 5/50] END ..........................alpha=1;, score=0.892 total time=   1.0s\n",
            "[CV 6/50] END ..........................alpha=1;, score=0.893 total time=   1.0s\n",
            "[CV 7/50] END ..........................alpha=1;, score=0.894 total time=   1.0s\n",
            "[CV 8/50] END ..........................alpha=1;, score=0.894 total time=   0.9s\n",
            "[CV 9/50] END ..........................alpha=1;, score=0.883 total time=   1.0s\n",
            "[CV 10/50] END .........................alpha=1;, score=0.893 total time=   1.0s\n",
            "[CV 11/50] END .........................alpha=1;, score=0.894 total time=   1.0s\n",
            "[CV 12/50] END .........................alpha=1;, score=0.893 total time=   1.1s\n",
            "[CV 13/50] END .........................alpha=1;, score=0.891 total time=   1.0s\n",
            "[CV 14/50] END .........................alpha=1;, score=0.888 total time=   0.9s\n",
            "[CV 15/50] END .........................alpha=1;, score=0.895 total time=   1.1s\n",
            "[CV 16/50] END .........................alpha=1;, score=0.893 total time=   1.0s\n",
            "[CV 17/50] END .........................alpha=1;, score=0.892 total time=   1.0s\n",
            "[CV 18/50] END .........................alpha=1;, score=0.893 total time=   1.0s\n",
            "[CV 19/50] END .........................alpha=1;, score=0.888 total time=   0.9s\n",
            "[CV 20/50] END .........................alpha=1;, score=0.894 total time=   1.0s\n",
            "[CV 21/50] END .........................alpha=1;, score=0.894 total time=   1.1s\n",
            "[CV 22/50] END .........................alpha=1;, score=0.891 total time=   1.0s\n",
            "[CV 23/50] END .........................alpha=1;, score=0.893 total time=   0.9s\n",
            "[CV 24/50] END .........................alpha=1;, score=0.894 total time=   1.0s\n",
            "[CV 25/50] END .........................alpha=1;, score=0.889 total time=   0.9s\n",
            "[CV 26/50] END .........................alpha=1;, score=0.895 total time=   1.0s\n",
            "[CV 27/50] END .........................alpha=1;, score=0.893 total time=   1.0s\n",
            "[CV 28/50] END .........................alpha=1;, score=0.876 total time=   1.0s\n",
            "[CV 29/50] END .........................alpha=1;, score=0.893 total time=   1.0s\n",
            "[CV 30/50] END .........................alpha=1;, score=0.893 total time=   1.0s\n",
            "[CV 31/50] END .........................alpha=1;, score=0.893 total time=   1.1s\n",
            "[CV 32/50] END .........................alpha=1;, score=0.893 total time=   1.1s\n",
            "[CV 33/50] END .........................alpha=1;, score=0.889 total time=   1.0s\n",
            "[CV 34/50] END .........................alpha=1;, score=0.893 total time=   1.1s\n",
            "[CV 35/50] END .........................alpha=1;, score=0.893 total time=   1.0s\n",
            "[CV 36/50] END .........................alpha=1;, score=0.886 total time=   1.0s\n",
            "[CV 37/50] END .........................alpha=1;, score=0.894 total time=   1.0s\n",
            "[CV 38/50] END .........................alpha=1;, score=0.893 total time=   1.0s\n",
            "[CV 39/50] END .........................alpha=1;, score=0.893 total time=   1.1s\n",
            "[CV 40/50] END .........................alpha=1;, score=0.893 total time=   1.0s\n",
            "[CV 41/50] END .........................alpha=1;, score=0.889 total time=   0.9s\n",
            "[CV 42/50] END .........................alpha=1;, score=0.892 total time=   0.9s\n",
            "[CV 43/50] END .........................alpha=1;, score=0.892 total time=   1.0s\n",
            "[CV 44/50] END .........................alpha=1;, score=0.894 total time=   1.0s\n",
            "[CV 45/50] END .........................alpha=1;, score=0.893 total time=   1.0s\n",
            "[CV 46/50] END .........................alpha=1;, score=0.887 total time=   1.0s\n",
            "[CV 47/50] END .........................alpha=1;, score=0.893 total time=   0.9s\n",
            "[CV 48/50] END .........................alpha=1;, score=0.894 total time=   1.0s\n",
            "[CV 49/50] END .........................alpha=1;, score=0.894 total time=   0.9s\n",
            "[CV 50/50] END .........................alpha=1;, score=0.892 total time=   1.1s\n",
            "[CV 1/50] END .........................alpha=10;, score=0.894 total time=   1.0s\n",
            "[CV 2/50] END .........................alpha=10;, score=0.892 total time=   1.0s\n",
            "[CV 3/50] END .........................alpha=10;, score=0.889 total time=   0.9s\n",
            "[CV 4/50] END .........................alpha=10;, score=0.894 total time=   1.0s\n",
            "[CV 5/50] END .........................alpha=10;, score=0.892 total time=   1.0s\n"
          ]
        },
        {
          "name": "stdout",
          "output_type": "stream",
          "text": [
            "[CV 6/50] END .........................alpha=10;, score=0.893 total time=   1.0s\n",
            "[CV 7/50] END .........................alpha=10;, score=0.894 total time=   1.0s\n",
            "[CV 8/50] END .........................alpha=10;, score=0.894 total time=   0.9s\n",
            "[CV 9/50] END .........................alpha=10;, score=0.883 total time=   1.0s\n",
            "[CV 10/50] END ........................alpha=10;, score=0.893 total time=   0.9s\n",
            "[CV 11/50] END ........................alpha=10;, score=0.894 total time=   1.0s\n",
            "[CV 12/50] END ........................alpha=10;, score=0.893 total time=   1.0s\n",
            "[CV 13/50] END ........................alpha=10;, score=0.891 total time=   1.0s\n",
            "[CV 14/50] END ........................alpha=10;, score=0.888 total time=   1.0s\n",
            "[CV 15/50] END ........................alpha=10;, score=0.895 total time=   1.0s\n",
            "[CV 16/50] END ........................alpha=10;, score=0.893 total time=   1.1s\n",
            "[CV 17/50] END ........................alpha=10;, score=0.892 total time=   1.1s\n",
            "[CV 18/50] END ........................alpha=10;, score=0.893 total time=   0.9s\n",
            "[CV 19/50] END ........................alpha=10;, score=0.888 total time=   1.0s\n",
            "[CV 20/50] END ........................alpha=10;, score=0.894 total time=   1.1s\n",
            "[CV 21/50] END ........................alpha=10;, score=0.894 total time=   1.1s\n",
            "[CV 22/50] END ........................alpha=10;, score=0.891 total time=   1.0s\n",
            "[CV 23/50] END ........................alpha=10;, score=0.893 total time=   1.0s\n",
            "[CV 24/50] END ........................alpha=10;, score=0.894 total time=   1.0s\n",
            "[CV 25/50] END ........................alpha=10;, score=0.889 total time=   1.0s\n",
            "[CV 26/50] END ........................alpha=10;, score=0.895 total time=   1.0s\n",
            "[CV 27/50] END ........................alpha=10;, score=0.893 total time=   1.0s\n",
            "[CV 28/50] END ........................alpha=10;, score=0.876 total time=   0.9s\n",
            "[CV 29/50] END ........................alpha=10;, score=0.893 total time=   1.0s\n",
            "[CV 30/50] END ........................alpha=10;, score=0.893 total time=   1.0s\n",
            "[CV 31/50] END ........................alpha=10;, score=0.893 total time=   0.9s\n",
            "[CV 32/50] END ........................alpha=10;, score=0.893 total time=   0.9s\n",
            "[CV 33/50] END ........................alpha=10;, score=0.889 total time=   0.9s\n",
            "[CV 34/50] END ........................alpha=10;, score=0.893 total time=   0.9s\n",
            "[CV 35/50] END ........................alpha=10;, score=0.893 total time=   0.9s\n",
            "[CV 36/50] END ........................alpha=10;, score=0.886 total time=   0.9s\n",
            "[CV 37/50] END ........................alpha=10;, score=0.894 total time=   0.9s\n",
            "[CV 38/50] END ........................alpha=10;, score=0.893 total time=   0.9s\n",
            "[CV 39/50] END ........................alpha=10;, score=0.893 total time=   0.9s\n",
            "[CV 40/50] END ........................alpha=10;, score=0.893 total time=   1.0s\n",
            "[CV 41/50] END ........................alpha=10;, score=0.889 total time=   0.9s\n",
            "[CV 42/50] END ........................alpha=10;, score=0.892 total time=   0.9s\n",
            "[CV 43/50] END ........................alpha=10;, score=0.892 total time=   0.9s\n",
            "[CV 44/50] END ........................alpha=10;, score=0.894 total time=   1.0s\n",
            "[CV 45/50] END ........................alpha=10;, score=0.893 total time=   1.0s\n",
            "[CV 46/50] END ........................alpha=10;, score=0.887 total time=   1.0s\n",
            "[CV 47/50] END ........................alpha=10;, score=0.893 total time=   1.0s\n",
            "[CV 48/50] END ........................alpha=10;, score=0.894 total time=   1.0s\n",
            "[CV 49/50] END ........................alpha=10;, score=0.894 total time=   1.1s\n",
            "[CV 50/50] END ........................alpha=10;, score=0.892 total time=   1.1s\n",
            "[CV 1/50] END ........................alpha=100;, score=0.894 total time=   0.9s\n",
            "[CV 2/50] END ........................alpha=100;, score=0.892 total time=   0.9s\n",
            "[CV 3/50] END ........................alpha=100;, score=0.889 total time=   1.0s\n",
            "[CV 4/50] END ........................alpha=100;, score=0.894 total time=   1.1s\n",
            "[CV 5/50] END ........................alpha=100;, score=0.892 total time=   1.0s\n",
            "[CV 6/50] END ........................alpha=100;, score=0.893 total time=   1.0s\n",
            "[CV 7/50] END ........................alpha=100;, score=0.894 total time=   0.9s\n",
            "[CV 8/50] END ........................alpha=100;, score=0.894 total time=   1.0s\n",
            "[CV 9/50] END ........................alpha=100;, score=0.883 total time=   1.0s\n",
            "[CV 10/50] END .......................alpha=100;, score=0.893 total time=   0.9s\n",
            "[CV 11/50] END .......................alpha=100;, score=0.894 total time=   1.0s\n",
            "[CV 12/50] END .......................alpha=100;, score=0.893 total time=   1.0s\n",
            "[CV 13/50] END .......................alpha=100;, score=0.891 total time=   1.0s\n",
            "[CV 14/50] END .......................alpha=100;, score=0.888 total time=   1.0s\n",
            "[CV 15/50] END .......................alpha=100;, score=0.895 total time=   1.0s\n",
            "[CV 16/50] END .......................alpha=100;, score=0.893 total time=   0.9s\n",
            "[CV 17/50] END .......................alpha=100;, score=0.892 total time=   0.9s\n",
            "[CV 18/50] END .......................alpha=100;, score=0.893 total time=   0.9s\n",
            "[CV 19/50] END .......................alpha=100;, score=0.888 total time=   1.0s\n",
            "[CV 20/50] END .......................alpha=100;, score=0.894 total time=   0.9s\n",
            "[CV 21/50] END .......................alpha=100;, score=0.894 total time=   1.0s\n",
            "[CV 22/50] END .......................alpha=100;, score=0.891 total time=   0.9s\n",
            "[CV 23/50] END .......................alpha=100;, score=0.893 total time=   1.0s\n",
            "[CV 24/50] END .......................alpha=100;, score=0.894 total time=   1.1s\n",
            "[CV 25/50] END .......................alpha=100;, score=0.889 total time=   1.2s\n",
            "[CV 26/50] END .......................alpha=100;, score=0.895 total time=   1.2s\n",
            "[CV 27/50] END .......................alpha=100;, score=0.893 total time=   1.1s\n",
            "[CV 28/50] END .......................alpha=100;, score=0.876 total time=   1.0s\n",
            "[CV 29/50] END .......................alpha=100;, score=0.893 total time=   1.1s\n",
            "[CV 30/50] END .......................alpha=100;, score=0.893 total time=   1.1s\n",
            "[CV 31/50] END .......................alpha=100;, score=0.893 total time=   1.0s\n",
            "[CV 32/50] END .......................alpha=100;, score=0.893 total time=   1.0s\n",
            "[CV 33/50] END .......................alpha=100;, score=0.889 total time=   1.0s\n",
            "[CV 34/50] END .......................alpha=100;, score=0.893 total time=   1.0s\n",
            "[CV 35/50] END .......................alpha=100;, score=0.893 total time=   1.0s\n",
            "[CV 36/50] END .......................alpha=100;, score=0.886 total time=   0.9s\n",
            "[CV 37/50] END .......................alpha=100;, score=0.894 total time=   0.9s\n",
            "[CV 38/50] END .......................alpha=100;, score=0.893 total time=   1.0s\n",
            "[CV 39/50] END .......................alpha=100;, score=0.893 total time=   1.0s\n",
            "[CV 40/50] END .......................alpha=100;, score=0.893 total time=   1.0s\n",
            "[CV 41/50] END .......................alpha=100;, score=0.889 total time=   0.9s\n",
            "[CV 42/50] END .......................alpha=100;, score=0.892 total time=   1.0s\n",
            "[CV 43/50] END .......................alpha=100;, score=0.892 total time=   1.0s\n",
            "[CV 44/50] END .......................alpha=100;, score=0.894 total time=   1.0s\n",
            "[CV 45/50] END .......................alpha=100;, score=0.893 total time=   1.0s\n",
            "[CV 46/50] END .......................alpha=100;, score=0.887 total time=   1.0s\n",
            "[CV 47/50] END .......................alpha=100;, score=0.893 total time=   1.0s\n",
            "[CV 48/50] END .......................alpha=100;, score=0.894 total time=   1.0s\n",
            "[CV 49/50] END .......................alpha=100;, score=0.894 total time=   1.1s\n",
            "[CV 50/50] END .......................alpha=100;, score=0.892 total time=   1.0s\n",
            "Best Score: 0.8918133584503248\n",
            "Best Hyperparameters: {'alpha': 100}\n"
          ]
        }
      ],
      "source": [
        "# Grid Search : Linear Regression for Dual\n",
        "search = GridSearchCV(model, param, cv=cv, verbose=3)\n",
        "resDuo = search.fit(duo_df.drop(['winPlacePerc'], axis = 1), duo_df['winPlacePerc'])\n",
        "\n",
        "# Result : Linear Regression for Dual Data\n",
        "print('Best Score: %s' % resDuo.best_score_)\n",
        "print('Best Hyperparameters: %s' % resDuo.best_params_)"
      ]
    },
    {
      "cell_type": "code",
      "execution_count": null,
      "metadata": {
        "id": "wYZVBt-r8rPp",
        "outputId": "6adc6896-0970-401b-9f4a-75729f962806"
      },
      "outputs": [
        {
          "name": "stdout",
          "output_type": "stream",
          "text": [
            "Fitting 50 folds for each of 8 candidates, totalling 400 fits\n",
            "[CV 1/50] END ......................alpha=1e-05;, score=0.866 total time=   1.3s\n",
            "[CV 2/50] END ......................alpha=1e-05;, score=0.866 total time=   1.3s\n",
            "[CV 3/50] END ......................alpha=1e-05;, score=0.869 total time=   1.2s\n",
            "[CV 4/50] END ......................alpha=1e-05;, score=0.868 total time=   1.2s\n",
            "[CV 5/50] END ......................alpha=1e-05;, score=0.867 total time=   1.3s\n",
            "[CV 6/50] END ......................alpha=1e-05;, score=0.867 total time=   1.2s\n",
            "[CV 7/50] END ......................alpha=1e-05;, score=0.868 total time=   1.4s\n",
            "[CV 8/50] END ......................alpha=1e-05;, score=0.868 total time=   1.4s\n",
            "[CV 9/50] END ......................alpha=1e-05;, score=0.868 total time=   1.3s\n",
            "[CV 10/50] END .....................alpha=1e-05;, score=0.866 total time=   1.4s\n",
            "[CV 11/50] END .....................alpha=1e-05;, score=0.867 total time=   1.2s\n",
            "[CV 12/50] END .....................alpha=1e-05;, score=0.867 total time=   1.2s\n",
            "[CV 13/50] END .....................alpha=1e-05;, score=0.866 total time=   1.2s\n",
            "[CV 14/50] END .....................alpha=1e-05;, score=0.867 total time=   1.2s\n",
            "[CV 15/50] END .....................alpha=1e-05;, score=0.869 total time=   1.2s\n",
            "[CV 16/50] END .....................alpha=1e-05;, score=0.866 total time=   1.3s\n",
            "[CV 17/50] END .....................alpha=1e-05;, score=0.867 total time=   1.2s\n",
            "[CV 18/50] END .....................alpha=1e-05;, score=0.868 total time=   1.3s\n",
            "[CV 19/50] END .....................alpha=1e-05;, score=0.867 total time=   1.2s\n",
            "[CV 20/50] END .....................alpha=1e-05;, score=0.868 total time=   1.2s\n",
            "[CV 21/50] END .....................alpha=1e-05;, score=0.866 total time=   1.2s\n",
            "[CV 22/50] END .....................alpha=1e-05;, score=0.866 total time=   1.2s\n",
            "[CV 23/50] END .....................alpha=1e-05;, score=0.868 total time=   1.2s\n",
            "[CV 24/50] END .....................alpha=1e-05;, score=0.868 total time=   1.2s\n",
            "[CV 25/50] END .....................alpha=1e-05;, score=0.867 total time=   1.2s\n",
            "[CV 26/50] END .....................alpha=1e-05;, score=0.868 total time=   1.3s\n",
            "[CV 27/50] END .....................alpha=1e-05;, score=0.868 total time=   1.3s\n",
            "[CV 28/50] END .....................alpha=1e-05;, score=0.861 total time=   1.2s\n",
            "[CV 29/50] END .....................alpha=1e-05;, score=0.867 total time=   1.2s\n",
            "[CV 30/50] END .....................alpha=1e-05;, score=0.868 total time=   1.2s\n",
            "[CV 31/50] END .....................alpha=1e-05;, score=0.869 total time=   1.3s\n",
            "[CV 32/50] END .....................alpha=1e-05;, score=0.867 total time=   1.3s\n",
            "[CV 33/50] END .....................alpha=1e-05;, score=0.866 total time=   1.3s\n",
            "[CV 34/50] END .....................alpha=1e-05;, score=0.868 total time=   1.2s\n",
            "[CV 35/50] END .....................alpha=1e-05;, score=0.866 total time=   1.3s\n",
            "[CV 36/50] END .....................alpha=1e-05;, score=0.866 total time=   1.3s\n",
            "[CV 37/50] END .....................alpha=1e-05;, score=0.869 total time=   1.2s\n",
            "[CV 38/50] END .....................alpha=1e-05;, score=0.868 total time=   1.3s\n",
            "[CV 39/50] END .....................alpha=1e-05;, score=0.866 total time=   1.1s\n",
            "[CV 40/50] END .....................alpha=1e-05;, score=0.867 total time=   1.3s\n",
            "[CV 41/50] END .....................alpha=1e-05;, score=0.868 total time=   1.1s\n",
            "[CV 42/50] END .....................alpha=1e-05;, score=0.868 total time=   1.3s\n",
            "[CV 43/50] END .....................alpha=1e-05;, score=0.864 total time=   1.2s\n",
            "[CV 44/50] END .....................alpha=1e-05;, score=0.868 total time=   1.2s\n",
            "[CV 45/50] END .....................alpha=1e-05;, score=0.867 total time=   1.1s\n",
            "[CV 46/50] END .....................alpha=1e-05;, score=0.868 total time=   1.3s\n",
            "[CV 47/50] END .....................alpha=1e-05;, score=0.866 total time=   1.3s\n",
            "[CV 48/50] END .....................alpha=1e-05;, score=0.868 total time=   1.2s\n",
            "[CV 49/50] END .....................alpha=1e-05;, score=0.867 total time=   1.3s\n",
            "[CV 50/50] END .....................alpha=1e-05;, score=0.867 total time=   1.4s\n",
            "[CV 1/50] END .....................alpha=0.0001;, score=0.866 total time=   1.3s\n",
            "[CV 2/50] END .....................alpha=0.0001;, score=0.866 total time=   1.3s\n",
            "[CV 3/50] END .....................alpha=0.0001;, score=0.869 total time=   1.3s\n",
            "[CV 4/50] END .....................alpha=0.0001;, score=0.868 total time=   1.3s\n",
            "[CV 5/50] END .....................alpha=0.0001;, score=0.867 total time=   1.2s\n",
            "[CV 6/50] END .....................alpha=0.0001;, score=0.867 total time=   1.3s\n",
            "[CV 7/50] END .....................alpha=0.0001;, score=0.868 total time=   1.2s\n",
            "[CV 8/50] END .....................alpha=0.0001;, score=0.868 total time=   1.2s\n",
            "[CV 9/50] END .....................alpha=0.0001;, score=0.868 total time=   1.3s\n",
            "[CV 10/50] END ....................alpha=0.0001;, score=0.866 total time=   1.2s\n",
            "[CV 11/50] END ....................alpha=0.0001;, score=0.867 total time=   1.3s\n",
            "[CV 12/50] END ....................alpha=0.0001;, score=0.867 total time=   1.3s\n",
            "[CV 13/50] END ....................alpha=0.0001;, score=0.866 total time=   1.2s\n",
            "[CV 14/50] END ....................alpha=0.0001;, score=0.867 total time=   1.3s\n",
            "[CV 15/50] END ....................alpha=0.0001;, score=0.869 total time=   1.4s\n",
            "[CV 16/50] END ....................alpha=0.0001;, score=0.866 total time=   1.3s\n",
            "[CV 17/50] END ....................alpha=0.0001;, score=0.867 total time=   1.2s\n",
            "[CV 18/50] END ....................alpha=0.0001;, score=0.868 total time=   1.2s\n",
            "[CV 19/50] END ....................alpha=0.0001;, score=0.867 total time=   1.2s\n",
            "[CV 20/50] END ....................alpha=0.0001;, score=0.868 total time=   1.2s\n",
            "[CV 21/50] END ....................alpha=0.0001;, score=0.866 total time=   1.3s\n",
            "[CV 22/50] END ....................alpha=0.0001;, score=0.866 total time=   1.2s\n",
            "[CV 23/50] END ....................alpha=0.0001;, score=0.868 total time=   1.3s\n",
            "[CV 24/50] END ....................alpha=0.0001;, score=0.868 total time=   1.2s\n",
            "[CV 25/50] END ....................alpha=0.0001;, score=0.867 total time=   1.2s\n",
            "[CV 26/50] END ....................alpha=0.0001;, score=0.868 total time=   1.3s\n",
            "[CV 27/50] END ....................alpha=0.0001;, score=0.868 total time=   1.2s\n",
            "[CV 28/50] END ....................alpha=0.0001;, score=0.861 total time=   1.2s\n",
            "[CV 29/50] END ....................alpha=0.0001;, score=0.867 total time=   1.2s\n",
            "[CV 30/50] END ....................alpha=0.0001;, score=0.868 total time=   1.3s\n",
            "[CV 31/50] END ....................alpha=0.0001;, score=0.869 total time=   1.2s\n",
            "[CV 32/50] END ....................alpha=0.0001;, score=0.867 total time=   1.3s\n",
            "[CV 33/50] END ....................alpha=0.0001;, score=0.866 total time=   1.2s\n",
            "[CV 34/50] END ....................alpha=0.0001;, score=0.868 total time=   1.2s\n",
            "[CV 35/50] END ....................alpha=0.0001;, score=0.866 total time=   1.2s\n",
            "[CV 36/50] END ....................alpha=0.0001;, score=0.866 total time=   1.3s\n",
            "[CV 37/50] END ....................alpha=0.0001;, score=0.869 total time=   1.3s\n",
            "[CV 38/50] END ....................alpha=0.0001;, score=0.868 total time=   1.2s\n",
            "[CV 39/50] END ....................alpha=0.0001;, score=0.866 total time=   1.2s\n",
            "[CV 40/50] END ....................alpha=0.0001;, score=0.867 total time=   1.3s\n",
            "[CV 41/50] END ....................alpha=0.0001;, score=0.868 total time=   1.3s\n",
            "[CV 42/50] END ....................alpha=0.0001;, score=0.868 total time=   1.2s\n",
            "[CV 43/50] END ....................alpha=0.0001;, score=0.864 total time=   1.2s\n",
            "[CV 44/50] END ....................alpha=0.0001;, score=0.868 total time=   1.2s\n",
            "[CV 45/50] END ....................alpha=0.0001;, score=0.867 total time=   1.2s\n",
            "[CV 46/50] END ....................alpha=0.0001;, score=0.868 total time=   1.1s\n",
            "[CV 47/50] END ....................alpha=0.0001;, score=0.866 total time=   1.2s\n",
            "[CV 48/50] END ....................alpha=0.0001;, score=0.868 total time=   1.2s\n",
            "[CV 49/50] END ....................alpha=0.0001;, score=0.867 total time=   1.1s\n",
            "[CV 50/50] END ....................alpha=0.0001;, score=0.867 total time=   1.2s\n",
            "[CV 1/50] END ......................alpha=0.001;, score=0.866 total time=   1.3s\n"
          ]
        },
        {
          "name": "stdout",
          "output_type": "stream",
          "text": [
            "[CV 2/50] END ......................alpha=0.001;, score=0.866 total time=   1.3s\n",
            "[CV 3/50] END ......................alpha=0.001;, score=0.869 total time=   1.3s\n",
            "[CV 4/50] END ......................alpha=0.001;, score=0.868 total time=   1.3s\n",
            "[CV 5/50] END ......................alpha=0.001;, score=0.867 total time=   1.3s\n",
            "[CV 6/50] END ......................alpha=0.001;, score=0.867 total time=   1.3s\n",
            "[CV 7/50] END ......................alpha=0.001;, score=0.868 total time=   1.2s\n",
            "[CV 8/50] END ......................alpha=0.001;, score=0.868 total time=   1.3s\n",
            "[CV 9/50] END ......................alpha=0.001;, score=0.868 total time=   1.1s\n",
            "[CV 10/50] END .....................alpha=0.001;, score=0.866 total time=   1.2s\n",
            "[CV 11/50] END .....................alpha=0.001;, score=0.867 total time=   1.3s\n",
            "[CV 12/50] END .....................alpha=0.001;, score=0.867 total time=   1.2s\n",
            "[CV 13/50] END .....................alpha=0.001;, score=0.866 total time=   1.2s\n",
            "[CV 14/50] END .....................alpha=0.001;, score=0.867 total time=   1.5s\n",
            "[CV 15/50] END .....................alpha=0.001;, score=0.869 total time=   1.3s\n",
            "[CV 16/50] END .....................alpha=0.001;, score=0.866 total time=   1.2s\n",
            "[CV 17/50] END .....................alpha=0.001;, score=0.867 total time=   1.2s\n",
            "[CV 18/50] END .....................alpha=0.001;, score=0.868 total time=   1.2s\n",
            "[CV 19/50] END .....................alpha=0.001;, score=0.867 total time=   1.3s\n",
            "[CV 20/50] END .....................alpha=0.001;, score=0.868 total time=   1.2s\n",
            "[CV 21/50] END .....................alpha=0.001;, score=0.866 total time=   1.3s\n",
            "[CV 22/50] END .....................alpha=0.001;, score=0.866 total time=   1.2s\n",
            "[CV 23/50] END .....................alpha=0.001;, score=0.868 total time=   1.2s\n",
            "[CV 24/50] END .....................alpha=0.001;, score=0.868 total time=   1.1s\n",
            "[CV 25/50] END .....................alpha=0.001;, score=0.867 total time=   1.2s\n",
            "[CV 26/50] END .....................alpha=0.001;, score=0.868 total time=   1.2s\n",
            "[CV 27/50] END .....................alpha=0.001;, score=0.868 total time=   1.2s\n",
            "[CV 28/50] END .....................alpha=0.001;, score=0.861 total time=   1.2s\n",
            "[CV 29/50] END .....................alpha=0.001;, score=0.867 total time=   1.2s\n",
            "[CV 30/50] END .....................alpha=0.001;, score=0.868 total time=   1.3s\n",
            "[CV 31/50] END .....................alpha=0.001;, score=0.869 total time=   1.1s\n",
            "[CV 32/50] END .....................alpha=0.001;, score=0.867 total time=   1.2s\n",
            "[CV 33/50] END .....................alpha=0.001;, score=0.866 total time=   1.2s\n",
            "[CV 34/50] END .....................alpha=0.001;, score=0.868 total time=   1.2s\n",
            "[CV 35/50] END .....................alpha=0.001;, score=0.866 total time=   1.3s\n",
            "[CV 36/50] END .....................alpha=0.001;, score=0.866 total time=   1.3s\n",
            "[CV 37/50] END .....................alpha=0.001;, score=0.869 total time=   1.3s\n",
            "[CV 38/50] END .....................alpha=0.001;, score=0.868 total time=   1.3s\n",
            "[CV 39/50] END .....................alpha=0.001;, score=0.866 total time=   1.3s\n",
            "[CV 40/50] END .....................alpha=0.001;, score=0.867 total time=   1.3s\n",
            "[CV 41/50] END .....................alpha=0.001;, score=0.868 total time=   1.1s\n",
            "[CV 42/50] END .....................alpha=0.001;, score=0.868 total time=   1.1s\n",
            "[CV 43/50] END .....................alpha=0.001;, score=0.864 total time=   1.3s\n",
            "[CV 44/50] END .....................alpha=0.001;, score=0.868 total time=   1.4s\n",
            "[CV 45/50] END .....................alpha=0.001;, score=0.867 total time=   1.3s\n",
            "[CV 46/50] END .....................alpha=0.001;, score=0.868 total time=   1.3s\n",
            "[CV 47/50] END .....................alpha=0.001;, score=0.866 total time=   1.2s\n",
            "[CV 48/50] END .....................alpha=0.001;, score=0.868 total time=   1.2s\n",
            "[CV 49/50] END .....................alpha=0.001;, score=0.867 total time=   1.3s\n",
            "[CV 50/50] END .....................alpha=0.001;, score=0.867 total time=   1.2s\n",
            "[CV 1/50] END .......................alpha=0.01;, score=0.866 total time=   1.2s\n",
            "[CV 2/50] END .......................alpha=0.01;, score=0.866 total time=   1.2s\n",
            "[CV 3/50] END .......................alpha=0.01;, score=0.869 total time=   1.3s\n",
            "[CV 4/50] END .......................alpha=0.01;, score=0.868 total time=   1.2s\n",
            "[CV 5/50] END .......................alpha=0.01;, score=0.867 total time=   1.2s\n",
            "[CV 6/50] END .......................alpha=0.01;, score=0.867 total time=   1.2s\n",
            "[CV 7/50] END .......................alpha=0.01;, score=0.868 total time=   1.2s\n",
            "[CV 8/50] END .......................alpha=0.01;, score=0.868 total time=   1.3s\n",
            "[CV 9/50] END .......................alpha=0.01;, score=0.868 total time=   1.2s\n",
            "[CV 10/50] END ......................alpha=0.01;, score=0.866 total time=   1.2s\n",
            "[CV 11/50] END ......................alpha=0.01;, score=0.867 total time=   1.2s\n",
            "[CV 12/50] END ......................alpha=0.01;, score=0.867 total time=   1.3s\n",
            "[CV 13/50] END ......................alpha=0.01;, score=0.866 total time=   1.2s\n",
            "[CV 14/50] END ......................alpha=0.01;, score=0.867 total time=   1.2s\n",
            "[CV 15/50] END ......................alpha=0.01;, score=0.869 total time=   1.2s\n",
            "[CV 16/50] END ......................alpha=0.01;, score=0.866 total time=   1.1s\n",
            "[CV 17/50] END ......................alpha=0.01;, score=0.867 total time=   1.3s\n",
            "[CV 18/50] END ......................alpha=0.01;, score=0.868 total time=   1.3s\n",
            "[CV 19/50] END ......................alpha=0.01;, score=0.867 total time=   1.3s\n",
            "[CV 20/50] END ......................alpha=0.01;, score=0.868 total time=   1.4s\n",
            "[CV 21/50] END ......................alpha=0.01;, score=0.866 total time=   1.2s\n",
            "[CV 22/50] END ......................alpha=0.01;, score=0.866 total time=   1.3s\n",
            "[CV 23/50] END ......................alpha=0.01;, score=0.868 total time=   1.3s\n",
            "[CV 24/50] END ......................alpha=0.01;, score=0.868 total time=   1.3s\n",
            "[CV 25/50] END ......................alpha=0.01;, score=0.867 total time=   1.3s\n",
            "[CV 26/50] END ......................alpha=0.01;, score=0.868 total time=   1.2s\n",
            "[CV 27/50] END ......................alpha=0.01;, score=0.868 total time=   1.2s\n",
            "[CV 28/50] END ......................alpha=0.01;, score=0.861 total time=   1.2s\n",
            "[CV 29/50] END ......................alpha=0.01;, score=0.867 total time=   1.3s\n",
            "[CV 30/50] END ......................alpha=0.01;, score=0.868 total time=   1.2s\n",
            "[CV 31/50] END ......................alpha=0.01;, score=0.869 total time=   1.3s\n",
            "[CV 32/50] END ......................alpha=0.01;, score=0.867 total time=   1.2s\n",
            "[CV 33/50] END ......................alpha=0.01;, score=0.866 total time=   1.3s\n",
            "[CV 34/50] END ......................alpha=0.01;, score=0.868 total time=   1.2s\n",
            "[CV 35/50] END ......................alpha=0.01;, score=0.866 total time=   1.3s\n",
            "[CV 36/50] END ......................alpha=0.01;, score=0.866 total time=   1.2s\n",
            "[CV 37/50] END ......................alpha=0.01;, score=0.869 total time=   1.2s\n",
            "[CV 38/50] END ......................alpha=0.01;, score=0.868 total time=   1.2s\n",
            "[CV 39/50] END ......................alpha=0.01;, score=0.866 total time=   1.3s\n",
            "[CV 40/50] END ......................alpha=0.01;, score=0.867 total time=   1.2s\n",
            "[CV 41/50] END ......................alpha=0.01;, score=0.868 total time=   1.3s\n",
            "[CV 42/50] END ......................alpha=0.01;, score=0.868 total time=   1.2s\n",
            "[CV 43/50] END ......................alpha=0.01;, score=0.864 total time=   1.2s\n",
            "[CV 44/50] END ......................alpha=0.01;, score=0.868 total time=   1.3s\n",
            "[CV 45/50] END ......................alpha=0.01;, score=0.867 total time=   1.3s\n",
            "[CV 46/50] END ......................alpha=0.01;, score=0.868 total time=   1.3s\n",
            "[CV 47/50] END ......................alpha=0.01;, score=0.866 total time=   1.3s\n",
            "[CV 48/50] END ......................alpha=0.01;, score=0.868 total time=   1.2s\n",
            "[CV 49/50] END ......................alpha=0.01;, score=0.867 total time=   1.3s\n",
            "[CV 50/50] END ......................alpha=0.01;, score=0.867 total time=   1.3s\n",
            "[CV 1/50] END ........................alpha=0.1;, score=0.866 total time=   1.3s\n",
            "[CV 2/50] END ........................alpha=0.1;, score=0.866 total time=   1.2s\n",
            "[CV 3/50] END ........................alpha=0.1;, score=0.869 total time=   1.3s\n"
          ]
        },
        {
          "name": "stdout",
          "output_type": "stream",
          "text": [
            "[CV 4/50] END ........................alpha=0.1;, score=0.868 total time=   1.3s\n",
            "[CV 5/50] END ........................alpha=0.1;, score=0.867 total time=   1.2s\n",
            "[CV 6/50] END ........................alpha=0.1;, score=0.867 total time=   1.3s\n",
            "[CV 7/50] END ........................alpha=0.1;, score=0.868 total time=   1.4s\n",
            "[CV 8/50] END ........................alpha=0.1;, score=0.868 total time=   1.3s\n",
            "[CV 9/50] END ........................alpha=0.1;, score=0.868 total time=   1.2s\n",
            "[CV 10/50] END .......................alpha=0.1;, score=0.866 total time=   1.2s\n",
            "[CV 11/50] END .......................alpha=0.1;, score=0.867 total time=   1.2s\n",
            "[CV 12/50] END .......................alpha=0.1;, score=0.867 total time=   1.2s\n",
            "[CV 13/50] END .......................alpha=0.1;, score=0.866 total time=   1.2s\n",
            "[CV 14/50] END .......................alpha=0.1;, score=0.867 total time=   1.2s\n",
            "[CV 15/50] END .......................alpha=0.1;, score=0.869 total time=   1.1s\n",
            "[CV 16/50] END .......................alpha=0.1;, score=0.866 total time=   1.2s\n",
            "[CV 17/50] END .......................alpha=0.1;, score=0.867 total time=   1.4s\n",
            "[CV 18/50] END .......................alpha=0.1;, score=0.868 total time=   1.2s\n",
            "[CV 19/50] END .......................alpha=0.1;, score=0.867 total time=   1.5s\n",
            "[CV 20/50] END .......................alpha=0.1;, score=0.868 total time=   1.2s\n",
            "[CV 21/50] END .......................alpha=0.1;, score=0.866 total time=   1.4s\n",
            "[CV 22/50] END .......................alpha=0.1;, score=0.866 total time=   1.5s\n",
            "[CV 23/50] END .......................alpha=0.1;, score=0.868 total time=   1.2s\n",
            "[CV 24/50] END .......................alpha=0.1;, score=0.868 total time=   1.3s\n",
            "[CV 25/50] END .......................alpha=0.1;, score=0.867 total time=   1.4s\n",
            "[CV 26/50] END .......................alpha=0.1;, score=0.868 total time=   1.3s\n",
            "[CV 27/50] END .......................alpha=0.1;, score=0.868 total time=   1.3s\n",
            "[CV 28/50] END .......................alpha=0.1;, score=0.861 total time=   1.3s\n",
            "[CV 29/50] END .......................alpha=0.1;, score=0.867 total time=   1.2s\n",
            "[CV 30/50] END .......................alpha=0.1;, score=0.868 total time=   1.4s\n",
            "[CV 31/50] END .......................alpha=0.1;, score=0.869 total time=   1.3s\n",
            "[CV 32/50] END .......................alpha=0.1;, score=0.867 total time=   1.4s\n",
            "[CV 33/50] END .......................alpha=0.1;, score=0.866 total time=   1.3s\n",
            "[CV 34/50] END .......................alpha=0.1;, score=0.868 total time=   1.3s\n",
            "[CV 35/50] END .......................alpha=0.1;, score=0.866 total time=   1.3s\n",
            "[CV 36/50] END .......................alpha=0.1;, score=0.866 total time=   1.3s\n",
            "[CV 37/50] END .......................alpha=0.1;, score=0.869 total time=   1.3s\n",
            "[CV 38/50] END .......................alpha=0.1;, score=0.868 total time=   1.2s\n",
            "[CV 39/50] END .......................alpha=0.1;, score=0.866 total time=   1.2s\n",
            "[CV 40/50] END .......................alpha=0.1;, score=0.867 total time=   1.4s\n",
            "[CV 41/50] END .......................alpha=0.1;, score=0.868 total time=   1.4s\n",
            "[CV 42/50] END .......................alpha=0.1;, score=0.868 total time=   1.4s\n",
            "[CV 43/50] END .......................alpha=0.1;, score=0.864 total time=   1.4s\n",
            "[CV 44/50] END .......................alpha=0.1;, score=0.868 total time=   1.3s\n",
            "[CV 45/50] END .......................alpha=0.1;, score=0.867 total time=   1.3s\n",
            "[CV 46/50] END .......................alpha=0.1;, score=0.868 total time=   1.2s\n",
            "[CV 47/50] END .......................alpha=0.1;, score=0.866 total time=   1.2s\n",
            "[CV 48/50] END .......................alpha=0.1;, score=0.868 total time=   1.3s\n",
            "[CV 49/50] END .......................alpha=0.1;, score=0.867 total time=   1.1s\n",
            "[CV 50/50] END .......................alpha=0.1;, score=0.867 total time=   1.1s\n",
            "[CV 1/50] END ..........................alpha=1;, score=0.866 total time=   1.2s\n",
            "[CV 2/50] END ..........................alpha=1;, score=0.866 total time=   1.3s\n",
            "[CV 3/50] END ..........................alpha=1;, score=0.869 total time=   1.5s\n",
            "[CV 4/50] END ..........................alpha=1;, score=0.868 total time=   1.6s\n",
            "[CV 5/50] END ..........................alpha=1;, score=0.867 total time=   1.3s\n",
            "[CV 6/50] END ..........................alpha=1;, score=0.867 total time=   1.4s\n",
            "[CV 7/50] END ..........................alpha=1;, score=0.868 total time=   1.4s\n",
            "[CV 8/50] END ..........................alpha=1;, score=0.868 total time=   1.4s\n",
            "[CV 9/50] END ..........................alpha=1;, score=0.868 total time=   1.3s\n",
            "[CV 10/50] END .........................alpha=1;, score=0.866 total time=   1.4s\n",
            "[CV 11/50] END .........................alpha=1;, score=0.867 total time=   1.3s\n",
            "[CV 12/50] END .........................alpha=1;, score=0.867 total time=   1.6s\n",
            "[CV 13/50] END .........................alpha=1;, score=0.866 total time=   1.4s\n",
            "[CV 14/50] END .........................alpha=1;, score=0.867 total time=   1.5s\n",
            "[CV 15/50] END .........................alpha=1;, score=0.869 total time=   1.4s\n",
            "[CV 16/50] END .........................alpha=1;, score=0.866 total time=   1.4s\n",
            "[CV 17/50] END .........................alpha=1;, score=0.867 total time=   1.5s\n",
            "[CV 18/50] END .........................alpha=1;, score=0.868 total time=   1.4s\n",
            "[CV 19/50] END .........................alpha=1;, score=0.867 total time=   1.3s\n",
            "[CV 20/50] END .........................alpha=1;, score=0.868 total time=   1.3s\n",
            "[CV 21/50] END .........................alpha=1;, score=0.866 total time=   1.5s\n",
            "[CV 22/50] END .........................alpha=1;, score=0.866 total time=   1.4s\n",
            "[CV 23/50] END .........................alpha=1;, score=0.868 total time=   1.3s\n",
            "[CV 24/50] END .........................alpha=1;, score=0.868 total time=   1.3s\n",
            "[CV 25/50] END .........................alpha=1;, score=0.867 total time=   1.4s\n",
            "[CV 26/50] END .........................alpha=1;, score=0.868 total time=   1.6s\n",
            "[CV 27/50] END .........................alpha=1;, score=0.868 total time=   1.6s\n",
            "[CV 28/50] END .........................alpha=1;, score=0.861 total time=   1.5s\n",
            "[CV 29/50] END .........................alpha=1;, score=0.867 total time=   1.4s\n",
            "[CV 30/50] END .........................alpha=1;, score=0.868 total time=   1.6s\n",
            "[CV 31/50] END .........................alpha=1;, score=0.869 total time=   1.5s\n",
            "[CV 32/50] END .........................alpha=1;, score=0.867 total time=   1.5s\n",
            "[CV 33/50] END .........................alpha=1;, score=0.866 total time=   1.4s\n",
            "[CV 34/50] END .........................alpha=1;, score=0.868 total time=   1.4s\n",
            "[CV 35/50] END .........................alpha=1;, score=0.866 total time=   1.6s\n",
            "[CV 36/50] END .........................alpha=1;, score=0.866 total time=   1.6s\n",
            "[CV 37/50] END .........................alpha=1;, score=0.869 total time=   1.6s\n",
            "[CV 38/50] END .........................alpha=1;, score=0.868 total time=   1.5s\n",
            "[CV 39/50] END .........................alpha=1;, score=0.866 total time=   1.5s\n",
            "[CV 40/50] END .........................alpha=1;, score=0.867 total time=   1.3s\n",
            "[CV 41/50] END .........................alpha=1;, score=0.868 total time=   1.3s\n",
            "[CV 42/50] END .........................alpha=1;, score=0.868 total time=   1.4s\n",
            "[CV 43/50] END .........................alpha=1;, score=0.864 total time=   1.3s\n",
            "[CV 44/50] END .........................alpha=1;, score=0.868 total time=   1.5s\n",
            "[CV 45/50] END .........................alpha=1;, score=0.867 total time=   1.4s\n",
            "[CV 46/50] END .........................alpha=1;, score=0.868 total time=   1.3s\n",
            "[CV 47/50] END .........................alpha=1;, score=0.866 total time=   1.5s\n",
            "[CV 48/50] END .........................alpha=1;, score=0.868 total time=   1.3s\n",
            "[CV 49/50] END .........................alpha=1;, score=0.867 total time=   1.4s\n",
            "[CV 50/50] END .........................alpha=1;, score=0.867 total time=   1.4s\n",
            "[CV 1/50] END .........................alpha=10;, score=0.866 total time=   1.2s\n",
            "[CV 2/50] END .........................alpha=10;, score=0.866 total time=   1.2s\n",
            "[CV 3/50] END .........................alpha=10;, score=0.869 total time=   1.4s\n",
            "[CV 4/50] END .........................alpha=10;, score=0.868 total time=   1.4s\n",
            "[CV 5/50] END .........................alpha=10;, score=0.867 total time=   1.4s\n"
          ]
        },
        {
          "name": "stdout",
          "output_type": "stream",
          "text": [
            "[CV 6/50] END .........................alpha=10;, score=0.867 total time=   1.3s\n",
            "[CV 7/50] END .........................alpha=10;, score=0.868 total time=   1.2s\n",
            "[CV 8/50] END .........................alpha=10;, score=0.868 total time=   1.2s\n",
            "[CV 9/50] END .........................alpha=10;, score=0.868 total time=   1.2s\n",
            "[CV 10/50] END ........................alpha=10;, score=0.866 total time=   1.3s\n",
            "[CV 11/50] END ........................alpha=10;, score=0.867 total time=   1.2s\n",
            "[CV 12/50] END ........................alpha=10;, score=0.867 total time=   1.3s\n",
            "[CV 13/50] END ........................alpha=10;, score=0.866 total time=   1.2s\n",
            "[CV 14/50] END ........................alpha=10;, score=0.867 total time=   1.3s\n",
            "[CV 15/50] END ........................alpha=10;, score=0.869 total time=   1.4s\n",
            "[CV 16/50] END ........................alpha=10;, score=0.866 total time=   1.3s\n",
            "[CV 17/50] END ........................alpha=10;, score=0.867 total time=   1.2s\n",
            "[CV 18/50] END ........................alpha=10;, score=0.868 total time=   1.3s\n",
            "[CV 19/50] END ........................alpha=10;, score=0.867 total time=   1.2s\n",
            "[CV 20/50] END ........................alpha=10;, score=0.868 total time=   1.3s\n",
            "[CV 21/50] END ........................alpha=10;, score=0.866 total time=   1.3s\n",
            "[CV 22/50] END ........................alpha=10;, score=0.866 total time=   1.3s\n",
            "[CV 23/50] END ........................alpha=10;, score=0.868 total time=   1.3s\n",
            "[CV 24/50] END ........................alpha=10;, score=0.868 total time=   1.2s\n",
            "[CV 25/50] END ........................alpha=10;, score=0.867 total time=   1.2s\n",
            "[CV 26/50] END ........................alpha=10;, score=0.868 total time=   1.2s\n",
            "[CV 27/50] END ........................alpha=10;, score=0.868 total time=   1.1s\n",
            "[CV 28/50] END ........................alpha=10;, score=0.861 total time=   1.2s\n",
            "[CV 29/50] END ........................alpha=10;, score=0.867 total time=   1.2s\n",
            "[CV 30/50] END ........................alpha=10;, score=0.868 total time=   1.1s\n",
            "[CV 31/50] END ........................alpha=10;, score=0.869 total time=   1.3s\n",
            "[CV 32/50] END ........................alpha=10;, score=0.867 total time=   1.1s\n",
            "[CV 33/50] END ........................alpha=10;, score=0.866 total time=   1.3s\n",
            "[CV 34/50] END ........................alpha=10;, score=0.868 total time=   1.1s\n",
            "[CV 35/50] END ........................alpha=10;, score=0.866 total time=   1.2s\n",
            "[CV 36/50] END ........................alpha=10;, score=0.866 total time=   1.2s\n",
            "[CV 37/50] END ........................alpha=10;, score=0.869 total time=   1.2s\n",
            "[CV 38/50] END ........................alpha=10;, score=0.868 total time=   1.2s\n",
            "[CV 39/50] END ........................alpha=10;, score=0.866 total time=   1.1s\n",
            "[CV 40/50] END ........................alpha=10;, score=0.867 total time=   1.2s\n",
            "[CV 41/50] END ........................alpha=10;, score=0.868 total time=   1.2s\n",
            "[CV 42/50] END ........................alpha=10;, score=0.868 total time=   1.1s\n",
            "[CV 43/50] END ........................alpha=10;, score=0.864 total time=   1.2s\n",
            "[CV 44/50] END ........................alpha=10;, score=0.868 total time=   1.2s\n",
            "[CV 45/50] END ........................alpha=10;, score=0.867 total time=   1.2s\n",
            "[CV 46/50] END ........................alpha=10;, score=0.868 total time=   1.1s\n",
            "[CV 47/50] END ........................alpha=10;, score=0.866 total time=   1.2s\n",
            "[CV 48/50] END ........................alpha=10;, score=0.868 total time=   1.2s\n",
            "[CV 49/50] END ........................alpha=10;, score=0.867 total time=   1.1s\n",
            "[CV 50/50] END ........................alpha=10;, score=0.867 total time=   1.3s\n",
            "[CV 1/50] END ........................alpha=100;, score=0.866 total time=   1.2s\n",
            "[CV 2/50] END ........................alpha=100;, score=0.866 total time=   1.2s\n",
            "[CV 3/50] END ........................alpha=100;, score=0.869 total time=   1.2s\n",
            "[CV 4/50] END ........................alpha=100;, score=0.868 total time=   1.2s\n",
            "[CV 5/50] END ........................alpha=100;, score=0.867 total time=   1.2s\n",
            "[CV 6/50] END ........................alpha=100;, score=0.867 total time=   1.2s\n",
            "[CV 7/50] END ........................alpha=100;, score=0.868 total time=   1.2s\n",
            "[CV 8/50] END ........................alpha=100;, score=0.868 total time=   1.2s\n",
            "[CV 9/50] END ........................alpha=100;, score=0.868 total time=   1.3s\n",
            "[CV 10/50] END .......................alpha=100;, score=0.866 total time=   1.1s\n",
            "[CV 11/50] END .......................alpha=100;, score=0.867 total time=   1.2s\n",
            "[CV 12/50] END .......................alpha=100;, score=0.867 total time=   1.2s\n",
            "[CV 13/50] END .......................alpha=100;, score=0.866 total time=   1.2s\n",
            "[CV 14/50] END .......................alpha=100;, score=0.867 total time=   1.2s\n",
            "[CV 15/50] END .......................alpha=100;, score=0.869 total time=   1.1s\n",
            "[CV 16/50] END .......................alpha=100;, score=0.866 total time=   1.2s\n",
            "[CV 17/50] END .......................alpha=100;, score=0.867 total time=   1.2s\n",
            "[CV 18/50] END .......................alpha=100;, score=0.868 total time=   1.1s\n",
            "[CV 19/50] END .......................alpha=100;, score=0.867 total time=   1.2s\n",
            "[CV 20/50] END .......................alpha=100;, score=0.868 total time=   1.2s\n",
            "[CV 21/50] END .......................alpha=100;, score=0.866 total time=   1.1s\n",
            "[CV 22/50] END .......................alpha=100;, score=0.866 total time=   1.2s\n",
            "[CV 23/50] END .......................alpha=100;, score=0.868 total time=   1.2s\n",
            "[CV 24/50] END .......................alpha=100;, score=0.868 total time=   1.2s\n",
            "[CV 25/50] END .......................alpha=100;, score=0.867 total time=   1.2s\n",
            "[CV 26/50] END .......................alpha=100;, score=0.868 total time=   1.3s\n",
            "[CV 27/50] END .......................alpha=100;, score=0.868 total time=   1.2s\n",
            "[CV 28/50] END .......................alpha=100;, score=0.861 total time=   1.3s\n",
            "[CV 29/50] END .......................alpha=100;, score=0.867 total time=   1.2s\n",
            "[CV 30/50] END .......................alpha=100;, score=0.868 total time=   1.3s\n",
            "[CV 31/50] END .......................alpha=100;, score=0.869 total time=   1.3s\n",
            "[CV 32/50] END .......................alpha=100;, score=0.867 total time=   1.3s\n",
            "[CV 33/50] END .......................alpha=100;, score=0.866 total time=   1.2s\n",
            "[CV 34/50] END .......................alpha=100;, score=0.868 total time=   1.4s\n",
            "[CV 35/50] END .......................alpha=100;, score=0.866 total time=   1.2s\n",
            "[CV 36/50] END .......................alpha=100;, score=0.866 total time=   1.3s\n",
            "[CV 37/50] END .......................alpha=100;, score=0.869 total time=   1.2s\n",
            "[CV 38/50] END .......................alpha=100;, score=0.868 total time=   1.3s\n",
            "[CV 39/50] END .......................alpha=100;, score=0.866 total time=   1.1s\n",
            "[CV 40/50] END .......................alpha=100;, score=0.867 total time=   1.2s\n",
            "[CV 41/50] END .......................alpha=100;, score=0.868 total time=   1.2s\n",
            "[CV 42/50] END .......................alpha=100;, score=0.868 total time=   1.2s\n",
            "[CV 43/50] END .......................alpha=100;, score=0.864 total time=   1.3s\n",
            "[CV 44/50] END .......................alpha=100;, score=0.868 total time=   1.3s\n",
            "[CV 45/50] END .......................alpha=100;, score=0.867 total time=   1.2s\n",
            "[CV 46/50] END .......................alpha=100;, score=0.868 total time=   1.1s\n",
            "[CV 47/50] END .......................alpha=100;, score=0.866 total time=   1.3s\n",
            "[CV 48/50] END .......................alpha=100;, score=0.868 total time=   1.3s\n",
            "[CV 49/50] END .......................alpha=100;, score=0.867 total time=   1.3s\n",
            "[CV 50/50] END .......................alpha=100;, score=0.867 total time=   1.2s\n",
            "Best Score: 0.8670896342291694\n",
            "Best Hyperparameters: {'alpha': 100}\n"
          ]
        }
      ],
      "source": [
        "# Grid Search : Linear Regression for Squad\n",
        "search = GridSearchCV(model, param, cv=cv, verbose=3)\n",
        "resSquad = search.fit(squad_df.drop(['winPlacePerc'], axis = 1), squad_df['winPlacePerc'])\n",
        "\n",
        "# Result : Linear Regression for Squad Data\n",
        "print('Best Score: %s' % resSquad.best_score_)\n",
        "print('Best Hyperparameters: %s' % resSquad.best_params_)"
      ]
    },
    {
      "cell_type": "markdown",
      "metadata": {
        "id": "0gQWeTt18rPp"
      },
      "source": [
        "##### Benchmarking : "
      ]
    },
    {
      "cell_type": "code",
      "execution_count": null,
      "metadata": {
        "id": "iXV2dusc8rPp"
      },
      "outputs": [],
      "source": [
        "import warnings\n",
        "warnings.filterwarnings('ignore')"
      ]
    },
    {
      "cell_type": "code",
      "execution_count": null,
      "metadata": {
        "id": "3utZl7Pp8rPp",
        "outputId": "9e55f2f1-0409-40dc-ae76-b33227498033"
      },
      "outputs": [
        {
          "name": "stdout",
          "output_type": "stream",
          "text": [
            "---------------------------------------------------\n",
            " Paramater : \n",
            "Alpha :  1e-07\n",
            "Best Score: 0.9030150226209629\n",
            "Best Hyperparameters: {'alpha': 1e-07}\n",
            "---------------------------------------------------\n",
            " Paramater : \n",
            "Alpha :  1e-06\n",
            "Best Score: 0.9030150226209591\n",
            "Best Hyperparameters: {'alpha': 1e-06}\n",
            "---------------------------------------------------\n",
            " Paramater : \n",
            "Alpha :  1e-05\n",
            "Best Score: 0.9030150226209237\n",
            "Best Hyperparameters: {'alpha': 1e-05}\n",
            "---------------------------------------------------\n",
            " Paramater : \n",
            "Alpha :  0.0001\n",
            "Best Score: 0.9030150226205675\n",
            "Best Hyperparameters: {'alpha': 0.0001}\n",
            "---------------------------------------------------\n",
            " Paramater : \n",
            "Alpha :  0.001\n",
            "Best Score: 0.9030150226170067\n",
            "Best Hyperparameters: {'alpha': 0.001}\n",
            "---------------------------------------------------\n",
            " Paramater : \n",
            "Alpha :  0.01\n",
            "Best Score: 0.9030150225813918\n",
            "Best Hyperparameters: {'alpha': 0.01}\n",
            "---------------------------------------------------\n",
            " Paramater : \n",
            "Alpha :  0.1\n",
            "Best Score: 0.9030150222244786\n",
            "Best Hyperparameters: {'alpha': 0.1}\n",
            "---------------------------------------------------\n",
            " Paramater : \n",
            "Alpha :  1\n",
            "Best Score: 0.9030150185791057\n",
            "Best Hyperparameters: {'alpha': 1}\n",
            "---------------------------------------------------\n",
            " Paramater : \n",
            "Alpha :  10\n",
            "Best Score: 0.9030149745093616\n",
            "Best Hyperparameters: {'alpha': 10}\n",
            "---------------------------------------------------\n",
            " Paramater : \n",
            "Alpha :  100\n",
            "Best Score: 0.9030137804241819\n",
            "Best Hyperparameters: {'alpha': 100}\n"
          ]
        }
      ],
      "source": [
        " # For Linear Regression : Solo Group model\n",
        "df = solo_df\n",
        "cv = RepeatedKFold(n_splits=5, n_repeats=10, random_state=10)\n",
        "\n",
        "for alp in [1e-7,1e-6,1e-5, 1e-4, 1e-3, 1e-2, 1e-1, 1, 10, 100]:\n",
        "    param = {'alpha': [alp]}\n",
        "    model = Ridge()\n",
        "    search = GridSearchCV(model, param, cv=cv, verbose=0)\n",
        "    resSolo = search.fit(df.drop(['winPlacePerc'], axis = 1), df['winPlacePerc'])\n",
        "    \n",
        "    # Result : Linear Regression for Solo Data\n",
        "    print('---------------------------------------------------\\n Paramater : ')\n",
        "    print(\"Alpha : \",alp)\n",
        "    print('Best Score: %s' % resSolo.best_score_)\n",
        "    print('Best Hyperparameters: %s' % resSolo.best_params_)\n",
        "    "
      ]
    },
    {
      "cell_type": "code",
      "execution_count": null,
      "metadata": {
        "id": "9MMkIctR8rPp",
        "outputId": "2efee485-e4c3-471d-9213-fbc6d331f018"
      },
      "outputs": [
        {
          "name": "stdout",
          "output_type": "stream",
          "text": [
            "---------------------------------------------------\n",
            " Paramater : \n",
            "Alpha :  1e-07\n",
            "Best Score: 0.8918107597551744\n",
            "Best Hyperparameters: {'alpha': 1e-07}\n",
            "---------------------------------------------------\n",
            " Paramater : \n",
            "Alpha :  1e-06\n",
            "Best Score: 0.8918107597553199\n",
            "Best Hyperparameters: {'alpha': 1e-06}\n",
            "---------------------------------------------------\n",
            " Paramater : \n",
            "Alpha :  1e-05\n",
            "Best Score: 0.8918107597567841\n",
            "Best Hyperparameters: {'alpha': 1e-05}\n",
            "---------------------------------------------------\n",
            " Paramater : \n",
            "Alpha :  0.0001\n",
            "Best Score: 0.891810759771423\n",
            "Best Hyperparameters: {'alpha': 0.0001}\n",
            "---------------------------------------------------\n",
            " Paramater : \n",
            "Alpha :  0.001\n",
            "Best Score: 0.8918107599178035\n",
            "Best Hyperparameters: {'alpha': 0.001}\n",
            "---------------------------------------------------\n",
            " Paramater : \n",
            "Alpha :  0.01\n",
            "Best Score: 0.891810761381029\n",
            "Best Hyperparameters: {'alpha': 0.01}\n",
            "---------------------------------------------------\n",
            " Paramater : \n",
            "Alpha :  0.1\n",
            "Best Score: 0.891810775954864\n",
            "Best Hyperparameters: {'alpha': 0.1}\n",
            "---------------------------------------------------\n",
            " Paramater : \n",
            "Alpha :  1\n",
            "Best Score: 0.8918109160510385\n",
            "Best Hyperparameters: {'alpha': 1}\n",
            "---------------------------------------------------\n",
            " Paramater : \n",
            "Alpha :  10\n",
            "Best Score: 0.8918119034357299\n",
            "Best Hyperparameters: {'alpha': 10}\n",
            "---------------------------------------------------\n",
            " Paramater : \n",
            "Alpha :  100\n",
            "Best Score: 0.8918133584503248\n",
            "Best Hyperparameters: {'alpha': 100}\n"
          ]
        }
      ],
      "source": [
        " # For Linear Regression Dual data\n",
        "df = duo_df\n",
        "cv = RepeatedKFold(n_splits=5, n_repeats=10, random_state=10)\n",
        "\n",
        "for alp in [1e-7,1e-6,1e-5, 1e-4, 1e-3, 1e-2, 1e-1, 1, 10, 100]:\n",
        "    param = {'alpha': [alp]}\n",
        "    model = Ridge()\n",
        "    search = GridSearchCV(model, param, cv=cv, verbose=0)\n",
        "    resSolo = search.fit(df.drop(['winPlacePerc'], axis = 1), df['winPlacePerc'])\n",
        "    \n",
        "    # Result : Linear Regression for Solo Data\n",
        "    print('---------------------------------------------------\\n Paramater : ')\n",
        "    print(\"Alpha : \",alp)\n",
        "    print('Best Score: %s' % resSolo.best_score_)\n",
        "    print('Best Hyperparameters: %s' % resSolo.best_params_)\n",
        "    "
      ]
    },
    {
      "cell_type": "code",
      "execution_count": null,
      "metadata": {
        "id": "3WiqLcVm8rPp",
        "outputId": "b8557092-f7c2-45c5-8fe7-aa44f5c6cb3d"
      },
      "outputs": [
        {
          "name": "stdout",
          "output_type": "stream",
          "text": [
            "---------------------------------------------------\n",
            " Paramater : \n",
            "Alpha :  1e-07\n",
            "Best Score: 0.8670887324596849\n",
            "Best Hyperparameters: {'alpha': 1e-07}\n",
            "---------------------------------------------------\n",
            " Paramater : \n",
            "Alpha :  1e-06\n",
            "Best Score: 0.8670887324596939\n",
            "Best Hyperparameters: {'alpha': 1e-06}\n",
            "---------------------------------------------------\n",
            " Paramater : \n",
            "Alpha :  1e-05\n",
            "Best Score: 0.8670887324597838\n",
            "Best Hyperparameters: {'alpha': 1e-05}\n",
            "---------------------------------------------------\n",
            " Paramater : \n",
            "Alpha :  0.0001\n",
            "Best Score: 0.8670887324606825\n",
            "Best Hyperparameters: {'alpha': 0.0001}\n",
            "---------------------------------------------------\n",
            " Paramater : \n",
            "Alpha :  0.001\n",
            "Best Score: 0.8670887324696693\n",
            "Best Hyperparameters: {'alpha': 0.001}\n",
            "---------------------------------------------------\n",
            " Paramater : \n",
            "Alpha :  0.01\n",
            "Best Score: 0.8670887325595352\n",
            "Best Hyperparameters: {'alpha': 0.01}\n",
            "---------------------------------------------------\n",
            " Paramater : \n",
            "Alpha :  0.1\n",
            "Best Score: 0.8670887334581046\n",
            "Best Hyperparameters: {'alpha': 0.1}\n",
            "---------------------------------------------------\n",
            " Paramater : \n",
            "Alpha :  1\n",
            "Best Score: 0.8670887424348155\n",
            "Best Hyperparameters: {'alpha': 1}\n",
            "---------------------------------------------------\n",
            " Paramater : \n",
            "Alpha :  10\n",
            "Best Score: 0.8670888313072785\n",
            "Best Hyperparameters: {'alpha': 10}\n",
            "---------------------------------------------------\n",
            " Paramater : \n",
            "Alpha :  100\n",
            "Best Score: 0.8670896342291694\n",
            "Best Hyperparameters: {'alpha': 100}\n"
          ]
        }
      ],
      "source": [
        " # For Linear Regression Squad Data\n",
        "df = squad_df\n",
        "cv = RepeatedKFold(n_splits=5, n_repeats=10, random_state=10)\n",
        "\n",
        "for alp in [1e-7,1e-6,1e-5, 1e-4, 1e-3, 1e-2, 1e-1, 1, 10, 100]:\n",
        "    param = {'alpha': [alp]}\n",
        "    model = Ridge()\n",
        "    search = GridSearchCV(model, param, cv=cv, verbose=0)\n",
        "    resSolo = search.fit(df.drop(['winPlacePerc'], axis = 1), df['winPlacePerc'])\n",
        "    \n",
        "    # Result : Linear Regression for Solo Data\n",
        "    print('---------------------------------------------------\\n Paramater : ')\n",
        "    print(\"Alpha : \",alp)\n",
        "    print('Best Score: %s' % resSolo.best_score_)\n",
        "    print('Best Hyperparameters: %s' % resSolo.best_params_)\n",
        "    "
      ]
    },
    {
      "cell_type": "code",
      "execution_count": null,
      "metadata": {
        "id": "x6XLeopb9j3p"
      },
      "outputs": [],
      "source": []
    }
  ],
  "metadata": {
    "accelerator": "GPU",
    "colab": {
      "collapsed_sections": [
        "6Y3yAy1mJHV8",
        "eqPzY5_0NS6i",
        "Ubeaf4PeJvFq",
        "sczd730b5cLD",
        "34kl94UVix16",
        "hWTQ8Ww1uSeI",
        "ckBTPJ9z9r3H",
        "_cetuuelt4ov",
        "2C9U0OPsuDEv",
        "uUr84odivErL"
      ],
      "provenance": []
    },
    "gpuClass": "standard",
    "kernelspec": {
      "display_name": "Python 3 (ipykernel)",
      "language": "python",
      "name": "python3"
    },
    "language_info": {
      "codemirror_mode": {
        "name": "ipython",
        "version": 3
      },
      "file_extension": ".py",
      "mimetype": "text/x-python",
      "name": "python",
      "nbconvert_exporter": "python",
      "pygments_lexer": "ipython3",
      "version": "3.9.13"
    }
  },
  "nbformat": 4,
  "nbformat_minor": 0
}
